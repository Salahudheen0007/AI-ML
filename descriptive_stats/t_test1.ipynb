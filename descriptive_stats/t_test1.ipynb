{
 "cells": [
  {
   "cell_type": "code",
   "execution_count": 1,
   "id": "89444927",
   "metadata": {},
   "outputs": [],
   "source": [
    "import numpy as np\n",
    "from scipy import stats\n"
   ]
  },
  {
   "cell_type": "code",
   "execution_count": 5,
   "id": "8bd3e6eb",
   "metadata": {},
   "outputs": [
    {
     "name": "stdout",
     "output_type": "stream",
     "text": [
      "t stat-->-0.23,p values-->0.8270\n",
      "fail to reject Ho\n"
     ]
    }
   ],
   "source": [
    "# t test\n",
    "\n",
    "scores = [65, 70, 68, 72, 66, 75, 60, 80]\n",
    "t_stat,p_value = stats.ttest_1samp(scores,popmean=70)\n",
    "print(f\"t stat-->{t_stat:.2f},p values-->{p_value:.4f}\")\n",
    "\n",
    "\n",
    "alpha = 0.5\n",
    "if p_value < alpha :\n",
    "    print(f\"reject Ho  mean is significantly diff from the 70\")\n",
    "else:\n",
    "    print(f\"fail to reject Ho\")"
   ]
  },
  {
   "cell_type": "code",
   "execution_count": null,
   "id": "5fa8a8e8",
   "metadata": {},
   "outputs": [],
   "source": [
    "import math\n",
    "from scipy.stats import t\n",
    "\n",
    "# Sample data\n",
    "data = [72, 75, 78, 71, 69, 74, 77]\n",
    "n = len(data)\n",
    "mu_0 = 70  # Null hypothesis mean\n",
    "\n",
    "# Step 1: Calculate sample mean\n",
    "mean = sum(data) / n\n",
    "\n",
    "# Step 2: Calculate sample standard deviation\n",
    "sum_sq = 0\n",
    "for x in data:\n",
    "    sum_sq += (x - mean) ** 2\n",
    "std_dev = math.sqrt(sum_sq / (n - 1))\n",
    "\n",
    "# Step 3: Calculate t-statistic\n",
    "t_stat = (mean - mu_0) / (std_dev / math.sqrt(n))\n",
    "\n",
    "# Step 4: Calculate p-value (right-tailed)\n",
    "p_value = 1 - t.cdf(t_stat, df=n-1)\n",
    "# p_value = t.cdf(t_stat, df=n-1)  # ➜ left-tailed\n",
    "# Two-tailed p-value\n",
    "# p_value = 2 * (1 - t.cdf(abs(t_stat), df=n - 1))\n",
    "\n",
    "\n",
    "print(f\"Sample Mean: {mean:.2f}\")\n",
    "print(f\"t-statistic: {t_stat:.4f}\")\n",
    "print(f\"p-value (one-tailed): {p_value:.4f}\")\n"
   ]
  },
  {
   "cell_type": "code",
   "execution_count": null,
   "id": "f6ff5aeb",
   "metadata": {},
   "outputs": [],
   "source": [
    "import math\n",
    "from scipy.stats import t\n",
    "\n",
    "group1 = [12, 14, 15, 13, 16]\n",
    "group2 = [10, 11, 13, 9, 12]\n",
    "\n",
    "n1 = len(group1)\n",
    "n2 = len(group2)\n",
    "\n",
    "mean1 = sum(group1) / n1\n",
    "mean2 = sum(group2) / n2\n",
    "\n",
    "\n",
    "var1 = sum((x - mean1) ** 2 for x in group1) / (n1 - 1)\n",
    "var2 = sum((x - mean2) ** 2 for x in group2) / (n2 - 1)\n",
    "\n",
    "sp = math.sqrt(((n1 - 1)*var1 + (n2 - 1)*var2) / (n1 + n2 - 2))\n",
    "\n",
    "t_stat = (mean1 - mean2) / (sp * math.sqrt(1/n1 + 1/n2))\n",
    "\n",
    "\n",
    "df = n1 + n2 - 2\n",
    "\n",
    "p_value = 2 * (1 - t.cdf(abs(t_stat), df))\n",
    "\n",
    "print(f\"Mean1: {mean1:.2f}, Mean2: {mean2:.2f}\")\n",
    "print(f\"t-statistic: {t_stat:.4f}\")\n",
    "print(f\"p-value (two-tailed): {p_value:.4f}\")\n"
   ]
  },
  {
   "cell_type": "code",
   "execution_count": 6,
   "id": "90356781",
   "metadata": {},
   "outputs": [
    {
     "data": {
      "text/plain": [
       "TtestResult(statistic=np.float64(-1.6464638998453784), pvalue=np.float64(0.1382848832374163), df=np.float64(8.0))"
      ]
     },
     "execution_count": 6,
     "metadata": {},
     "output_type": "execute_result"
    }
   ],
   "source": [
    "b1 = np.array([49.5, 50.1, 49.8, 50.3, 50])\n",
    "b2 = np.array([50.4, 49.9, 50.6, 50.2, 50.1])\n",
    "stats.ttest_ind(b1,b2)"
   ]
  },
  {
   "cell_type": "code",
   "execution_count": null,
   "id": "ba1c787b",
   "metadata": {},
   "outputs": [],
   "source": []
  }
 ],
 "metadata": {
  "kernelspec": {
   "display_name": ".venv",
   "language": "python",
   "name": "python3"
  },
  "language_info": {
   "codemirror_mode": {
    "name": "ipython",
    "version": 3
   },
   "file_extension": ".py",
   "mimetype": "text/x-python",
   "name": "python",
   "nbconvert_exporter": "python",
   "pygments_lexer": "ipython3",
   "version": "3.13.5"
  }
 },
 "nbformat": 4,
 "nbformat_minor": 5
}
