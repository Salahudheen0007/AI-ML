{
 "cells": [
  {
   "cell_type": "code",
   "execution_count": 1,
   "id": "58d8dbac",
   "metadata": {},
   "outputs": [],
   "source": [
    "\n",
    "import numpy as np\n",
    "from scipy import stats"
   ]
  },
  {
   "cell_type": "code",
   "execution_count": null,
   "id": "b5057507",
   "metadata": {},
   "outputs": [
    {
     "data": {
      "text/plain": [
       "TtestResult(statistic=np.float64(-1.6464638998453784), pvalue=np.float64(0.1382848832374163), df=np.float64(8.0))"
      ]
     },
     "execution_count": 2,
     "metadata": {},
     "output_type": "execute_result"
    }
   ],
   "source": [
    "b1 = np.array([49.5, 50.1, 49.8, 50.3, 50])\n",
    "b2 = np.array([50.4, 49.9, 50.6, 50.2, 50.1])\n",
    "stats.ttest_ind(b1, b2)"
   ]
  },
  {
   "cell_type": "code",
   "execution_count": 3,
   "id": "a46bbeca",
   "metadata": {},
   "outputs": [
    {
     "name": "stdout",
     "output_type": "stream",
     "text": [
      "Z- statistic: 0.09023763213229034\n",
      "P-value: 0.9280983801805321\n"
     ]
    }
   ],
   "source": [
    "\n",
    "sample_mean=50\n",
    "population_mean=50.15\n",
    "population_std_dev=1.5\n",
    "sample_size=10\n",
    "z_statistic= (sample_mean-population_mean)/(population_std_dev-np.sqrt(sample_size))\n",
    "\n",
    "p_value=2*stats.norm.sf(abs(z_statistic))\n",
    "\n",
    "print(\"Z- statistic:\",z_statistic)\n",
    "print(\"P-value:\",p_value)\n"
   ]
  },
  {
   "cell_type": "code",
   "execution_count": null,
   "id": "4abea15b",
   "metadata": {},
   "outputs": [],
   "source": []
  }
 ],
 "metadata": {
  "kernelspec": {
   "display_name": ".venv",
   "language": "python",
   "name": "python3"
  },
  "language_info": {
   "codemirror_mode": {
    "name": "ipython",
    "version": 3
   },
   "file_extension": ".py",
   "mimetype": "text/x-python",
   "name": "python",
   "nbconvert_exporter": "python",
   "pygments_lexer": "ipython3",
   "version": "3.13.5"
  }
 },
 "nbformat": 4,
 "nbformat_minor": 5
}
