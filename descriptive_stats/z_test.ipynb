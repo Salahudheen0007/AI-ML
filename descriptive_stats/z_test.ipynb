{
 "cells": [
  {
   "cell_type": "code",
   "execution_count": 9,
   "id": "b859b579",
   "metadata": {},
   "outputs": [],
   "source": [
    "import numpy as np\n",
    "import pandas as pd\n",
    "from scipy.stats import norm\n",
    "import math\n",
    "\n"
   ]
  },
  {
   "cell_type": "code",
   "execution_count": null,
   "id": "bab83f06",
   "metadata": {},
   "outputs": [
    {
     "name": "stdout",
     "output_type": "stream",
     "text": [
      "Z-statistic: -1.05, P-value: 0.2918\n",
      "Fail to reject H0: No significant difference\n"
     ]
    }
   ],
   "source": [
    "sample_mean = 980\n",
    "pop_mean = 1000\n",
    "pop_std= 120\n",
    "n = 40\n",
    "\n",
    "\n",
    "z = (sample_mean-pop_mean)/(pop_std/math.sqrt(n))\n",
    "\n",
    "p_value = 2*(1-norm.cdf(abs(z))) # 2 tailed test\n",
    "# Right-tailed (H1: sample_mean > population_mean)\n",
    "# p_value = 1 - norm.cdf(z)\n",
    "\n",
    "# # Left-tailed (H1: sample_mean < population_mean)\n",
    "# p_value = norm.cdf(z)\n",
    "\n",
    "\n",
    "print(f\"Z-statistic: {z:.2f}, P-value: {p_value:.4f}\")\n",
    "alpha = 0.05\n",
    "if p_value < alpha:\n",
    "    print(\"Reject H0: Significant difference\")\n",
    "else:\n",
    "    print(\"Fail to reject H0: No significant difference\")"
   ]
  },
  {
   "cell_type": "code",
   "execution_count": null,
   "id": "b9b3b603",
   "metadata": {},
   "outputs": [],
   "source": [
    "import math\n",
    "from scipy.stats import norm\n",
    "\n",
    "\n",
    "x1_bar = 100    \n",
    "x2_bar = 95     \n",
    "n1 = 40         \n",
    "n2 = 35         \n",
    "sigma1 = 10     \n",
    "sigma2 = 8      \n",
    "\n",
    "z = (x1_bar - x2_bar) / math.sqrt((sigma1**2)/n1 + (sigma2**2)/n2)\n",
    "\n",
    "# Two-tailed p-value\n",
    "p = 2 * (1 - norm.cdf(abs(z)))\n",
    "\n",
    "print(f\"Z statistic: {z:.4f}\")\n",
    "print(f\"p-value: {p:.4f}\")\n"
   ]
  }
 ],
 "metadata": {
  "kernelspec": {
   "display_name": ".venv",
   "language": "python",
   "name": "python3"
  },
  "language_info": {
   "codemirror_mode": {
    "name": "ipython",
    "version": 3
   },
   "file_extension": ".py",
   "mimetype": "text/x-python",
   "name": "python",
   "nbconvert_exporter": "python",
   "pygments_lexer": "ipython3",
   "version": "3.13.5"
  }
 },
 "nbformat": 4,
 "nbformat_minor": 5
}
