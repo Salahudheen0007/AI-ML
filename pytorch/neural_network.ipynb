{
 "cells": [
  {
   "cell_type": "code",
   "execution_count": 2,
   "metadata": {
    "executionInfo": {
     "elapsed": 9357,
     "status": "ok",
     "timestamp": 1755599153888,
     "user": {
      "displayName": "Salahudheen",
      "userId": "11040694043421491426"
     },
     "user_tz": -330
    },
    "id": "qW6-tHJtxB6h"
   },
   "outputs": [],
   "source": [
    "import os\n",
    "import pandas as pd\n",
    "from torch.utils.data import Dataset\n",
    "from torchvision.io import decode_image"
   ]
  },
  {
   "cell_type": "code",
   "execution_count": 3,
   "metadata": {
    "executionInfo": {
     "elapsed": 8,
     "status": "ok",
     "timestamp": 1755599159638,
     "user": {
      "displayName": "Salahudheen",
      "userId": "11040694043421491426"
     },
     "user_tz": -330
    },
    "id": "eAVUofqtxB1u"
   },
   "outputs": [],
   "source": [
    "class CustomImageDataset(Dataset):\n",
    "  def __init__(self,annotations_file,img_dir,tranform = None,target_transform = None):\n",
    "    self.img_labels = pd.read_csv(annotations_file)\n",
    "    self.img_dir = img_dir\n",
    "    self.tranform = tranform\n",
    "    self.target_transform = target_transform\n",
    "\n",
    "  def __len__(self):\n",
    "    return len(self.img_labels)\n",
    "\n",
    "  def __getitem__(self,idx):\n",
    "    img_path = os.path.join(self.img_dir,self.img_labels.iloc[idx,0])\n",
    "    image = decode_image(img_path)\n",
    "    label = self.img_labels.iloc[idx,1]\n",
    "    if self.tranform:\n",
    "      image = self.tranform(image)\n",
    "    if self.target_transform:\n",
    "      label = self.target_transform(label)\n",
    "    return image,label"
   ]
  },
  {
   "cell_type": "code",
   "execution_count": 6,
   "metadata": {
    "executionInfo": {
     "elapsed": 14,
     "status": "ok",
     "timestamp": 1755599212611,
     "user": {
      "displayName": "Salahudheen",
      "userId": "11040694043421491426"
     },
     "user_tz": -330
    },
    "id": "LF1HFLbMxBlb"
   },
   "outputs": [],
   "source": [
    "train_datasetloader = CustomImageDataset(\"C:/AI_ML_fresh/pytorch/annotations - Sheet1.csv\",\"C:/AI_ML_fresh/pytorch/train\")"
   ]
  },
  {
   "cell_type": "code",
   "execution_count": 7,
   "metadata": {
    "colab": {
     "base_uri": "https://localhost:8080/"
    },
    "executionInfo": {
     "elapsed": 23,
     "status": "ok",
     "timestamp": 1755599216695,
     "user": {
      "displayName": "Salahudheen",
      "userId": "11040694043421491426"
     },
     "user_tz": -330
    },
    "id": "d-ESrKibxSxd",
    "outputId": "0dbc376a-12f2-4aa6-bb4f-27ef1b0c2523"
   },
   "outputs": [
    {
     "data": {
      "text/plain": [
       "2"
      ]
     },
     "execution_count": 7,
     "metadata": {},
     "output_type": "execute_result"
    }
   ],
   "source": [
    "train_datasetloader.__len__()"
   ]
  },
  {
   "cell_type": "code",
   "execution_count": 7,
   "metadata": {
    "executionInfo": {
     "elapsed": 18,
     "status": "ok",
     "timestamp": 1755599219659,
     "user": {
      "displayName": "Salahudheen",
      "userId": "11040694043421491426"
     },
     "user_tz": -330
    },
    "id": "DrMv4XLWrJd4"
   },
   "outputs": [],
   "source": [
    "import torch\n",
    "import torch.nn as nn\n",
    "import torch.optim as optim\n",
    "import torchvision\n",
    "import torchvision.transforms as transforms"
   ]
  },
  {
   "cell_type": "markdown",
   "metadata": {
    "id": "8Lr5em69rouZ"
   },
   "source": [
    "### load dataset from the library"
   ]
  },
  {
   "cell_type": "code",
   "execution_count": 8,
   "metadata": {
    "colab": {
     "base_uri": "https://localhost:8080/"
    },
    "executionInfo": {
     "elapsed": 3891,
     "status": "ok",
     "timestamp": 1755599227224,
     "user": {
      "displayName": "Salahudheen",
      "userId": "11040694043421491426"
     },
     "user_tz": -330
    },
    "id": "WMAn-QEarYys",
    "outputId": "faddb35c-0802-4615-ac08-567658409c89"
   },
   "outputs": [
    {
     "name": "stderr",
     "output_type": "stream",
     "text": [
      "100%|██████████| 9.91M/9.91M [00:00<00:00, 17.9MB/s]\n",
      "100%|██████████| 28.9k/28.9k [00:00<00:00, 479kB/s]\n",
      "100%|██████████| 1.65M/1.65M [00:00<00:00, 4.49MB/s]\n",
      "100%|██████████| 4.54k/4.54k [00:00<00:00, 6.25MB/s]\n"
     ]
    }
   ],
   "source": [
    "transform = transforms.Compose([transforms.ToTensor(),\n",
    "                                transforms.Normalize((0.5,),(0.5,))])\n",
    "trainset = torchvision.datasets.MNIST(root='./data',train = True,download=True,transform=transform)\n",
    "trainloader = torch.utils.data.DataLoader(trainset,batch_size = 64,shuffle = True)\n",
    "testset = torchvision.datasets.MNIST(root='./data',train = False,download=True,transform=transform)\n",
    "testloader = torch.utils.data.DataLoader(testset,batch_size = 64,shuffle = False)\n"
   ]
  },
  {
   "cell_type": "code",
   "execution_count": 9,
   "metadata": {
    "executionInfo": {
     "elapsed": 10,
     "status": "ok",
     "timestamp": 1755599230494,
     "user": {
      "displayName": "Salahudheen",
      "userId": "11040694043421491426"
     },
     "user_tz": -330
    },
    "id": "HIdcUSz4suu3"
   },
   "outputs": [],
   "source": [
    "class SimpleDNN(nn.Module):\n",
    "  def __init__(self):\n",
    "    super(SimpleDNN,self).__init__()\n",
    "    self.fc1 = nn.Linear(28*28,256)\n",
    "    self.fc2 = nn.Linear(256,128)\n",
    "    self.fc3 = nn.Linear(128,10)\n",
    "    self.relu = nn.ReLU()\n",
    "    self.dropout = nn.Dropout(0.2)\n",
    "\n",
    "  def forward(self,x):\n",
    "    x = x.view(-1,28*28)  # flatten the image\n",
    "    x = self.relu(self.fc1(x))\n",
    "    x = self.dropout(x)\n",
    "    x = self.relu(self.fc2(x))\n",
    "    x = self.dropout(x)\n",
    "    x = self.fc3(x)\n",
    "    return x\n",
    "\n"
   ]
  },
  {
   "cell_type": "code",
   "execution_count": 10,
   "metadata": {
    "colab": {
     "base_uri": "https://localhost:8080/"
    },
    "executionInfo": {
     "elapsed": 269,
     "status": "ok",
     "timestamp": 1755599233458,
     "user": {
      "displayName": "Salahudheen",
      "userId": "11040694043421491426"
     },
     "user_tz": -330
    },
    "id": "mdOLtQM2tBDz",
    "outputId": "ddaa9484-4c5e-480b-b313-d77ca433af97"
   },
   "outputs": [
    {
     "name": "stdout",
     "output_type": "stream",
     "text": [
      "cuda\n"
     ]
    }
   ],
   "source": [
    "device = torch.device(\"cuda\" if torch.cuda.is_available() else \"cpu\")\n",
    "model = SimpleDNN().to(device)\n",
    "criterion = nn.CrossEntropyLoss()\n",
    "optimizer = optim.Adam(model.parameters(),lr = 0.001)\n",
    "print(device)"
   ]
  },
  {
   "cell_type": "code",
   "execution_count": 13,
   "metadata": {
    "colab": {
     "base_uri": "https://localhost:8080/"
    },
    "executionInfo": {
     "elapsed": 70532,
     "status": "ok",
     "timestamp": 1755599447784,
     "user": {
      "displayName": "Salahudheen",
      "userId": "11040694043421491426"
     },
     "user_tz": -330
    },
    "id": "PXkqlL-vvL8f",
    "outputId": "08df6e2c-e902-457c-b157-29f3e95e5d44"
   },
   "outputs": [
    {
     "name": "stdout",
     "output_type": "stream",
     "text": [
      "Epoch [1/5],loss: 0.0951\n",
      "Epoch [2/5],loss: 0.0931\n",
      "Epoch [3/5],loss: 0.0865\n",
      "Epoch [4/5],loss: 0.0845\n",
      "Epoch [5/5],loss: 0.0791\n"
     ]
    }
   ],
   "source": [
    "epochs = 5\n",
    "for epoch in range(epochs):\n",
    "  running_loss = 0.0\n",
    "  for images,labels in trainloader:\n",
    "    images,labels = images.to(device),labels.to(device)\n",
    "\n",
    "    optimizer.zero_grad()\n",
    "    outputs = model(images)\n",
    "    loss = criterion(outputs,labels)\n",
    "    loss.backward()\n",
    "    optimizer.step()\n",
    "\n",
    "    running_loss+= loss.item()\n",
    "  print(f\"Epoch [{epoch+1}/{epochs}],loss: {running_loss/len(trainloader):.4f}\")"
   ]
  },
  {
   "cell_type": "markdown",
   "metadata": {
    "id": "_wn-he4ix5WN"
   },
   "source": [
    "### Evaluate Model"
   ]
  },
  {
   "cell_type": "code",
   "execution_count": 18,
   "metadata": {
    "colab": {
     "base_uri": "https://localhost:8080/"
    },
    "executionInfo": {
     "elapsed": 2394,
     "status": "ok",
     "timestamp": 1755598054167,
     "user": {
      "displayName": "Salahudheen",
      "userId": "11040694043421491426"
     },
     "user_tz": -330
    },
    "id": "7ucdVRbyv0gq",
    "outputId": "89db0369-6b30-4755-d602-0a798730f2e6"
   },
   "outputs": [
    {
     "name": "stdout",
     "output_type": "stream",
     "text": [
      "test accuracy : 97.18%\n"
     ]
    }
   ],
   "source": [
    "correct = 0\n",
    "total = 0\n",
    "model.eval()\n",
    "with torch.no_grad():\n",
    "  for images,labels in  testloader:\n",
    "    images,labels = images.to(device),labels.to(device)\n",
    "    outputs = model(images)\n",
    "    _,predicted = torch.max(outputs,1)\n",
    "    total += labels.size(0)\n",
    "    correct += (predicted == labels).sum().item()\n",
    "print(f\"test accuracy : {100*correct /total:.2f}%\")"
   ]
  },
  {
   "cell_type": "code",
   "execution_count": null,
   "metadata": {
    "id": "UW-kP97vzFka"
   },
   "outputs": [],
   "source": []
  }
 ],
 "metadata": {
  "accelerator": "GPU",
  "colab": {
   "authorship_tag": "ABX9TyOjeHHwLtBODgAkneAy9ZZ3",
   "gpuType": "T4",
   "provenance": []
  },
  "kernelspec": {
   "display_name": ".venv",
   "language": "python",
   "name": "python3"
  },
  "language_info": {
   "codemirror_mode": {
    "name": "ipython",
    "version": 3
   },
   "file_extension": ".py",
   "mimetype": "text/x-python",
   "name": "python",
   "nbconvert_exporter": "python",
   "pygments_lexer": "ipython3",
   "version": "3.13.5"
  }
 },
 "nbformat": 4,
 "nbformat_minor": 0
}
