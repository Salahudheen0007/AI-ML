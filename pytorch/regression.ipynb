{
 "cells": [
  {
   "cell_type": "code",
   "execution_count": 1,
   "id": "1b32527b",
   "metadata": {},
   "outputs": [],
   "source": [
    "import pandas as pd\n",
    "import numpy as np"
   ]
  },
  {
   "cell_type": "code",
   "execution_count": 2,
   "id": "b2608a32",
   "metadata": {},
   "outputs": [
    {
     "data": {
      "text/html": [
       "<div>\n",
       "<style scoped>\n",
       "    .dataframe tbody tr th:only-of-type {\n",
       "        vertical-align: middle;\n",
       "    }\n",
       "\n",
       "    .dataframe tbody tr th {\n",
       "        vertical-align: top;\n",
       "    }\n",
       "\n",
       "    .dataframe thead th {\n",
       "        text-align: right;\n",
       "    }\n",
       "</style>\n",
       "<table border=\"1\" class=\"dataframe\">\n",
       "  <thead>\n",
       "    <tr style=\"text-align: right;\">\n",
       "      <th></th>\n",
       "      <th>ID</th>\n",
       "      <th>Date House was Sold</th>\n",
       "      <th>Sale Price</th>\n",
       "      <th>No of Bedrooms</th>\n",
       "      <th>No of Bathrooms</th>\n",
       "      <th>Flat Area (in Sqft)</th>\n",
       "      <th>Lot Area (in Sqft)</th>\n",
       "      <th>No of Floors</th>\n",
       "      <th>Waterfront View</th>\n",
       "      <th>No of Times Visited</th>\n",
       "      <th>...</th>\n",
       "      <th>Overall Grade</th>\n",
       "      <th>Area of the House from Basement (in Sqft)</th>\n",
       "      <th>Basement Area (in Sqft)</th>\n",
       "      <th>Age of House (in Years)</th>\n",
       "      <th>Renovated Year</th>\n",
       "      <th>Zipcode</th>\n",
       "      <th>Latitude</th>\n",
       "      <th>Longitude</th>\n",
       "      <th>Living Area after Renovation (in Sqft)</th>\n",
       "      <th>Lot Area after Renovation (in Sqft)</th>\n",
       "    </tr>\n",
       "  </thead>\n",
       "  <tbody>\n",
       "    <tr>\n",
       "      <th>0</th>\n",
       "      <td>7129300520</td>\n",
       "      <td>14 October 2017</td>\n",
       "      <td>221900.0</td>\n",
       "      <td>3</td>\n",
       "      <td>1.00</td>\n",
       "      <td>1180.0</td>\n",
       "      <td>5650.0</td>\n",
       "      <td>1.0</td>\n",
       "      <td>No</td>\n",
       "      <td>NaN</td>\n",
       "      <td>...</td>\n",
       "      <td>7</td>\n",
       "      <td>1180.0</td>\n",
       "      <td>0</td>\n",
       "      <td>63</td>\n",
       "      <td>0</td>\n",
       "      <td>98178.0</td>\n",
       "      <td>47.5112</td>\n",
       "      <td>-122.257</td>\n",
       "      <td>1340.0</td>\n",
       "      <td>5650</td>\n",
       "    </tr>\n",
       "    <tr>\n",
       "      <th>1</th>\n",
       "      <td>6414100192</td>\n",
       "      <td>14 December 2017</td>\n",
       "      <td>538000.0</td>\n",
       "      <td>3</td>\n",
       "      <td>2.25</td>\n",
       "      <td>2570.0</td>\n",
       "      <td>7242.0</td>\n",
       "      <td>2.0</td>\n",
       "      <td>No</td>\n",
       "      <td>NaN</td>\n",
       "      <td>...</td>\n",
       "      <td>7</td>\n",
       "      <td>2170.0</td>\n",
       "      <td>400</td>\n",
       "      <td>67</td>\n",
       "      <td>1991</td>\n",
       "      <td>98125.0</td>\n",
       "      <td>47.7210</td>\n",
       "      <td>-122.319</td>\n",
       "      <td>1690.0</td>\n",
       "      <td>7639</td>\n",
       "    </tr>\n",
       "    <tr>\n",
       "      <th>2</th>\n",
       "      <td>5631500400</td>\n",
       "      <td>15 February 2016</td>\n",
       "      <td>180000.0</td>\n",
       "      <td>2</td>\n",
       "      <td>1.00</td>\n",
       "      <td>770.0</td>\n",
       "      <td>10000.0</td>\n",
       "      <td>1.0</td>\n",
       "      <td>No</td>\n",
       "      <td>NaN</td>\n",
       "      <td>...</td>\n",
       "      <td>6</td>\n",
       "      <td>770.0</td>\n",
       "      <td>0</td>\n",
       "      <td>85</td>\n",
       "      <td>0</td>\n",
       "      <td>98028.0</td>\n",
       "      <td>47.7379</td>\n",
       "      <td>-122.233</td>\n",
       "      <td>2720.0</td>\n",
       "      <td>8062</td>\n",
       "    </tr>\n",
       "    <tr>\n",
       "      <th>3</th>\n",
       "      <td>2487200875</td>\n",
       "      <td>14 December 2017</td>\n",
       "      <td>604000.0</td>\n",
       "      <td>4</td>\n",
       "      <td>3.00</td>\n",
       "      <td>1960.0</td>\n",
       "      <td>5000.0</td>\n",
       "      <td>1.0</td>\n",
       "      <td>No</td>\n",
       "      <td>NaN</td>\n",
       "      <td>...</td>\n",
       "      <td>7</td>\n",
       "      <td>1050.0</td>\n",
       "      <td>910</td>\n",
       "      <td>53</td>\n",
       "      <td>0</td>\n",
       "      <td>98136.0</td>\n",
       "      <td>47.5208</td>\n",
       "      <td>-122.393</td>\n",
       "      <td>1360.0</td>\n",
       "      <td>5000</td>\n",
       "    </tr>\n",
       "    <tr>\n",
       "      <th>4</th>\n",
       "      <td>1954400510</td>\n",
       "      <td>15 February 2016</td>\n",
       "      <td>510000.0</td>\n",
       "      <td>3</td>\n",
       "      <td>2.00</td>\n",
       "      <td>1680.0</td>\n",
       "      <td>8080.0</td>\n",
       "      <td>1.0</td>\n",
       "      <td>No</td>\n",
       "      <td>NaN</td>\n",
       "      <td>...</td>\n",
       "      <td>8</td>\n",
       "      <td>1680.0</td>\n",
       "      <td>0</td>\n",
       "      <td>31</td>\n",
       "      <td>0</td>\n",
       "      <td>98074.0</td>\n",
       "      <td>47.6168</td>\n",
       "      <td>-122.045</td>\n",
       "      <td>1800.0</td>\n",
       "      <td>7503</td>\n",
       "    </tr>\n",
       "  </tbody>\n",
       "</table>\n",
       "<p>5 rows × 21 columns</p>\n",
       "</div>"
      ],
      "text/plain": [
       "           ID Date House was Sold  Sale Price  No of Bedrooms  \\\n",
       "0  7129300520     14 October 2017    221900.0               3   \n",
       "1  6414100192    14 December 2017    538000.0               3   \n",
       "2  5631500400    15 February 2016    180000.0               2   \n",
       "3  2487200875    14 December 2017    604000.0               4   \n",
       "4  1954400510    15 February 2016    510000.0               3   \n",
       "\n",
       "   No of Bathrooms  Flat Area (in Sqft)  Lot Area (in Sqft)  No of Floors  \\\n",
       "0             1.00               1180.0              5650.0           1.0   \n",
       "1             2.25               2570.0              7242.0           2.0   \n",
       "2             1.00                770.0             10000.0           1.0   \n",
       "3             3.00               1960.0              5000.0           1.0   \n",
       "4             2.00               1680.0              8080.0           1.0   \n",
       "\n",
       "  Waterfront View No of Times Visited  ... Overall Grade  \\\n",
       "0              No                 NaN  ...             7   \n",
       "1              No                 NaN  ...             7   \n",
       "2              No                 NaN  ...             6   \n",
       "3              No                 NaN  ...             7   \n",
       "4              No                 NaN  ...             8   \n",
       "\n",
       "   Area of the House from Basement (in Sqft)  Basement Area (in Sqft)  \\\n",
       "0                                     1180.0                        0   \n",
       "1                                     2170.0                      400   \n",
       "2                                      770.0                        0   \n",
       "3                                     1050.0                      910   \n",
       "4                                     1680.0                        0   \n",
       "\n",
       "   Age of House (in Years)  Renovated Year  Zipcode  Latitude  Longitude  \\\n",
       "0                       63               0  98178.0   47.5112   -122.257   \n",
       "1                       67            1991  98125.0   47.7210   -122.319   \n",
       "2                       85               0  98028.0   47.7379   -122.233   \n",
       "3                       53               0  98136.0   47.5208   -122.393   \n",
       "4                       31               0  98074.0   47.6168   -122.045   \n",
       "\n",
       "   Living Area after Renovation (in Sqft)  Lot Area after Renovation (in Sqft)  \n",
       "0                                  1340.0                                 5650  \n",
       "1                                  1690.0                                 7639  \n",
       "2                                  2720.0                                 8062  \n",
       "3                                  1360.0                                 5000  \n",
       "4                                  1800.0                                 7503  \n",
       "\n",
       "[5 rows x 21 columns]"
      ]
     },
     "execution_count": 2,
     "metadata": {},
     "output_type": "execute_result"
    }
   ],
   "source": [
    "data = pd.read_csv('House_Pricing.csv')\n",
    "data.head()"
   ]
  },
  {
   "cell_type": "code",
   "execution_count": 3,
   "id": "176680eb",
   "metadata": {},
   "outputs": [
    {
     "data": {
      "text/plain": [
       "ID                                           0\n",
       "Date House was Sold                          0\n",
       "Sale Price                                   4\n",
       "No of Bedrooms                               0\n",
       "No of Bathrooms                              4\n",
       "Flat Area (in Sqft)                          9\n",
       "Lot Area (in Sqft)                           9\n",
       "No of Floors                                 0\n",
       "Waterfront View                              0\n",
       "Condition of the House                       0\n",
       "Overall Grade                                0\n",
       "Area of the House from Basement (in Sqft)    3\n",
       "Basement Area (in Sqft)                      0\n",
       "Age of House (in Years)                      0\n",
       "Zipcode                                      1\n",
       "Latitude                                     1\n",
       "Longitude                                    1\n",
       "Living Area after Renovation (in Sqft)       1\n",
       "Lot Area after Renovation (in Sqft)          0\n",
       "dtype: int64"
      ]
     },
     "execution_count": 3,
     "metadata": {},
     "output_type": "execute_result"
    }
   ],
   "source": [
    "y = data['Sale Price']\n",
    "X = data.drop(['Sale Price'],axis = 1)\n",
    "X.isna().sum()\n",
    "X = data.drop(['No of Times Visited'],axis = 1)\n",
    "X = X.drop([\"Renovated Year\"],axis = 1)\n",
    "X.isna().sum()"
   ]
  },
  {
   "cell_type": "code",
   "execution_count": 4,
   "id": "c6e07713",
   "metadata": {},
   "outputs": [],
   "source": [
    "def remove_outliers(data,col):\n",
    "  q1 = data[col].quantile(0.25)\n",
    "  q3 = data[col].quantile(0.75)\n",
    "  iqr = q3 -q1\n",
    "  lb = q1 - 1.5*iqr\n",
    "  up = q3 + 1.5*iqr\n",
    "  data[col] = data[col].clip(lower = lb,upper = up)\n",
    "  return data[col]\n",
    "\n",
    "numeric_columns = X.select_dtypes(include = 'number').columns.to_list()\n",
    "numeric_columns.remove('Sale Price')\n",
    "for col in numeric_columns:\n",
    "    X[col] = remove_outliers(X,col)"
   ]
  },
  {
   "cell_type": "code",
   "execution_count": 5,
   "id": "359dc19f",
   "metadata": {},
   "outputs": [
    {
     "data": {
      "text/plain": [
       "np.int64(0)"
      ]
     },
     "execution_count": 5,
     "metadata": {},
     "output_type": "execute_result"
    }
   ],
   "source": [
    "y = pd.to_numeric(y, errors='coerce')\n",
    "y = y.fillna(y.median)\n",
    "y.isna().sum()\n"
   ]
  },
  {
   "cell_type": "code",
   "execution_count": 6,
   "id": "7c15cd87",
   "metadata": {},
   "outputs": [
    {
     "name": "stdout",
     "output_type": "stream",
     "text": [
      "ID                                             int64\n",
      "No of Bedrooms                               float64\n",
      "No of Bathrooms                              float64\n",
      "Flat Area (in Sqft)                          float64\n",
      "Lot Area (in Sqft)                           float64\n",
      "No of Floors                                 float64\n",
      "Overall Grade                                float64\n",
      "Area of the House from Basement (in Sqft)    float64\n",
      "Basement Area (in Sqft)                        int64\n",
      "Age of House (in Years)                        int64\n",
      "Zipcode                                      float64\n",
      "Latitude                                     float64\n",
      "Longitude                                    float64\n",
      "Living Area after Renovation (in Sqft)       float64\n",
      "Lot Area after Renovation (in Sqft)          float64\n",
      "dtype: object\n"
     ]
    }
   ],
   "source": [
    "X  = X[numeric_columns]\n",
    "X = X.apply(pd.to_numeric, errors='coerce')\n",
    "for col in X.columns:\n",
    "    X[col] = X[col].fillna(X[col].median())\n",
    "\n",
    "print(X.dtypes)  "
   ]
  },
  {
   "cell_type": "code",
   "execution_count": 18,
   "id": "9b0e7016",
   "metadata": {},
   "outputs": [],
   "source": [
    "from sklearn.model_selection import train_test_split\n",
    "from sklearn.preprocessing import StandardScaler\n",
    "import torch"
   ]
  },
  {
   "cell_type": "code",
   "execution_count": 56,
   "id": "c72c10b3",
   "metadata": {},
   "outputs": [],
   "source": [
    "X_train,X_test,y_train,y_test = train_test_split(X,y,test_size=0.2,random_state=42)"
   ]
  },
  {
   "cell_type": "code",
   "execution_count": 57,
   "id": "3a74a722",
   "metadata": {},
   "outputs": [
    {
     "name": "stdout",
     "output_type": "stream",
     "text": [
      "6325     325000.0\n",
      "13473    257000.0\n",
      "17614    228500.0\n",
      "16970    288000.0\n",
      "20868    479000.0\n",
      "Name: Sale Price, dtype: object\n",
      "<class 'pandas.core.series.Series'>\n"
     ]
    }
   ],
   "source": [
    "print(y_train.head())\n",
    "y_train = pd.to_numeric(y_train, errors=\"coerce\")\n",
    "y_test  = pd.to_numeric(y_test, errors=\"coerce\")\n",
    "print(type(y_train))\n",
    "mask = ~y_train.isna()\n",
    "X_train = X_train[mask]\n",
    "y_train = y_train[mask]\n",
    "\n",
    "mask_test = ~y_test.isna()\n",
    "X_test = X_test[mask_test]\n",
    "y_test = y_test[mask_test]"
   ]
  },
  {
   "cell_type": "code",
   "execution_count": null,
   "id": "e5951856",
   "metadata": {},
   "outputs": [],
   "source": [
    "from sklearn.preprocessing import StandardScaler\n",
    "\n",
    "scaler_X = StandardScaler()\n",
    "X_train = scaler_X.fit_transform(X_train)\n",
    "X_test = scaler_X.transform(X_test)\n",
    "\n",
    "scaler_y = StandardScaler()\n",
    "\n",
    "y_train_scaled = scaler_y.fit_transform(y_train.to_numpy().reshape(-1, 1))\n",
    "y_test_scaled  = scaler_y.transform(y_test.to_numpy().reshape(-1, 1))"
   ]
  },
  {
   "cell_type": "code",
   "execution_count": 59,
   "id": "ee5412b0",
   "metadata": {},
   "outputs": [],
   "source": [
    "X_train = torch.tensor(X_train,dtype=torch.float32)\n",
    "X_test = torch.tensor(X_test, dtype=torch.float32)\n",
    "y_train = torch.tensor(y_train_scaled, dtype=torch.float32)\n",
    "y_test  = torch.tensor(y_test_scaled, dtype=torch.float32)"
   ]
  },
  {
   "cell_type": "code",
   "execution_count": 60,
   "id": "20d3320c",
   "metadata": {},
   "outputs": [
    {
     "name": "stdout",
     "output_type": "stream",
     "text": [
      "False False\n",
      "False False\n"
     ]
    }
   ],
   "source": [
    "import numpy as np\n",
    "print(np.isnan(X_train.numpy()).any(), np.isnan(y_train.numpy()).any())\n",
    "print(np.isinf(X_train.numpy()).any(), np.isinf(y_train.numpy()).any())\n"
   ]
  },
  {
   "cell_type": "code",
   "execution_count": 61,
   "id": "3bd80158",
   "metadata": {},
   "outputs": [],
   "source": [
    "from torch.utils.data import TensorDataset,DataLoader\n"
   ]
  },
  {
   "cell_type": "code",
   "execution_count": 64,
   "id": "4dff2afe",
   "metadata": {},
   "outputs": [],
   "source": [
    "train_dataset = TensorDataset(X_train,y_train)\n",
    "test_dataset = TensorDataset(X_test,y_test)\n",
    "\n",
    "train_loader = DataLoader(train_dataset,batch_size = 32,shuffle = True)\n",
    "test_loader =DataLoader(test_dataset,batch_size = 32,shuffle = False)"
   ]
  },
  {
   "cell_type": "code",
   "execution_count": 65,
   "id": "73511f25",
   "metadata": {},
   "outputs": [],
   "source": [
    "import torch.nn as nn\n",
    "class RegressionModel(nn.Module):\n",
    "    def __init__(self, input_dim):\n",
    "        super().__init__()\n",
    "        self.net = nn.Sequential(\n",
    "            nn.Linear(input_dim, 64),\n",
    "            nn.ReLU(),\n",
    "            nn.Linear(64, 32),\n",
    "            nn.ReLU(),\n",
    "            nn.Linear(32, 1)\n",
    "        )\n",
    "\n",
    "    def forward(self, x):\n",
    "        return self.net(x)\n"
   ]
  },
  {
   "cell_type": "code",
   "execution_count": 66,
   "id": "538c9437",
   "metadata": {},
   "outputs": [],
   "source": [
    "model = RegressionModel(X_train.shape[1])\n",
    "criterion = nn.MSELoss()\n",
    "optimizer =  torch.optim.Adam(model.parameters(),lr =0.001)"
   ]
  },
  {
   "cell_type": "code",
   "execution_count": 67,
   "id": "90ac7d52",
   "metadata": {},
   "outputs": [
    {
     "name": "stdout",
     "output_type": "stream",
     "text": [
      "Epoch [1/50], Loss: 0.3601\n",
      "Epoch [2/50], Loss: 0.2659\n",
      "Epoch [3/50], Loss: 0.2378\n",
      "Epoch [4/50], Loss: 0.2146\n",
      "Epoch [5/50], Loss: 0.1977\n",
      "Epoch [6/50], Loss: 0.1935\n",
      "Epoch [7/50], Loss: 0.1864\n",
      "Epoch [8/50], Loss: 0.1856\n",
      "Epoch [9/50], Loss: 0.1780\n",
      "Epoch [10/50], Loss: 0.1787\n",
      "Epoch [11/50], Loss: 0.1718\n",
      "Epoch [12/50], Loss: 0.1691\n",
      "Epoch [13/50], Loss: 0.1662\n",
      "Epoch [14/50], Loss: 0.1640\n",
      "Epoch [15/50], Loss: 0.1619\n",
      "Epoch [16/50], Loss: 0.1595\n",
      "Epoch [17/50], Loss: 0.1597\n",
      "Epoch [18/50], Loss: 0.1619\n",
      "Epoch [19/50], Loss: 0.1605\n",
      "Epoch [20/50], Loss: 0.1563\n",
      "Epoch [21/50], Loss: 0.1514\n",
      "Epoch [22/50], Loss: 0.1479\n",
      "Epoch [23/50], Loss: 0.1485\n",
      "Epoch [24/50], Loss: 0.1445\n",
      "Epoch [25/50], Loss: 0.1419\n",
      "Epoch [26/50], Loss: 0.1459\n",
      "Epoch [27/50], Loss: 0.1416\n",
      "Epoch [28/50], Loss: 0.1420\n",
      "Epoch [29/50], Loss: 0.1382\n",
      "Epoch [30/50], Loss: 0.1386\n",
      "Epoch [31/50], Loss: 0.1352\n",
      "Epoch [32/50], Loss: 0.1345\n",
      "Epoch [33/50], Loss: 0.1360\n",
      "Epoch [34/50], Loss: 0.1339\n",
      "Epoch [35/50], Loss: 0.1331\n",
      "Epoch [36/50], Loss: 0.1325\n",
      "Epoch [37/50], Loss: 0.1317\n",
      "Epoch [38/50], Loss: 0.1265\n",
      "Epoch [39/50], Loss: 0.1274\n",
      "Epoch [40/50], Loss: 0.1282\n",
      "Epoch [41/50], Loss: 0.1221\n",
      "Epoch [42/50], Loss: 0.1251\n",
      "Epoch [43/50], Loss: 0.1253\n",
      "Epoch [44/50], Loss: 0.1227\n",
      "Epoch [45/50], Loss: 0.1246\n",
      "Epoch [46/50], Loss: 0.1228\n",
      "Epoch [47/50], Loss: 0.1194\n",
      "Epoch [48/50], Loss: 0.1184\n",
      "Epoch [49/50], Loss: 0.1170\n",
      "Epoch [50/50], Loss: 0.1233\n"
     ]
    }
   ],
   "source": [
    "\n",
    "epochs = 50\n",
    "for epoch in range(epochs):\n",
    "  model.train()\n",
    "  running_loss = 0.0\n",
    "  for X_batch,y_batch in train_loader: \n",
    "    optimizer.zero_grad()\n",
    "    outputs = model(X_batch)\n",
    "    y_batch = y_batch.view(-1, 1).float()\n",
    "    loss = criterion(outputs,y_batch)\n",
    "    loss.backward()\n",
    "    optimizer.step()\n",
    "    running_loss += loss.item()\n",
    "  print(f\"Epoch [{epoch+1}/{epochs}], Loss: {running_loss/len(train_loader):.4f}\")\n"
   ]
  },
  {
   "cell_type": "code",
   "execution_count": null,
   "id": "5eb34888",
   "metadata": {},
   "outputs": [
    {
     "name": "stdout",
     "output_type": "stream",
     "text": [
      "Mse loss using criterion:0.2028\n",
      "Test R² Score: 0.8235\n"
     ]
    }
   ],
   "source": [
    "\n",
    "model.eval()\n",
    "val_loss = 0.0\n",
    "with torch.no_grad():\n",
    "    for X_batch, y_batch in test_loader:\n",
    "        outputs = model(X_batch)\n",
    "        y_batch = y_batch.view(-1, 1).float()\n",
    "        loss = criterion(outputs, y_batch)\n",
    "        val_loss += loss.item()\n",
    "    \n",
    "val_loss /= len(test_loader)\n",
    "\n",
    "from sklearn.metrics import r2_score\n",
    "import numpy as np\n",
    "model.eval()\n",
    "with torch.no_grad():\n",
    "    y_pred_scaled = model(X_test).numpy()  \n",
    "    y_test_scaled = y_test.numpy()          \n",
    "\n",
    "y_pred = scaler_y.inverse_transform(y_pred_scaled)\n",
    "y_true = scaler_y.inverse_transform(y_test_scaled)\n",
    "\n",
    "r2 = r2_score(y_true, y_pred)\n",
    "\n",
    "print(f\"Mse loss using criterion:{val_loss:.4f}\")\n",
    "print(f\"Test R² Score: {r2:.4f}\")\n"
   ]
  },
  {
   "cell_type": "code",
   "execution_count": 77,
   "id": "31e80500",
   "metadata": {},
   "outputs": [],
   "source": [
    "torch.save(model.state_dict(),\"model_weights.pth\")\n"
   ]
  },
  {
   "cell_type": "code",
   "execution_count": 78,
   "id": "b0866fc6",
   "metadata": {},
   "outputs": [
    {
     "data": {
      "text/plain": [
       "RegressionModel(\n",
       "  (net): Sequential(\n",
       "    (0): Linear(in_features=15, out_features=64, bias=True)\n",
       "    (1): ReLU()\n",
       "    (2): Linear(in_features=64, out_features=32, bias=True)\n",
       "    (3): ReLU()\n",
       "    (4): Linear(in_features=32, out_features=1, bias=True)\n",
       "  )\n",
       ")"
      ]
     },
     "execution_count": 78,
     "metadata": {},
     "output_type": "execute_result"
    }
   ],
   "source": [
    "model.load_state_dict(torch.load('model_weights.pth',weights_only=True))\n",
    "model.eval()"
   ]
  },
  {
   "cell_type": "code",
   "execution_count": null,
   "id": "6879c140",
   "metadata": {},
   "outputs": [],
   "source": []
  }
 ],
 "metadata": {
  "kernelspec": {
   "display_name": ".venv",
   "language": "python",
   "name": "python3"
  },
  "language_info": {
   "codemirror_mode": {
    "name": "ipython",
    "version": 3
   },
   "file_extension": ".py",
   "mimetype": "text/x-python",
   "name": "python",
   "nbconvert_exporter": "python",
   "pygments_lexer": "ipython3",
   "version": "3.13.5"
  }
 },
 "nbformat": 4,
 "nbformat_minor": 5
}
