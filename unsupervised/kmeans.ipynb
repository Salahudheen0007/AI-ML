{
 "cells": [
  {
   "cell_type": "code",
   "execution_count": 1,
   "id": "ec351863",
   "metadata": {},
   "outputs": [],
   "source": [
    "import pandas as pd\n",
    "import numpy as np\n",
    "import matplotlib.pyplot as plt\n",
    "import seaborn  as sns"
   ]
  },
  {
   "cell_type": "code",
   "execution_count": 2,
   "id": "2fd8cd88",
   "metadata": {},
   "outputs": [
    {
     "data": {
      "text/html": [
       "<div>\n",
       "<style scoped>\n",
       "    .dataframe tbody tr th:only-of-type {\n",
       "        vertical-align: middle;\n",
       "    }\n",
       "\n",
       "    .dataframe tbody tr th {\n",
       "        vertical-align: top;\n",
       "    }\n",
       "\n",
       "    .dataframe thead th {\n",
       "        text-align: right;\n",
       "    }\n",
       "</style>\n",
       "<table border=\"1\" class=\"dataframe\">\n",
       "  <thead>\n",
       "    <tr style=\"text-align: right;\">\n",
       "      <th></th>\n",
       "      <th>Bream</th>\n",
       "      <th>242.0</th>\n",
       "      <th>23.2</th>\n",
       "      <th>25.4</th>\n",
       "      <th>30.0</th>\n",
       "      <th>38.4</th>\n",
       "      <th>13.4</th>\n",
       "    </tr>\n",
       "  </thead>\n",
       "  <tbody>\n",
       "    <tr>\n",
       "      <th>0</th>\n",
       "      <td>Bream</td>\n",
       "      <td>290.0</td>\n",
       "      <td>24.0</td>\n",
       "      <td>26.3</td>\n",
       "      <td>31.2</td>\n",
       "      <td>40.0</td>\n",
       "      <td>13.8</td>\n",
       "    </tr>\n",
       "    <tr>\n",
       "      <th>1</th>\n",
       "      <td>Bream</td>\n",
       "      <td>340.0</td>\n",
       "      <td>23.9</td>\n",
       "      <td>26.5</td>\n",
       "      <td>31.1</td>\n",
       "      <td>39.8</td>\n",
       "      <td>15.1</td>\n",
       "    </tr>\n",
       "    <tr>\n",
       "      <th>2</th>\n",
       "      <td>Bream</td>\n",
       "      <td>363.0</td>\n",
       "      <td>26.3</td>\n",
       "      <td>29.0</td>\n",
       "      <td>33.5</td>\n",
       "      <td>38.0</td>\n",
       "      <td>13.3</td>\n",
       "    </tr>\n",
       "    <tr>\n",
       "      <th>3</th>\n",
       "      <td>Bream</td>\n",
       "      <td>430.0</td>\n",
       "      <td>26.5</td>\n",
       "      <td>29.0</td>\n",
       "      <td>34.0</td>\n",
       "      <td>36.6</td>\n",
       "      <td>15.1</td>\n",
       "    </tr>\n",
       "    <tr>\n",
       "      <th>4</th>\n",
       "      <td>Bream</td>\n",
       "      <td>450.0</td>\n",
       "      <td>26.8</td>\n",
       "      <td>29.7</td>\n",
       "      <td>34.7</td>\n",
       "      <td>39.2</td>\n",
       "      <td>14.2</td>\n",
       "    </tr>\n",
       "  </tbody>\n",
       "</table>\n",
       "</div>"
      ],
      "text/plain": [
       "   Bream  242.0  23.2  25.4  30.0  38.4  13.4\n",
       "0  Bream  290.0  24.0  26.3  31.2  40.0  13.8\n",
       "1  Bream  340.0  23.9  26.5  31.1  39.8  15.1\n",
       "2  Bream  363.0  26.3  29.0  33.5  38.0  13.3\n",
       "3  Bream  430.0  26.5  29.0  34.0  36.6  15.1\n",
       "4  Bream  450.0  26.8  29.7  34.7  39.2  14.2"
      ]
     },
     "execution_count": 2,
     "metadata": {},
     "output_type": "execute_result"
    }
   ],
   "source": [
    "data = pd.read_csv('fish.csv')\n",
    "data.head()\n"
   ]
  },
  {
   "cell_type": "code",
   "execution_count": 4,
   "id": "cde1d03f",
   "metadata": {},
   "outputs": [
    {
     "data": {
      "text/html": [
       "<div>\n",
       "<style scoped>\n",
       "    .dataframe tbody tr th:only-of-type {\n",
       "        vertical-align: middle;\n",
       "    }\n",
       "\n",
       "    .dataframe tbody tr th {\n",
       "        vertical-align: top;\n",
       "    }\n",
       "\n",
       "    .dataframe thead th {\n",
       "        text-align: right;\n",
       "    }\n",
       "</style>\n",
       "<table border=\"1\" class=\"dataframe\">\n",
       "  <thead>\n",
       "    <tr style=\"text-align: right;\">\n",
       "      <th></th>\n",
       "      <th>Type</th>\n",
       "      <th>Weight</th>\n",
       "      <th>Lenght1</th>\n",
       "      <th>Lenght2</th>\n",
       "      <th>lenght3</th>\n",
       "      <th>Height</th>\n",
       "      <th>Width</th>\n",
       "    </tr>\n",
       "  </thead>\n",
       "  <tbody>\n",
       "    <tr>\n",
       "      <th>0</th>\n",
       "      <td>Bream</td>\n",
       "      <td>290.0</td>\n",
       "      <td>24.0</td>\n",
       "      <td>26.3</td>\n",
       "      <td>31.2</td>\n",
       "      <td>40.0</td>\n",
       "      <td>13.8</td>\n",
       "    </tr>\n",
       "    <tr>\n",
       "      <th>1</th>\n",
       "      <td>Bream</td>\n",
       "      <td>340.0</td>\n",
       "      <td>23.9</td>\n",
       "      <td>26.5</td>\n",
       "      <td>31.1</td>\n",
       "      <td>39.8</td>\n",
       "      <td>15.1</td>\n",
       "    </tr>\n",
       "    <tr>\n",
       "      <th>2</th>\n",
       "      <td>Bream</td>\n",
       "      <td>363.0</td>\n",
       "      <td>26.3</td>\n",
       "      <td>29.0</td>\n",
       "      <td>33.5</td>\n",
       "      <td>38.0</td>\n",
       "      <td>13.3</td>\n",
       "    </tr>\n",
       "    <tr>\n",
       "      <th>3</th>\n",
       "      <td>Bream</td>\n",
       "      <td>430.0</td>\n",
       "      <td>26.5</td>\n",
       "      <td>29.0</td>\n",
       "      <td>34.0</td>\n",
       "      <td>36.6</td>\n",
       "      <td>15.1</td>\n",
       "    </tr>\n",
       "    <tr>\n",
       "      <th>4</th>\n",
       "      <td>Bream</td>\n",
       "      <td>450.0</td>\n",
       "      <td>26.8</td>\n",
       "      <td>29.7</td>\n",
       "      <td>34.7</td>\n",
       "      <td>39.2</td>\n",
       "      <td>14.2</td>\n",
       "    </tr>\n",
       "  </tbody>\n",
       "</table>\n",
       "</div>"
      ],
      "text/plain": [
       "    Type  Weight  Lenght1  Lenght2  lenght3  Height  Width\n",
       "0  Bream   290.0     24.0     26.3     31.2    40.0   13.8\n",
       "1  Bream   340.0     23.9     26.5     31.1    39.8   15.1\n",
       "2  Bream   363.0     26.3     29.0     33.5    38.0   13.3\n",
       "3  Bream   430.0     26.5     29.0     34.0    36.6   15.1\n",
       "4  Bream   450.0     26.8     29.7     34.7    39.2   14.2"
      ]
     },
     "execution_count": 4,
     "metadata": {},
     "output_type": "execute_result"
    }
   ],
   "source": [
    "col_names = ['Type','Weight','Lenght1','Lenght2','lenght3','Height','Width']\n",
    "data.columns = col_names\n",
    "data.head()\n"
   ]
  },
  {
   "cell_type": "code",
   "execution_count": 6,
   "id": "21a787a9",
   "metadata": {},
   "outputs": [
    {
     "data": {
      "text/html": [
       "<div>\n",
       "<style scoped>\n",
       "    .dataframe tbody tr th:only-of-type {\n",
       "        vertical-align: middle;\n",
       "    }\n",
       "\n",
       "    .dataframe tbody tr th {\n",
       "        vertical-align: top;\n",
       "    }\n",
       "\n",
       "    .dataframe thead th {\n",
       "        text-align: right;\n",
       "    }\n",
       "</style>\n",
       "<table border=\"1\" class=\"dataframe\">\n",
       "  <thead>\n",
       "    <tr style=\"text-align: right;\">\n",
       "      <th></th>\n",
       "      <th>Weight</th>\n",
       "      <th>Lenght1</th>\n",
       "    </tr>\n",
       "  </thead>\n",
       "  <tbody>\n",
       "    <tr>\n",
       "      <th>0</th>\n",
       "      <td>290.0</td>\n",
       "      <td>24.0</td>\n",
       "    </tr>\n",
       "    <tr>\n",
       "      <th>1</th>\n",
       "      <td>340.0</td>\n",
       "      <td>23.9</td>\n",
       "    </tr>\n",
       "    <tr>\n",
       "      <th>2</th>\n",
       "      <td>363.0</td>\n",
       "      <td>26.3</td>\n",
       "    </tr>\n",
       "    <tr>\n",
       "      <th>3</th>\n",
       "      <td>430.0</td>\n",
       "      <td>26.5</td>\n",
       "    </tr>\n",
       "    <tr>\n",
       "      <th>4</th>\n",
       "      <td>450.0</td>\n",
       "      <td>26.8</td>\n",
       "    </tr>\n",
       "    <tr>\n",
       "      <th>...</th>\n",
       "      <td>...</td>\n",
       "      <td>...</td>\n",
       "    </tr>\n",
       "    <tr>\n",
       "      <th>79</th>\n",
       "      <td>950.0</td>\n",
       "      <td>48.3</td>\n",
       "    </tr>\n",
       "    <tr>\n",
       "      <th>80</th>\n",
       "      <td>1250.0</td>\n",
       "      <td>52.0</td>\n",
       "    </tr>\n",
       "    <tr>\n",
       "      <th>81</th>\n",
       "      <td>1600.0</td>\n",
       "      <td>56.0</td>\n",
       "    </tr>\n",
       "    <tr>\n",
       "      <th>82</th>\n",
       "      <td>1550.0</td>\n",
       "      <td>56.0</td>\n",
       "    </tr>\n",
       "    <tr>\n",
       "      <th>83</th>\n",
       "      <td>1650.0</td>\n",
       "      <td>59.0</td>\n",
       "    </tr>\n",
       "  </tbody>\n",
       "</table>\n",
       "<p>84 rows × 2 columns</p>\n",
       "</div>"
      ],
      "text/plain": [
       "    Weight  Lenght1\n",
       "0    290.0     24.0\n",
       "1    340.0     23.9\n",
       "2    363.0     26.3\n",
       "3    430.0     26.5\n",
       "4    450.0     26.8\n",
       "..     ...      ...\n",
       "79   950.0     48.3\n",
       "80  1250.0     52.0\n",
       "81  1600.0     56.0\n",
       "82  1550.0     56.0\n",
       "83  1650.0     59.0\n",
       "\n",
       "[84 rows x 2 columns]"
      ]
     },
     "execution_count": 6,
     "metadata": {},
     "output_type": "execute_result"
    }
   ],
   "source": [
    "X  = data[['Weight','Lenght1']]\n",
    "X"
   ]
  },
  {
   "cell_type": "code",
   "execution_count": 28,
   "id": "b35e3a40",
   "metadata": {},
   "outputs": [
    {
     "name": "stdout",
     "output_type": "stream",
     "text": [
      "4395596.050714285\n",
      "[0 0 0 0 0 0 0 0 0 0 0 0 1 1 1 1 1 1 1 1 1 1 1 1 1 1 1 1 1 1 1 1 1 0 0 0 0\n",
      " 0 0 0 0 0 0 0 0 0 0 0 0 0 0 0 0 0 0 0 0 0 0 0 0 0 0 0 0 0 0 0 0 0 0 0 0 0\n",
      " 0 0 0 1 1 1 1 1 1 1]\n",
      "1890969.7730908147\n",
      "[2 0 0 0 0 0 0 0 0 0 0 0 0 0 0 0 0 0 0 0 0 0 0 0 0 0 1 1 1 1 1 1 1 2 2 2 2\n",
      " 2 2 2 2 2 2 2 2 2 2 2 2 2 2 2 0 2 2 2 2 2 2 2 2 2 2 2 2 2 2 2 2 2 2 0 0 0\n",
      " 0 0 0 0 0 1 1 1 1 1]\n",
      "883388.9198273602\n",
      "[0 0 0 0 0 0 0 0 0 0 0 0 3 3 3 3 3 3 0 3 3 3 3 3 3 3 3 3 3 3 3 3 3 2 2 2 2\n",
      " 2 2 2 2 2 2 2 2 2 2 2 2 2 0 0 0 2 2 2 2 2 2 2 2 2 2 2 2 2 2 2 0 0 0 0 0 0\n",
      " 0 0 0 0 3 3 1 1 1 1]\n",
      "608177.8696946241\n",
      "[1 1 1 2 2 2 2 2 2 2 2 2 2 2 0 0 2 2 2 0 2 0 0 0 0 0 0 0 0 0 0 0 0 4 4 4 4\n",
      " 4 4 4 4 1 1 1 1 1 1 1 1 1 1 1 2 4 4 4 4 4 4 4 4 4 4 4 4 4 4 1 1 1 1 2 1 2\n",
      " 2 2 2 2 0 0 3 3 3 3]\n",
      "353612.18144017097\n",
      "[0 0 0 4 4 4 0 4 4 4 4 4 4 4 1 1 4 1 4 1 1 1 1 1 1 1 1 5 5 5 5 5 5 3 3 3 3\n",
      " 3 3 3 3 3 3 3 3 3 3 3 0 3 0 0 0 3 3 3 3 3 3 3 3 3 3 3 3 3 3 0 0 0 0 4 0 4\n",
      " 4 4 4 4 1 5 5 2 2 2]\n",
      "216331.34277652166\n",
      "[5 5 5 3 3 3 5 3 3 3 3 3 6 6 6 6 6 6 3 6 6 6 6 6 6 6 1 1 1 1 1 1 1 4 4 4 4\n",
      " 0 4 0 0 0 0 0 0 0 0 0 0 0 5 5 5 4 4 4 4 4 4 4 4 4 4 4 4 4 4 0 5 5 5 3 5 3\n",
      " 3 3 3 3 6 1 2 2 2 2]\n",
      "176129.18729326222\n",
      "[4 4 4 5 5 5 4 5 5 5 5 5 1 1 7 7 1 1 1 7 1 7 7 7 7 7 3 3 3 3 3 3 3 0 0 0 6\n",
      " 6 0 6 6 6 6 6 6 6 6 6 6 6 4 4 4 0 0 0 0 0 0 0 0 0 0 0 0 0 0 6 4 4 4 5 4 5\n",
      " 5 5 5 1 7 3 2 2 2 2]\n"
     ]
    },
    {
     "data": {
      "text/plain": [
       "[np.float64(0.5789291618265734),\n",
       " np.float64(0.6173524769107749),\n",
       " np.float64(0.6176414871785032),\n",
       " np.float64(0.5678382948854619),\n",
       " np.float64(0.6004004447000595),\n",
       " np.float64(0.6682838995896265),\n",
       " np.float64(0.6755559951806555)]"
      ]
     },
     "execution_count": 28,
     "metadata": {},
     "output_type": "execute_result"
    }
   ],
   "source": [
    "from sklearn.cluster import KMeans\n",
    "from sklearn.metrics import silhouette_score,davies_bouldin_score\n",
    "silhoute = []\n",
    "db_scores = []\n",
    "\n",
    "wcss = []\n",
    "for i in range(2,9):\n",
    "    kmeans = KMeans(n_clusters=i)\n",
    "    kmeans.fit(X)\n",
    "    wcss.append(kmeans.inertia_)\n",
    "    silhoute.append(silhouette_score(X,kmeans.labels_))\n",
    "    db_scores.append(davies_bouldin_score(X,kmeans.labels_))\n",
    "    print(kmeans.inertia_)\n",
    "    print(kmeans.labels_)\n",
    "\n",
    "    \n",
    "wcss    \n",
    "silhoute\n"
   ]
  },
  {
   "cell_type": "code",
   "execution_count": 27,
   "id": "5b9d7746",
   "metadata": {},
   "outputs": [
    {
     "data": {
      "image/png": "[encoded data removed]",
      "text/plain": [
       "<Figure size 640x480 with 1 Axes>"
      ]
     },
     "metadata": {},
     "output_type": "display_data"
    }
   ],
   "source": [
    "plt.Figure(figsize=(10,6))\n",
    "plt.plot(range(2,9),wcss,marker = 'o')\n",
    "plt.title(\"elbow method\")\n",
    "plt.xlabel(\"no of clusters\")\n",
    "plt.ylabel(\"WCSS\")\n",
    "plt.show()"
   ]
  },
  {
   "cell_type": "code",
   "execution_count": 31,
   "id": "a9cd0625",
   "metadata": {},
   "outputs": [
    {
     "data": {
      "image/png": "[encoded data removed]",
      "text/plain": [
       "<Figure size 640x480 with 1 Axes>"
      ]
     },
     "metadata": {},
     "output_type": "display_data"
    }
   ],
   "source": [
    "plt.Figure(figsize=(10,8))\n",
    "plt.plot(range(2,9),silhoute, marker='o', label='Silhouette Score',color = 'green')\n",
    "plt.plot(range(2,9), db_scores, marker='^', label='Davies-Bouldin Index')\n",
    "plt.xlabel(\"no of clusters\")\n",
    "plt.ylabel(\"score\")\n",
    "plt.title(\"silhouette_score and db_score\")\n",
    "plt.legend()\n",
    "plt.show()"
   ]
  },
  {
   "cell_type": "markdown",
   "id": "2b81c64d",
   "metadata": {},
   "source": [
    "#### WCSS: Lower is better\n",
    "\n",
    "#### Silhouette Score: Closer to 1 is better\n",
    "\n",
    "#### Davies-Bouldin: Lower is better"
   ]
  },
  {
   "cell_type": "code",
   "execution_count": null,
   "id": "8c73962f",
   "metadata": {},
   "outputs": [],
   "source": [
    "# top cluster 4  \n",
    "kmeans = KMeans(n_clusters=4)\n",
    "kmeans.fit(X)\n",
    "y_pred_kmeans = kmeans.predict(X)\n"
   ]
  },
  {
   "cell_type": "code",
   "execution_count": 11,
   "id": "c5ecb2ec",
   "metadata": {},
   "outputs": [
    {
     "data": {
      "text/html": [
       "<div>\n",
       "<style scoped>\n",
       "    .dataframe tbody tr th:only-of-type {\n",
       "        vertical-align: middle;\n",
       "    }\n",
       "\n",
       "    .dataframe tbody tr th {\n",
       "        vertical-align: top;\n",
       "    }\n",
       "\n",
       "    .dataframe thead th {\n",
       "        text-align: right;\n",
       "    }\n",
       "</style>\n",
       "<table border=\"1\" class=\"dataframe\">\n",
       "  <thead>\n",
       "    <tr style=\"text-align: right;\">\n",
       "      <th></th>\n",
       "      <th>Type</th>\n",
       "      <th>Weight</th>\n",
       "      <th>Lenght1</th>\n",
       "      <th>Lenght2</th>\n",
       "      <th>lenght3</th>\n",
       "      <th>Height</th>\n",
       "      <th>Width</th>\n",
       "      <th>cluster</th>\n",
       "    </tr>\n",
       "  </thead>\n",
       "  <tbody>\n",
       "    <tr>\n",
       "      <th>0</th>\n",
       "      <td>Bream</td>\n",
       "      <td>290.0</td>\n",
       "      <td>24.0</td>\n",
       "      <td>26.3</td>\n",
       "      <td>31.2</td>\n",
       "      <td>40.0</td>\n",
       "      <td>13.8</td>\n",
       "      <td>1</td>\n",
       "    </tr>\n",
       "    <tr>\n",
       "      <th>1</th>\n",
       "      <td>Bream</td>\n",
       "      <td>340.0</td>\n",
       "      <td>23.9</td>\n",
       "      <td>26.5</td>\n",
       "      <td>31.1</td>\n",
       "      <td>39.8</td>\n",
       "      <td>15.1</td>\n",
       "      <td>1</td>\n",
       "    </tr>\n",
       "    <tr>\n",
       "      <th>2</th>\n",
       "      <td>Bream</td>\n",
       "      <td>363.0</td>\n",
       "      <td>26.3</td>\n",
       "      <td>29.0</td>\n",
       "      <td>33.5</td>\n",
       "      <td>38.0</td>\n",
       "      <td>13.3</td>\n",
       "      <td>1</td>\n",
       "    </tr>\n",
       "    <tr>\n",
       "      <th>3</th>\n",
       "      <td>Bream</td>\n",
       "      <td>430.0</td>\n",
       "      <td>26.5</td>\n",
       "      <td>29.0</td>\n",
       "      <td>34.0</td>\n",
       "      <td>36.6</td>\n",
       "      <td>15.1</td>\n",
       "      <td>1</td>\n",
       "    </tr>\n",
       "    <tr>\n",
       "      <th>4</th>\n",
       "      <td>Bream</td>\n",
       "      <td>450.0</td>\n",
       "      <td>26.8</td>\n",
       "      <td>29.7</td>\n",
       "      <td>34.7</td>\n",
       "      <td>39.2</td>\n",
       "      <td>14.2</td>\n",
       "      <td>1</td>\n",
       "    </tr>\n",
       "    <tr>\n",
       "      <th>...</th>\n",
       "      <td>...</td>\n",
       "      <td>...</td>\n",
       "      <td>...</td>\n",
       "      <td>...</td>\n",
       "      <td>...</td>\n",
       "      <td>...</td>\n",
       "      <td>...</td>\n",
       "      <td>...</td>\n",
       "    </tr>\n",
       "    <tr>\n",
       "      <th>79</th>\n",
       "      <td>Pike</td>\n",
       "      <td>950.0</td>\n",
       "      <td>48.3</td>\n",
       "      <td>51.7</td>\n",
       "      <td>55.1</td>\n",
       "      <td>16.2</td>\n",
       "      <td>11.2</td>\n",
       "      <td>0</td>\n",
       "    </tr>\n",
       "    <tr>\n",
       "      <th>80</th>\n",
       "      <td>Pike</td>\n",
       "      <td>1250.0</td>\n",
       "      <td>52.0</td>\n",
       "      <td>56.0</td>\n",
       "      <td>59.7</td>\n",
       "      <td>17.9</td>\n",
       "      <td>11.7</td>\n",
       "      <td>0</td>\n",
       "    </tr>\n",
       "    <tr>\n",
       "      <th>81</th>\n",
       "      <td>Pike</td>\n",
       "      <td>1600.0</td>\n",
       "      <td>56.0</td>\n",
       "      <td>60.0</td>\n",
       "      <td>64.0</td>\n",
       "      <td>15.0</td>\n",
       "      <td>9.6</td>\n",
       "      <td>0</td>\n",
       "    </tr>\n",
       "    <tr>\n",
       "      <th>82</th>\n",
       "      <td>Pike</td>\n",
       "      <td>1550.0</td>\n",
       "      <td>56.0</td>\n",
       "      <td>60.0</td>\n",
       "      <td>64.0</td>\n",
       "      <td>15.0</td>\n",
       "      <td>9.6</td>\n",
       "      <td>0</td>\n",
       "    </tr>\n",
       "    <tr>\n",
       "      <th>83</th>\n",
       "      <td>Pike</td>\n",
       "      <td>1650.0</td>\n",
       "      <td>59.0</td>\n",
       "      <td>63.4</td>\n",
       "      <td>68.0</td>\n",
       "      <td>15.9</td>\n",
       "      <td>11.0</td>\n",
       "      <td>0</td>\n",
       "    </tr>\n",
       "  </tbody>\n",
       "</table>\n",
       "<p>84 rows × 8 columns</p>\n",
       "</div>"
      ],
      "text/plain": [
       "     Type  Weight  Lenght1  Lenght2  lenght3  Height  Width  cluster\n",
       "0   Bream   290.0     24.0     26.3     31.2    40.0   13.8        1\n",
       "1   Bream   340.0     23.9     26.5     31.1    39.8   15.1        1\n",
       "2   Bream   363.0     26.3     29.0     33.5    38.0   13.3        1\n",
       "3   Bream   430.0     26.5     29.0     34.0    36.6   15.1        1\n",
       "4   Bream   450.0     26.8     29.7     34.7    39.2   14.2        1\n",
       "..    ...     ...      ...      ...      ...     ...    ...      ...\n",
       "79   Pike   950.0     48.3     51.7     55.1    16.2   11.2        0\n",
       "80   Pike  1250.0     52.0     56.0     59.7    17.9   11.7        0\n",
       "81   Pike  1600.0     56.0     60.0     64.0    15.0    9.6        0\n",
       "82   Pike  1550.0     56.0     60.0     64.0    15.0    9.6        0\n",
       "83   Pike  1650.0     59.0     63.4     68.0    15.9   11.0        0\n",
       "\n",
       "[84 rows x 8 columns]"
      ]
     },
     "execution_count": 11,
     "metadata": {},
     "output_type": "execute_result"
    }
   ],
   "source": [
    "data['cluster'] = y_pred_kmeans\n",
    "data"
   ]
  },
  {
   "cell_type": "code",
   "execution_count": 14,
   "id": "6a9c4d23",
   "metadata": {},
   "outputs": [
    {
     "data": {
      "image/png": "[encoded data removed]",
      "text/plain": [
       "<Figure size 640x480 with 1 Axes>"
      ]
     },
     "metadata": {},
     "output_type": "display_data"
    }
   ],
   "source": [
    "colors = ['r','g','b','y','m']\n",
    "for i in range(5):\n",
    "    cluster_data = X[y_pred_kmeans == i]\n",
    "    plt.scatter(cluster_data['Weight'],\n",
    "                cluster_data[\"Lenght1\"],\n",
    "                color = colors[i],\n",
    "                label = f'cluster{i}')\n",
    "    plt.legend()"
   ]
  },
  {
   "cell_type": "code",
   "execution_count": null,
   "id": "16db8de5",
   "metadata": {},
   "outputs": [],
   "source": [
    "# cluster to predict cluster for a new fish\n",
    "def predic_cluster(Weight,Length):\n",
    "    new_data = [[Weight,Length]]\n",
    "    cluster = kmeans.predict(new_data)\n",
    "    return cluster[0]"
   ]
  },
  {
   "cell_type": "code",
   "execution_count": null,
   "id": "ec5f31c4",
   "metadata": {},
   "outputs": [],
   "source": []
  },
  {
   "cell_type": "code",
   "execution_count": null,
   "id": "6496c38d",
   "metadata": {},
   "outputs": [
    {
     "name": "stdout",
     "output_type": "stream",
     "text": [
      "fish belomngs tpo cluster 4\n"
     ]
    },
    {
     "name": "stderr",
     "output_type": "stream",
     "text": [
      "c:\\AI_ML\\.venv\\Lib\\site-packages\\sklearn\\utils\\validation.py:2739: UserWarning: X does not have valid feature names, but KMeans was fitted with feature names\n",
      "  warnings.warn(\n"
     ]
    }
   ],
   "source": [
    "new_fish_weight = 290\n",
    "new_fish_lenght = 24\n",
    "predcted_cluster = predic_cluster(new_fish_weight,new_fish_lenght)\n",
    "print(f\"fish belongs to cluster {predcted_cluster}\")"
   ]
  },
  {
   "cell_type": "code",
   "execution_count": 24,
   "id": "36012b0a",
   "metadata": {},
   "outputs": [
    {
     "name": "stdout",
     "output_type": "stream",
     "text": [
      "0.5588912103872488\n"
     ]
    }
   ],
   "source": [
    "silhoute_avg1 = silhouette_score(X,y_pred_kmeans)\n",
    "print(silhoute_avg1)"
   ]
  },
  {
   "cell_type": "code",
   "execution_count": 67,
   "id": "c0d32924",
   "metadata": {},
   "outputs": [
    {
     "data": {
      "text/html": [
       "<div>\n",
       "<style scoped>\n",
       "    .dataframe tbody tr th:only-of-type {\n",
       "        vertical-align: middle;\n",
       "    }\n",
       "\n",
       "    .dataframe tbody tr th {\n",
       "        vertical-align: top;\n",
       "    }\n",
       "\n",
       "    .dataframe thead th {\n",
       "        text-align: right;\n",
       "    }\n",
       "</style>\n",
       "<table border=\"1\" class=\"dataframe\">\n",
       "  <thead>\n",
       "    <tr style=\"text-align: right;\">\n",
       "      <th></th>\n",
       "      <th>Weight</th>\n",
       "      <th>Lenght1</th>\n",
       "    </tr>\n",
       "  </thead>\n",
       "  <tbody>\n",
       "    <tr>\n",
       "      <th>0</th>\n",
       "      <td>290.0</td>\n",
       "      <td>24.0</td>\n",
       "    </tr>\n",
       "    <tr>\n",
       "      <th>1</th>\n",
       "      <td>340.0</td>\n",
       "      <td>23.9</td>\n",
       "    </tr>\n",
       "    <tr>\n",
       "      <th>2</th>\n",
       "      <td>363.0</td>\n",
       "      <td>26.3</td>\n",
       "    </tr>\n",
       "    <tr>\n",
       "      <th>3</th>\n",
       "      <td>430.0</td>\n",
       "      <td>26.5</td>\n",
       "    </tr>\n",
       "    <tr>\n",
       "      <th>4</th>\n",
       "      <td>450.0</td>\n",
       "      <td>26.8</td>\n",
       "    </tr>\n",
       "    <tr>\n",
       "      <th>...</th>\n",
       "      <td>...</td>\n",
       "      <td>...</td>\n",
       "    </tr>\n",
       "    <tr>\n",
       "      <th>79</th>\n",
       "      <td>950.0</td>\n",
       "      <td>48.3</td>\n",
       "    </tr>\n",
       "    <tr>\n",
       "      <th>80</th>\n",
       "      <td>1250.0</td>\n",
       "      <td>52.0</td>\n",
       "    </tr>\n",
       "    <tr>\n",
       "      <th>81</th>\n",
       "      <td>1600.0</td>\n",
       "      <td>56.0</td>\n",
       "    </tr>\n",
       "    <tr>\n",
       "      <th>82</th>\n",
       "      <td>1550.0</td>\n",
       "      <td>56.0</td>\n",
       "    </tr>\n",
       "    <tr>\n",
       "      <th>83</th>\n",
       "      <td>1650.0</td>\n",
       "      <td>59.0</td>\n",
       "    </tr>\n",
       "  </tbody>\n",
       "</table>\n",
       "<p>84 rows × 2 columns</p>\n",
       "</div>"
      ],
      "text/plain": [
       "    Weight  Lenght1\n",
       "0    290.0     24.0\n",
       "1    340.0     23.9\n",
       "2    363.0     26.3\n",
       "3    430.0     26.5\n",
       "4    450.0     26.8\n",
       "..     ...      ...\n",
       "79   950.0     48.3\n",
       "80  1250.0     52.0\n",
       "81  1600.0     56.0\n",
       "82  1550.0     56.0\n",
       "83  1650.0     59.0\n",
       "\n",
       "[84 rows x 2 columns]"
      ]
     },
     "execution_count": 67,
     "metadata": {},
     "output_type": "execute_result"
    }
   ],
   "source": [
    "X"
   ]
  },
  {
   "cell_type": "markdown",
   "id": "e90fb884",
   "metadata": {},
   "source": [
    "### custom kmeans"
   ]
  },
  {
   "cell_type": "code",
   "execution_count": 50,
   "id": "63538c36",
   "metadata": {},
   "outputs": [],
   "source": [
    "import numpy as np\n",
    "class kmeanscust:\n",
    "    def __init__(self,K,max_iter = 100):\n",
    "        self.K = K\n",
    "        self.max_iter = max_iter\n",
    "        self.centroids = None\n",
    "        self.labels_ = None\n",
    "\n",
    "    def fit(self,X):\n",
    "       X = X.values\n",
    "       n_samples,n_features = X.shape\n",
    "       random_indices = np.random.choice(n_samples,self.K,replace = False)\n",
    "       self.centroids = X[random_indices]\n",
    "       for _ in range(self.max_iter):\n",
    "            distances = np.linalg.norm(X[:,np.newaxis] - self.centroids,axis = 2)\n",
    "            labels = np.argmin(distances,axis = 1)\n",
    "            new_centroids = np.array([X[labels == k].mean(axis = 0) if np.any(labels == k) else self.centroids[k] for k in range(self.K)])\n",
    "\n",
    "            if np.allclose(self.centroids,new_centroids):\n",
    "                break\n",
    "            self.centroids = new_centroids\n",
    "       self.labels_ = labels\n",
    "    def predict(self,X):\n",
    "        X = X.values\n",
    "        distances = np.linalg.norm(X[:,np.newaxis] - self.centroids,axis = 2)\n",
    "        return np.argmin(distances,axis = 1)\n",
    "    \n",
    "       \n",
    "       \n",
    "\n",
    "        "
   ]
  },
  {
   "cell_type": "code",
   "execution_count": 55,
   "id": "47aa19c8",
   "metadata": {},
   "outputs": [
    {
     "name": "stdout",
     "output_type": "stream",
     "text": [
      "Predicted cluster: 2\n"
     ]
    }
   ],
   "source": [
    "k = kmeanscust(4,max_iter=100)\n",
    "k.fit(X)\n",
    "y_pred = k.predict(X)\n",
    "y_pred\n",
    "new_data = pd.DataFrame([[new_fish_weight, new_fish_lenght]], columns=[\"Weight\", \"Lenght1\"])\n",
    "\n",
    "cluster = k.predict(new_data)\n",
    "print(\"Predicted cluster:\", cluster[0])"
   ]
  },
  {
   "cell_type": "code",
   "execution_count": 57,
   "id": "55cdc1d3",
   "metadata": {},
   "outputs": [
    {
     "data": {
      "image/png": "[encoded data removed]",
      "text/plain": [
       "<Figure size 640x480 with 1 Axes>"
      ]
     },
     "metadata": {},
     "output_type": "display_data"
    }
   ],
   "source": [
    "plt.Figure(figsize=(10,6))\n",
    "plt.plot(y_pred_kmeans,color = \"green\",label = \"library\")\n",
    "plt.plot(y_pred,label = \"custom\")\n",
    "plt.legend()\n",
    "plt.show()"
   ]
  },
  {
   "cell_type": "code",
   "execution_count": 60,
   "id": "f50ebb3e",
   "metadata": {},
   "outputs": [],
   "source": [
    "import numpy as np\n",
    "class kmeanscust1:\n",
    "    def __init__(self,K,max_iter = 100):\n",
    "        self.K = K\n",
    "        self.max_iter = max_iter\n",
    "        self.centroids = None\n",
    "        self.labels_ = None\n",
    "    def fit(self, X):\n",
    "        if isinstance(X, pd.DataFrame):\n",
    "            X = X.values\n",
    "        n_samples, n_features = X.shape\n",
    "        random_indices = np.random.choice(n_samples, self.K, replace=False)\n",
    "        self.centroids = X[random_indices]\n",
    "    \n",
    "        for _ in range(self.max_iter):\n",
    "            distances = np.linalg.norm(X[:, np.newaxis] - self.centroids, axis=2)\n",
    "            labels = np.argmin(distances, axis=1)\n",
    "            new_centroids = np.array([\n",
    "                X[labels == k].mean(axis=0) if np.any(labels == k) else self.centroids[k]\n",
    "                for k in range(self.K)\n",
    "            ])\n",
    "            if np.allclose(self.centroids, new_centroids):\n",
    "                break\n",
    "            self.centroids = new_centroids\n",
    "        self.labels_ = labels\n",
    "\n",
    "    def predict(self, X):\n",
    "        if isinstance(X, pd.DataFrame):\n",
    "            X = X.values\n",
    "        X = np.array(X)  # this ensures list inputs also work\n",
    "        distances = np.linalg.norm(X[:, np.newaxis] - self.centroids, axis=2)\n",
    "        return np.argmin(distances, axis=1)\n"
   ]
  },
  {
   "cell_type": "code",
   "execution_count": 61,
   "id": "b327e3f5",
   "metadata": {},
   "outputs": [
    {
     "ename": "TypeError",
     "evalue": "unsupported operand type(s) for -: 'int' and 'NoneType'",
     "output_type": "error",
     "traceback": [
      "\u001b[31m---------------------------------------------------------------------------\u001b[39m",
      "\u001b[31mTypeError\u001b[39m                                 Traceback (most recent call last)",
      "\u001b[36mCell\u001b[39m\u001b[36m \u001b[39m\u001b[32mIn[61]\u001b[39m\u001b[32m, line 7\u001b[39m\n\u001b[32m      4\u001b[39m     cluster = model.predict(new_data)\n\u001b[32m      5\u001b[39m     \u001b[38;5;28;01mreturn\u001b[39;00m cluster[\u001b[32m0\u001b[39m]\n\u001b[32m----> \u001b[39m\u001b[32m7\u001b[39m predicted_cluster = \u001b[43mpredic_cluster\u001b[49m\u001b[43m(\u001b[49m\u001b[32;43m290\u001b[39;49m\u001b[43m,\u001b[49m\u001b[43m \u001b[49m\u001b[32;43m24\u001b[39;49m\u001b[43m)\u001b[49m\n\u001b[32m      8\u001b[39m \u001b[38;5;28mprint\u001b[39m(\u001b[33mf\u001b[39m\u001b[33m\"\u001b[39m\u001b[33mFish belongs to cluster \u001b[39m\u001b[38;5;132;01m{\u001b[39;00mpredicted_cluster\u001b[38;5;132;01m}\u001b[39;00m\u001b[33m\"\u001b[39m)\n",
      "\u001b[36mCell\u001b[39m\u001b[36m \u001b[39m\u001b[32mIn[61]\u001b[39m\u001b[32m, line 4\u001b[39m, in \u001b[36mpredic_cluster\u001b[39m\u001b[34m(weight, length)\u001b[39m\n\u001b[32m      2\u001b[39m \u001b[38;5;28;01mdef\u001b[39;00m\u001b[38;5;250m \u001b[39m\u001b[34mpredic_cluster\u001b[39m(weight, length):\n\u001b[32m      3\u001b[39m     new_data = [[weight, length]]  \u001b[38;5;66;03m# 2D list\u001b[39;00m\n\u001b[32m----> \u001b[39m\u001b[32m4\u001b[39m     cluster = \u001b[43mmodel\u001b[49m\u001b[43m.\u001b[49m\u001b[43mpredict\u001b[49m\u001b[43m(\u001b[49m\u001b[43mnew_data\u001b[49m\u001b[43m)\u001b[49m\n\u001b[32m      5\u001b[39m     \u001b[38;5;28;01mreturn\u001b[39;00m cluster[\u001b[32m0\u001b[39m]\n",
      "\u001b[36mCell\u001b[39m\u001b[36m \u001b[39m\u001b[32mIn[60]\u001b[39m\u001b[32m, line 31\u001b[39m, in \u001b[36mkmeanscust1.predict\u001b[39m\u001b[34m(self, X)\u001b[39m\n\u001b[32m     29\u001b[39m     X = X.values\n\u001b[32m     30\u001b[39m X = np.array(X)  \u001b[38;5;66;03m# this ensures list inputs also work\u001b[39;00m\n\u001b[32m---> \u001b[39m\u001b[32m31\u001b[39m distances = np.linalg.norm(\u001b[43mX\u001b[49m\u001b[43m[\u001b[49m\u001b[43m:\u001b[49m\u001b[43m,\u001b[49m\u001b[43m \u001b[49m\u001b[43mnp\u001b[49m\u001b[43m.\u001b[49m\u001b[43mnewaxis\u001b[49m\u001b[43m]\u001b[49m\u001b[43m \u001b[49m\u001b[43m-\u001b[49m\u001b[43m \u001b[49m\u001b[38;5;28;43mself\u001b[39;49m\u001b[43m.\u001b[49m\u001b[43mcentroids\u001b[49m, axis=\u001b[32m2\u001b[39m)\n\u001b[32m     32\u001b[39m \u001b[38;5;28;01mreturn\u001b[39;00m np.argmin(distances, axis=\u001b[32m1\u001b[39m)\n",
      "\u001b[31mTypeError\u001b[39m: unsupported operand type(s) for -: 'int' and 'NoneType'"
     ]
    }
   ],
   "source": [
    "model =  kmeanscust1(4)\n",
    "def predic_cluster(weight, length):\n",
    "    new_data = [[weight, length]]  # 2D list\n",
    "    cluster = model.predict(new_data)\n",
    "    return cluster[0]\n",
    "\n",
    "predicted_cluster = predic_cluster(290, 24)\n",
    "print(f\"Fish belongs to cluster {predicted_cluster}\")"
   ]
  },
  {
   "cell_type": "code",
   "execution_count": 64,
   "id": "2fb6bfba",
   "metadata": {},
   "outputs": [
    {
     "name": "stdout",
     "output_type": "stream",
     "text": [
      "Fish belongs to cluster 3\n"
     ]
    }
   ],
   "source": [
    "import numpy as np\n",
    "import pandas as pd\n",
    "\n",
    "# Sample fish data (weight and length)\n",
    "data = {\n",
    "    \"Weight\": [242.0, 290.0, 340.0, 363.0, 430.0, 500.0, 390.0, 450.0, 500.0],\n",
    "    \"Length\": [25.4, 26.3, 26.5, 29.0, 29.0, 29.7, 30.0, 30.0, 30.7]\n",
    "}\n",
    "df = pd.DataFrame(data)\n",
    "\n",
    "# Custom KMeans class\n",
    "class kmeanscust1:\n",
    "    def __init__(self, K, max_iter=100):\n",
    "        self.K = K\n",
    "        self.max_iter = max_iter\n",
    "        self.centroids = None\n",
    "        self.labels_ = None\n",
    "\n",
    "    def fit(self, X):\n",
    "        if isinstance(X, pd.DataFrame):\n",
    "            X = X.values\n",
    "        n_samples, n_features = X.shape\n",
    "        random_indices = np.random.choice(n_samples, self.K, replace=False)\n",
    "        self.centroids = X[random_indices]\n",
    "    \n",
    "        for _ in range(self.max_iter):\n",
    "            distances = np.linalg.norm(X[:, np.newaxis] - self.centroids, axis=2)\n",
    "            labels = np.argmin(distances, axis=1)\n",
    "            new_centroids = np.array([\n",
    "                X[labels == k].mean(axis=0) if np.any(labels == k) else self.centroids[k]\n",
    "                for k in range(self.K)\n",
    "            ])\n",
    "            if np.allclose(self.centroids, new_centroids):\n",
    "                break\n",
    "            self.centroids = new_centroids\n",
    "        self.labels_ = labels\n",
    "\n",
    "    def predict(self, X):\n",
    "        if isinstance(X, pd.DataFrame):\n",
    "            X = X.values\n",
    "        X = np.array(X)  # ensures list inputs also work\n",
    "        distances = np.linalg.norm(X[:, np.newaxis] - self.centroids, axis=2)\n",
    "        return np.argmin(distances, axis=1)\n",
    "\n",
    "# Initialize and train model\n",
    "model = kmeanscust1(K=4)\n",
    "model.fit(X)\n",
    "\n",
    "# Prediction function\n",
    "def predic_cluster(weight, length):\n",
    "    new_data = [[weight, length]]\n",
    "    cluster = model.predict(new_data)\n",
    "    return cluster[0]\n",
    "\n",
    "# Predict new fish\n",
    "predicted_cluster = predic_cluster(290, 24)\n",
    "print(f\"Fish belongs to cluster {predicted_cluster}\")\n"
   ]
  },
  {
   "cell_type": "code",
   "execution_count": null,
   "id": "a5bba340",
   "metadata": {},
   "outputs": [
    {
     "data": {
      "text/plain": [
       "array([0, 0, 0, 2, 2, 2, 0, 2, 2, 2, 2, 2, 2, 2, 2, 2, 2, 2, 2, 2, 2, 2,\n",
       "       2, 2, 2, 2, 2, 1, 1, 1, 1, 1, 1, 0, 0, 0, 0, 0, 0, 0, 0, 0, 0, 0,\n",
       "       0, 0, 0, 0, 0, 0, 0, 0, 0, 0, 0, 0, 0, 0, 0, 0, 0, 0, 0, 0, 0, 0,\n",
       "       0, 0, 0, 0, 0, 2, 0, 2, 2, 2, 2, 2, 2, 1, 1, 3, 3, 3])"
      ]
     },
     "execution_count": 69,
     "metadata": {},
     "output_type": "execute_result"
    }
   ],
   "source": [
    "from sklearn.cluster import AgglomerativeClustering\n",
    "\n",
    "agg = AgglomerativeClustering(n_clusters=4,metric=\"euclidean\",linkage = 'ward')\n",
    "y  = agg.fit_predict(X)\n",
    "y\n",
    "\n"
   ]
  },
  {
   "cell_type": "code",
   "execution_count": 72,
   "id": "c51ad6a2",
   "metadata": {},
   "outputs": [
    {
     "data": {
      "text/plain": [
       "array([-1, -1, -1, -1, -1, -1, -1, -1, -1, -1, -1, -1, -1, -1, -1, -1, -1,\n",
       "       -1, -1, -1, -1, -1, -1, -1, -1, -1, -1, -1, -1, -1, -1, -1, -1, -1,\n",
       "       -1, -1, -1, -1, -1, -1, -1, -1, -1, -1, -1, -1, -1, -1, -1, -1, -1,\n",
       "       -1, -1, -1, -1, -1, -1, -1, -1, -1, -1, -1, -1, -1, -1, -1, -1, -1,\n",
       "       -1, -1, -1, -1, -1, -1, -1, -1, -1, -1, -1, -1, -1, -1, -1, -1])"
      ]
     },
     "execution_count": 72,
     "metadata": {},
     "output_type": "execute_result"
    }
   ],
   "source": [
    "from sklearn.cluster import DBSCAN\n",
    "db = DBSCAN(eps=0.3,min_samples=10)\n",
    "db.fit(X)\n",
    "labels = db.labels_\n",
    "labels"
   ]
  },
  {
   "cell_type": "code",
   "execution_count": null,
   "id": "08c8fa5d",
   "metadata": {},
   "outputs": [],
   "source": []
  }
 ],
 "metadata": {
  "kernelspec": {
   "display_name": ".venv",
   "language": "python",
   "name": "python3"
  },
  "language_info": {
   "codemirror_mode": {
    "name": "ipython",
    "version": 3
   },
   "file_extension": ".py",
   "mimetype": "text/x-python",
   "name": "python",
   "nbconvert_exporter": "python",
   "pygments_lexer": "ipython3",
   "version": "3.13.5"
  }
 },
 "nbformat": 4,
 "nbformat_minor": 5
}
