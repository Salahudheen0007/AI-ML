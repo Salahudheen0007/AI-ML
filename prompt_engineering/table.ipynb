{
 "cells": [
  {
   "cell_type": "code",
   "execution_count": null,
   "id": "d928961e",
   "metadata": {
    "vscode": {
     "languageId": "plaintext"
    }
   },
   "outputs": [],
   "source": [
    "\n",
    "\n"
   ]
  },
  {
   "cell_type": "markdown",
   "id": "a1a5b74b",
   "metadata": {},
   "source": [
    "| Prompt | Features | Clarity (0–100) |\n",
    "|--------|---------|-----------------------------|\n",
    "| “Explain Random Forest Classifier simply.” | Direct, no examples; tests general knowledge. | 70 |\n",
    "| “Explain Random Forest with an example of classifying whether a tumor is malignant or benign.” | Provides context/example → guides model to give applied explanation. | 85 |\n",
    "| “Step-by-step: How Random Forest works internally (decision trees, bagging, feature selection, voting).” | Structured breakdown of complex process; logical steps. | 90 |\n",
    "| “Compare Random Forest with Decision Tree in terms of purpose, strengths, and limitations. Write in a table.” | Clear, constrained output format → easy comparison. | 92 |\n",
    "| “Summarize Random Forest in 3 bullet points as if for exam revision.” | Concise, high-yield summary → quick recall. | 95 |\n"
   ]
  },
  {
   "cell_type": "markdown",
   "id": "07b2745e",
   "metadata": {},
   "source": []
  },
  {
   "cell_type": "markdown",
   "id": "77aba773",
   "metadata": {},
   "source": []
  }
 ],
 "metadata": {
  "language_info": {
   "name": "python"
  }
 },
 "nbformat": 4,
 "nbformat_minor": 5
}
