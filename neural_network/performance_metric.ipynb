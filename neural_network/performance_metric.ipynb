{
 "cells": [
  {
   "cell_type": "code",
   "execution_count": 1,
   "id": "0fcb6187",
   "metadata": {},
   "outputs": [],
   "source": [
    "import pandas as pd\n",
    "import numpy as np\n",
    "\n"
   ]
  },
  {
   "cell_type": "code",
   "execution_count": 15,
   "id": "14f32f38",
   "metadata": {},
   "outputs": [
    {
     "name": "stdout",
     "output_type": "stream",
     "text": [
      "mse1 :  0.1712183999133095\n",
      "rmse1 : 0.4137854515486371\n",
      "mae1 :  0.3398545284163354\n"
     ]
    }
   ],
   "source": [
    "def mse(y,yhat):\n",
    "    return np.mean((y-yhat)**2)\n",
    "\n",
    "def Rmse(y,yhat):\n",
    "    return np.sqrt(mse(y,yhat))\n",
    "\n",
    "def mae(y,yhat):\n",
    "    return np.mean(np.abs(y-yhat))\n",
    "\n",
    "y = np.random.random(100)\n",
    "yhat = np.random.random(100)\n",
    "y\n",
    "\n",
    "mse1 = mse(y,yhat)\n",
    "rmse1 = Rmse(y,yhat)\n",
    "mae1 = mae(y,yhat)\n",
    "print(\"mse1 : \",mse1)\n",
    "print(\"rmse1 :\",rmse1)\n",
    "print(\"mae1 : \",mae1)"
   ]
  },
  {
   "cell_type": "code",
   "execution_count": 16,
   "id": "90f7a7a7",
   "metadata": {},
   "outputs": [
    {
     "name": "stdout",
     "output_type": "stream",
     "text": [
      "mse2 :  0.1712183999133095\n",
      "rmse2 : 0.4137854515486371\n",
      "mae2 :  0.3398545284163354\n"
     ]
    }
   ],
   "source": [
    "from sklearn.metrics import mean_absolute_error,root_mean_squared_error,mean_squared_error\n",
    "mse2 = mean_squared_error(y,yhat)\n",
    "rmse2 = root_mean_squared_error(y,yhat)\n",
    "mae2 = mean_absolute_error(y,yhat)\n",
    "print(\"mse2 : \",mse2)\n",
    "print(\"rmse2 :\",rmse2)\n",
    "print(\"mae2 : \",mae2)"
   ]
  },
  {
   "cell_type": "code",
   "execution_count": 49,
   "id": "ea7cae4d",
   "metadata": {},
   "outputs": [],
   "source": [
    "import numpy as np\n",
    "\n",
    "def bin_cross_entropy(y,yhat,eps = 1e-15):\n",
    "    yhat = np.clip(yhat, eps, 1 - eps) \n",
    "    return -np.mean(y*np.log(yhat) + (1-y)*np.log(1-yhat))\n",
    "\n",
    "y = np.random.randint(0,2,100).astype('float32')\n",
    "yhat = np.random.rand(100).astype('float32')"
   ]
  },
  {
   "cell_type": "code",
   "execution_count": 50,
   "id": "07a1d9b7",
   "metadata": {},
   "outputs": [
    {
     "name": "stdout",
     "output_type": "stream",
     "text": [
      "BCE1:  1.0210807\n"
     ]
    }
   ],
   "source": [
    "BCE1 = bin_cross_entropy(y,yhat)\n",
    "print(\"BCE1: \",BCE1)"
   ]
  },
  {
   "cell_type": "code",
   "execution_count": 51,
   "id": "001dc2fc",
   "metadata": {},
   "outputs": [
    {
     "name": "stdout",
     "output_type": "stream",
     "text": [
      "BCE2:  tf.Tensor(1.0210807, shape=(), dtype=float32)\n"
     ]
    }
   ],
   "source": [
    "from tensorflow.keras.losses import binary_crossentropy\n",
    "BCE2 = binary_crossentropy(y,yhat) \n",
    "print(\"BCE2: \",BCE2)"
   ]
  },
  {
   "cell_type": "code",
   "execution_count": null,
   "id": "f7758193",
   "metadata": {},
   "outputs": [],
   "source": []
  }
 ],
 "metadata": {
  "kernelspec": {
   "display_name": ".venv",
   "language": "python",
   "name": "python3"
  },
  "language_info": {
   "codemirror_mode": {
    "name": "ipython",
    "version": 3
   },
   "file_extension": ".py",
   "mimetype": "text/x-python",
   "name": "python",
   "nbconvert_exporter": "python",
   "pygments_lexer": "ipython3",
   "version": "3.13.5"
  }
 },
 "nbformat": 4,
 "nbformat_minor": 5
}
