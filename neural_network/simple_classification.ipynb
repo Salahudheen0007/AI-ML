{
 "cells": [
  {
   "cell_type": "code",
   "execution_count": 1,
   "id": "5c5afd57",
   "metadata": {},
   "outputs": [],
   "source": [
    "import numpy as np\n",
    "import pandas as pd\n",
    "import matplotlib.pyplot as plt"
   ]
  },
  {
   "cell_type": "code",
   "execution_count": 3,
   "id": "c5a9c48d",
   "metadata": {},
   "outputs": [],
   "source": [
    "from sklearn.datasets import load_iris\n",
    "iris = load_iris()\n",
    "X = iris['data']\n",
    "y = iris['target']\n"
   ]
  },
  {
   "cell_type": "code",
   "execution_count": 4,
   "id": "a2b48765",
   "metadata": {},
   "outputs": [],
   "source": [
    "from sklearn.model_selection import train_test_split\n",
    "X_train,X_test,y_train,y_test = train_test_split(X,y,test_size=0.25,random_state=42)\n"
   ]
  },
  {
   "cell_type": "code",
   "execution_count": 5,
   "id": "a9292e61",
   "metadata": {},
   "outputs": [],
   "source": [
    "from tensorflow.keras.models import Sequential\n",
    "from tensorflow.keras.layers import Dense,Input"
   ]
  },
  {
   "cell_type": "code",
   "execution_count": 6,
   "id": "9c17d24d",
   "metadata": {},
   "outputs": [],
   "source": [
    "model = Sequential()\n",
    "# this is a classification problem and output has 3 classes\n",
    "model.add(Input(shape=(4,)))\n",
    "model.add(Dense(10,activation='relu'))\n",
    "model.add(Dense(20,activation='relu'))\n",
    "model.add(Dense(3,activation='softmax'))"
   ]
  },
  {
   "cell_type": "code",
   "execution_count": 7,
   "id": "b036924e",
   "metadata": {},
   "outputs": [],
   "source": [
    "model.compile(optimizer='adam',\n",
    "              loss = 'sparse_categorical_crossentropy',\n",
    "              metrics = ['accuracy'])"
   ]
  },
  {
   "cell_type": "code",
   "execution_count": 8,
   "id": "6924de86",
   "metadata": {},
   "outputs": [
    {
     "name": "stdout",
     "output_type": "stream",
     "text": [
      "Epoch 1/20\n",
      "\u001b[1m4/4\u001b[0m \u001b[32m━━━━━━━━━━━━━━━━━━━━\u001b[0m\u001b[37m\u001b[0m \u001b[1m3s\u001b[0m 133ms/step - accuracy: 0.3125 - loss: 1.1051 - val_accuracy: 0.4211 - val_loss: 1.0327\n",
      "Epoch 2/20\n",
      "\u001b[1m4/4\u001b[0m \u001b[32m━━━━━━━━━━━━━━━━━━━━\u001b[0m\u001b[37m\u001b[0m \u001b[1m0s\u001b[0m 37ms/step - accuracy: 0.3750 - loss: 1.0697 - val_accuracy: 0.6053 - val_loss: 1.0064\n",
      "Epoch 3/20\n",
      "\u001b[1m4/4\u001b[0m \u001b[32m━━━━━━━━━━━━━━━━━━━━\u001b[0m\u001b[37m\u001b[0m \u001b[1m0s\u001b[0m 38ms/step - accuracy: 0.6339 - loss: 1.0326 - val_accuracy: 0.7105 - val_loss: 0.9828\n",
      "Epoch 4/20\n",
      "\u001b[1m4/4\u001b[0m \u001b[32m━━━━━━━━━━━━━━━━━━━━\u001b[0m\u001b[37m\u001b[0m \u001b[1m0s\u001b[0m 37ms/step - accuracy: 0.6518 - loss: 1.0024 - val_accuracy: 0.7105 - val_loss: 0.9561\n",
      "Epoch 5/20\n",
      "\u001b[1m4/4\u001b[0m \u001b[32m━━━━━━━━━━━━━━━━━━━━\u001b[0m\u001b[37m\u001b[0m \u001b[1m0s\u001b[0m 38ms/step - accuracy: 0.6518 - loss: 0.9714 - val_accuracy: 0.7105 - val_loss: 0.9285\n",
      "Epoch 6/20\n",
      "\u001b[1m4/4\u001b[0m \u001b[32m━━━━━━━━━━━━━━━━━━━━\u001b[0m\u001b[37m\u001b[0m \u001b[1m0s\u001b[0m 36ms/step - accuracy: 0.6518 - loss: 0.9454 - val_accuracy: 0.7105 - val_loss: 0.9096\n",
      "Epoch 7/20\n",
      "\u001b[1m4/4\u001b[0m \u001b[32m━━━━━━━━━━━━━━━━━━━━\u001b[0m\u001b[37m\u001b[0m \u001b[1m0s\u001b[0m 35ms/step - accuracy: 0.6518 - loss: 0.9270 - val_accuracy: 0.7105 - val_loss: 0.8932\n",
      "Epoch 8/20\n",
      "\u001b[1m4/4\u001b[0m \u001b[32m━━━━━━━━━━━━━━━━━━━━\u001b[0m\u001b[37m\u001b[0m \u001b[1m0s\u001b[0m 37ms/step - accuracy: 0.6607 - loss: 0.9094 - val_accuracy: 0.7368 - val_loss: 0.8752\n",
      "Epoch 9/20\n",
      "\u001b[1m4/4\u001b[0m \u001b[32m━━━━━━━━━━━━━━━━━━━━\u001b[0m\u001b[37m\u001b[0m \u001b[1m0s\u001b[0m 36ms/step - accuracy: 0.6786 - loss: 0.8910 - val_accuracy: 0.7368 - val_loss: 0.8558\n",
      "Epoch 10/20\n",
      "\u001b[1m4/4\u001b[0m \u001b[32m━━━━━━━━━━━━━━━━━━━━\u001b[0m\u001b[37m\u001b[0m \u001b[1m0s\u001b[0m 44ms/step - accuracy: 0.6875 - loss: 0.8724 - val_accuracy: 0.7368 - val_loss: 0.8402\n",
      "Epoch 11/20\n",
      "\u001b[1m4/4\u001b[0m \u001b[32m━━━━━━━━━━━━━━━━━━━━\u001b[0m\u001b[37m\u001b[0m \u001b[1m0s\u001b[0m 37ms/step - accuracy: 0.6786 - loss: 0.8569 - val_accuracy: 0.7368 - val_loss: 0.8233\n",
      "Epoch 12/20\n",
      "\u001b[1m4/4\u001b[0m \u001b[32m━━━━━━━━━━━━━━━━━━━━\u001b[0m\u001b[37m\u001b[0m \u001b[1m0s\u001b[0m 36ms/step - accuracy: 0.6696 - loss: 0.8407 - val_accuracy: 0.7368 - val_loss: 0.8042\n",
      "Epoch 13/20\n",
      "\u001b[1m4/4\u001b[0m \u001b[32m━━━━━━━━━━━━━━━━━━━━\u001b[0m\u001b[37m\u001b[0m \u001b[1m0s\u001b[0m 35ms/step - accuracy: 0.6696 - loss: 0.8244 - val_accuracy: 0.7368 - val_loss: 0.7811\n",
      "Epoch 14/20\n",
      "\u001b[1m4/4\u001b[0m \u001b[32m━━━━━━━━━━━━━━━━━━━━\u001b[0m\u001b[37m\u001b[0m \u001b[1m0s\u001b[0m 81ms/step - accuracy: 0.6875 - loss: 0.8057 - val_accuracy: 0.7368 - val_loss: 0.7605\n",
      "Epoch 15/20\n",
      "\u001b[1m4/4\u001b[0m \u001b[32m━━━━━━━━━━━━━━━━━━━━\u001b[0m\u001b[37m\u001b[0m \u001b[1m0s\u001b[0m 34ms/step - accuracy: 0.6964 - loss: 0.7875 - val_accuracy: 0.7895 - val_loss: 0.7416\n",
      "Epoch 16/20\n",
      "\u001b[1m4/4\u001b[0m \u001b[32m━━━━━━━━━━━━━━━━━━━━\u001b[0m\u001b[37m\u001b[0m \u001b[1m0s\u001b[0m 34ms/step - accuracy: 0.7500 - loss: 0.7714 - val_accuracy: 0.8421 - val_loss: 0.7210\n",
      "Epoch 17/20\n",
      "\u001b[1m4/4\u001b[0m \u001b[32m━━━━━━━━━━━━━━━━━━━━\u001b[0m\u001b[37m\u001b[0m \u001b[1m0s\u001b[0m 36ms/step - accuracy: 0.7768 - loss: 0.7531 - val_accuracy: 0.8421 - val_loss: 0.7022\n",
      "Epoch 18/20\n",
      "\u001b[1m4/4\u001b[0m \u001b[32m━━━━━━━━━━━━━━━━━━━━\u001b[0m\u001b[37m\u001b[0m \u001b[1m0s\u001b[0m 43ms/step - accuracy: 0.7768 - loss: 0.7354 - val_accuracy: 0.8421 - val_loss: 0.6847\n",
      "Epoch 19/20\n",
      "\u001b[1m4/4\u001b[0m \u001b[32m━━━━━━━━━━━━━━━━━━━━\u001b[0m\u001b[37m\u001b[0m \u001b[1m0s\u001b[0m 35ms/step - accuracy: 0.7857 - loss: 0.7177 - val_accuracy: 0.8158 - val_loss: 0.6668\n",
      "Epoch 20/20\n",
      "\u001b[1m4/4\u001b[0m \u001b[32m━━━━━━━━━━━━━━━━━━━━\u001b[0m\u001b[37m\u001b[0m \u001b[1m0s\u001b[0m 36ms/step - accuracy: 0.7589 - loss: 0.7007 - val_accuracy: 0.8158 - val_loss: 0.6481\n"
     ]
    }
   ],
   "source": [
    "history = model.fit(X_train,y_train,\n",
    "                    epochs = 20,\n",
    "                    validation_data = (X_test,y_test),\n",
    "                    batch_size = 32)"
   ]
  },
  {
   "cell_type": "code",
   "execution_count": 12,
   "id": "17dd80f4",
   "metadata": {},
   "outputs": [
    {
     "data": {
      "image/png": "[encoded data removed]",
      "text/plain": [
       "<Figure size 400x400 with 1 Axes>"
      ]
     },
     "metadata": {},
     "output_type": "display_data"
    }
   ],
   "source": [
    "plt.figure(figsize=(4,4))\n",
    "plt.plot(history.history['loss'],label = \"training loss\")\n",
    "plt.plot(history.history['val_loss'],label = \"testing loss\")\n",
    "plt.title(\"loss curve\")\n",
    "plt.xlabel(\"epochs\")\n",
    "plt.ylabel(\"loss\")\n",
    "plt.legend()\n",
    "plt.show()"
   ]
  },
  {
   "cell_type": "code",
   "execution_count": 13,
   "id": "cd57def6",
   "metadata": {},
   "outputs": [
    {
     "name": "stdout",
     "output_type": "stream",
     "text": [
      "\u001b[1m2/2\u001b[0m \u001b[32m━━━━━━━━━━━━━━━━━━━━\u001b[0m\u001b[37m\u001b[0m \u001b[1m0s\u001b[0m 40ms/step - accuracy: 0.8158 - loss: 0.6481\n",
      "[0.6481013298034668, 0.8157894611358643]\n"
     ]
    }
   ],
   "source": [
    "print(model.evaluate(X_test,y_test))"
   ]
  },
  {
   "cell_type": "code",
   "execution_count": null,
   "id": "92ecaf02",
   "metadata": {},
   "outputs": [
    {
     "name": "stdout",
     "output_type": "stream",
     "text": [
      "\u001b[1m1/1\u001b[0m \u001b[32m━━━━━━━━━━━━━━━━━━━━\u001b[0m\u001b[37m\u001b[0m \u001b[1m0s\u001b[0m 142ms/step\n"
     ]
    },
    {
     "data": {
      "text/plain": [
       "np.int64(2)"
      ]
     },
     "execution_count": 15,
     "metadata": {},
     "output_type": "execute_result"
    }
   ],
   "source": [
    "import numpy as np\n",
    "sample_input = np.array([[1,2,3,4]])\n",
    "sample_out = model.predict(sample_input)\n",
    "sample_out = np.argmax(sample_out)\n",
    "sample_out"
   ]
  },
  {
   "cell_type": "code",
   "execution_count": 16,
   "id": "7e0d5331",
   "metadata": {},
   "outputs": [],
   "source": [
    "model.save(\"iris_classification.keras\")"
   ]
  },
  {
   "cell_type": "code",
   "execution_count": 19,
   "id": "03244b62",
   "metadata": {},
   "outputs": [],
   "source": [
    "import tensorflow as tf\n",
    "model1 = tf.keras.models.load_model(\"iris_classification.keras\")"
   ]
  },
  {
   "cell_type": "code",
   "execution_count": 21,
   "id": "146e319b",
   "metadata": {},
   "outputs": [
    {
     "name": "stdout",
     "output_type": "stream",
     "text": [
      "\u001b[1m2/2\u001b[0m \u001b[32m━━━━━━━━━━━━━━━━━━━━\u001b[0m\u001b[37m\u001b[0m \u001b[1m0s\u001b[0m 39ms/step\n"
     ]
    },
    {
     "data": {
      "text/plain": [
       "array([[0.18548676, 0.3817236 , 0.43278956],\n",
       "       [0.6784092 , 0.19778812, 0.12380264],\n",
       "       [0.10318358, 0.30224   , 0.5945765 ],\n",
       "       [0.18057287, 0.3928569 , 0.4265702 ],\n",
       "       [0.16612233, 0.38796473, 0.44591296],\n",
       "       [0.60678273, 0.24016994, 0.15304731],\n",
       "       [0.22565462, 0.40928587, 0.36505952],\n",
       "       [0.14263429, 0.37458342, 0.48278236],\n",
       "       [0.15684237, 0.35990757, 0.48325005],\n",
       "       [0.20098282, 0.40849602, 0.39052117],\n",
       "       [0.15359151, 0.38352093, 0.4628876 ],\n",
       "       [0.61748075, 0.22904657, 0.15347269],\n",
       "       [0.6692227 , 0.20373626, 0.12704098],\n",
       "       [0.6247925 , 0.22467163, 0.15053587],\n",
       "       [0.72402054, 0.16906   , 0.10691944],\n",
       "       [0.19671883, 0.3921426 , 0.41113856],\n",
       "       [0.12837408, 0.34582812, 0.5257978 ],\n",
       "       [0.19776753, 0.39927804, 0.4029544 ],\n",
       "       [0.19538856, 0.37906137, 0.42555016],\n",
       "       [0.12995584, 0.34268194, 0.5273622 ],\n",
       "       [0.6283926 , 0.22103754, 0.15056987],\n",
       "       [0.16195837, 0.37931037, 0.4587313 ],\n",
       "       [0.6182815 , 0.22994265, 0.15177584],\n",
       "       [0.13155079, 0.34433672, 0.5241124 ],\n",
       "       [0.13848169, 0.36945525, 0.4920631 ],\n",
       "       [0.13742782, 0.36361766, 0.49895453],\n",
       "       [0.12921761, 0.33304816, 0.53773427],\n",
       "       [0.1249624 , 0.34933442, 0.52570313],\n",
       "       [0.57759243, 0.25307703, 0.1693306 ],\n",
       "       [0.60055155, 0.23753677, 0.16191167],\n",
       "       [0.7443799 , 0.15597188, 0.09964827],\n",
       "       [0.78111064, 0.13729267, 0.08159671],\n",
       "       [0.18856718, 0.4157392 , 0.39569363],\n",
       "       [0.6666666 , 0.19975962, 0.13357374],\n",
       "       [0.6720547 , 0.1965721 , 0.13137321],\n",
       "       [0.14066479, 0.34938303, 0.50995225],\n",
       "       [0.19251366, 0.40680274, 0.40068358],\n",
       "       [0.67696476, 0.19679934, 0.12623595]], dtype=float32)"
      ]
     },
     "execution_count": 21,
     "metadata": {},
     "output_type": "execute_result"
    }
   ],
   "source": [
    "y_pred = model1.predict(X_test)\n",
    "y_pred"
   ]
  },
  {
   "cell_type": "code",
   "execution_count": null,
   "id": "c50b7bce",
   "metadata": {},
   "outputs": [],
   "source": []
  }
 ],
 "metadata": {
  "kernelspec": {
   "display_name": ".venv",
   "language": "python",
   "name": "python3"
  },
  "language_info": {
   "codemirror_mode": {
    "name": "ipython",
    "version": 3
   },
   "file_extension": ".py",
   "mimetype": "text/x-python",
   "name": "python",
   "nbconvert_exporter": "python",
   "pygments_lexer": "ipython3",
   "version": "3.13.5"
  }
 },
 "nbformat": 4,
 "nbformat_minor": 5
}
