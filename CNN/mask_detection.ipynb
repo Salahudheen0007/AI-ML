{
 "cells": [
  {
   "cell_type": "code",
   "execution_count": 10,
   "id": "2cc9cc5f",
   "metadata": {},
   "outputs": [],
   "source": [
    "import numpy as np\n",
    "import cv2\n",
    "import tensorflow as tf"
   ]
  },
  {
   "cell_type": "code",
   "execution_count": 11,
   "id": "1a2b6863",
   "metadata": {},
   "outputs": [
    {
     "name": "stderr",
     "output_type": "stream",
     "text": [
      "c:\\AI_ML_fresh\\.venv\\Lib\\site-packages\\keras\\src\\saving\\saving_lib.py:797: UserWarning: Skipping variable loading for optimizer 'rmsprop', because it has 12 variables whereas the saved optimizer has 22 variables. \n",
      "  saveable.load_own_variables(weights_store.get(inner_path))\n"
     ]
    }
   ],
   "source": [
    "model = tf.keras.models.load_model(\"mask_model.keras\")"
   ]
  },
  {
   "cell_type": "code",
   "execution_count": 12,
   "id": "24c2459a",
   "metadata": {},
   "outputs": [
    {
     "name": "stdout",
     "output_type": "stream",
     "text": [
      "Press 'c' to capture an image and check mask status.\n",
      "Press 'q' to quit without capturing.\n"
     ]
    }
   ],
   "source": [
    "cap = cv2.VideoCapture(0)\n",
    "\n",
    "print(\"Press 'c' to capture an image and check mask status.\")\n",
    "print(\"Press 'q' to quit without capturing.\")\n",
    "while True:\n",
    "    ret,frame = cap.read()\n",
    "    if not ret:\n",
    "        break\n",
    "\n",
    "    cv2.imshow(\"Press 'c' to Capture\", frame)\n",
    "    key = cv2.waitKey(1) & 0xFF\n",
    "    \n",
    "    if key == ord(\"c\"):   # Capture frame\n",
    "        img = cv2.resize(frame, (128,128))   # Resize to model input\n",
    "        img = img / 255.0                    # Normalize\n",
    "        img = np.expand_dims(img, axis=0)    # Add batch dimension\n",
    "\n",
    "        # Predict\n",
    "        pred = model.predict(img, verbose=0)[0][0]\n",
    "        label = \"With Mask\" if pred < 0.5 else \"Without Mask\"\n",
    "        confidence = (1 - pred if pred < 0.5 else pred) * 100\n",
    "\n",
    "        # Show result on captured frame\n",
    "        cv2.putText(frame, f\"{label} ({confidence:.2f}%)\", (30,50),\n",
    "                    cv2.FONT_HERSHEY_SIMPLEX, 1,\n",
    "                    (0,255,0) if label==\"With Mask\" else (0,0,255), 2)\n",
    "        cv2.imshow(\"Result\", frame)\n",
    "\n",
    "        cv2.waitKey(0)  # Wait until any key is pressed\n",
    "        break\n",
    "\n",
    "    elif key == ord(\"q\"):  # Quit\n",
    "        break\n",
    "\n",
    "cap.release()\n",
    "cv2.destroyAllWindows()"
   ]
  },
  {
   "cell_type": "code",
   "execution_count": 14,
   "id": "2e48877a",
   "metadata": {},
   "outputs": [
    {
     "name": "stderr",
     "output_type": "stream",
     "text": [
      "c:\\AI_ML_fresh\\.venv\\Lib\\site-packages\\keras\\src\\saving\\saving_lib.py:797: UserWarning: Skipping variable loading for optimizer 'rmsprop', because it has 12 variables whereas the saved optimizer has 22 variables. \n",
      "  saveable.load_own_variables(weights_store.get(inner_path))\n"
     ]
    }
   ],
   "source": [
    "import cv2\n",
    "import numpy as np\n",
    "import tensorflow as tf\n",
    "\n",
    "# Load trained model\n",
    "model = tf.keras.models.load_model(\"mask_model.keras\")\n",
    "\n",
    "# Path to your local image\n",
    "img_path = \"mask_guy.jpg\"   # 👈 change this to your image file\n",
    "\n",
    "# Read the image\n",
    "img = cv2.imread(img_path)\n",
    "\n",
    "# Preprocess\n",
    "resized = cv2.resize(img, (128,128))   # Resize for model input\n",
    "resized = resized / 255.0              # Normalize\n",
    "resized = np.expand_dims(resized, axis=0)  # Add batch dimension\n",
    "\n",
    "# Predict\n",
    "pred = model.predict(resized, verbose=0)[0][0]\n",
    "label = \"With Mask\" if pred < 0.5 else \"Without Mask\"\n",
    "confidence = (1 - pred if pred < 0.5 else pred) * 100\n",
    "\n",
    "# Show result\n",
    "cv2.putText(img, f\"{label} ({confidence:.2f}%)\", (30,50),\n",
    "            cv2.FONT_HERSHEY_SIMPLEX, 1,\n",
    "            (0,255,0) if label==\"With Mask\" else (0,0,255), 2)\n",
    "\n",
    "cv2.imshow(\"Result\", img)\n",
    "cv2.waitKey(0)\n",
    "cv2.destroyAllWindows()\n"
   ]
  },
  {
   "cell_type": "code",
   "execution_count": null,
   "id": "6d7261b7",
   "metadata": {},
   "outputs": [],
   "source": []
  }
 ],
 "metadata": {
  "kernelspec": {
   "display_name": ".venv",
   "language": "python",
   "name": "python3"
  },
  "language_info": {
   "codemirror_mode": {
    "name": "ipython",
    "version": 3
   },
   "file_extension": ".py",
   "mimetype": "text/x-python",
   "name": "python",
   "nbconvert_exporter": "python",
   "pygments_lexer": "ipython3",
   "version": "3.13.5"
  }
 },
 "nbformat": 4,
 "nbformat_minor": 5
}
