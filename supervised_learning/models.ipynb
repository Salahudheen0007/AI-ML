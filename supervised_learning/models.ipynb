{
 "cells": [
  {
   "cell_type": "markdown",
   "id": "d55226aa",
   "metadata": {},
   "source": [
    "## hyperparameters\n",
    "\n",
    "### Models and tasks\n",
    "\n",
    "#### model             regression    classification"
   ]
  },
  {
   "cell_type": "markdown",
   "id": "df9c8a92",
   "metadata": {},
   "source": [
    "| Model         | Regression | Classification |\n",
    "|---------------|------------|----------------|\n",
    "| Linear Reg    | Yes        | No             |\n",
    "| Logistic Reg  | No         | Yes            |\n",
    "| KNN           | Yes        | Yes            |\n",
    "| Naive Bayes   | No         | Yes            |\n",
    "| SVM           | Yes        | Yes            |\n",
    "| Decision Tree | Yes        | Yes            |\n",
    "| Random Forest | Yes        | Yes            |"
   ]
  }
 ],
 "metadata": {
  "language_info": {
   "name": "python"
  }
 },
 "nbformat": 4,
 "nbformat_minor": 5
}
