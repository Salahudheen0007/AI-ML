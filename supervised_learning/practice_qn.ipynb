{
 "cells": [
  {
   "cell_type": "code",
   "execution_count": 20,
   "id": "964130c9",
   "metadata": {},
   "outputs": [],
   "source": [
    "import pandas as pd\n",
    "import pandas as pd\n",
    "from sklearn.linear_model import LogisticRegression\n",
    "from sklearn.neighbors import KNeighborsClassifier\n",
    "from sklearn.tree import DecisionTreeClassifier\n",
    "from sklearn.ensemble import RandomForestClassifier\n",
    "from sklearn.model_selection import train_test_split\n",
    "from sklearn.metrics import f1_score,precision_score,accuracy_score,recall_score\n",
    "\n"
   ]
  },
  {
   "cell_type": "code",
   "execution_count": 21,
   "id": "c7d329a4",
   "metadata": {},
   "outputs": [
    {
     "data": {
      "text/html": [
       "<div>\n",
       "<style scoped>\n",
       "    .dataframe tbody tr th:only-of-type {\n",
       "        vertical-align: middle;\n",
       "    }\n",
       "\n",
       "    .dataframe tbody tr th {\n",
       "        vertical-align: top;\n",
       "    }\n",
       "\n",
       "    .dataframe thead th {\n",
       "        text-align: right;\n",
       "    }\n",
       "</style>\n",
       "<table border=\"1\" class=\"dataframe\">\n",
       "  <thead>\n",
       "    <tr style=\"text-align: right;\">\n",
       "      <th></th>\n",
       "      <th>satisfaction</th>\n",
       "      <th>evaluation</th>\n",
       "      <th>number_of_projects</th>\n",
       "      <th>average_montly_hours</th>\n",
       "      <th>time_spend_company</th>\n",
       "      <th>work_accident</th>\n",
       "      <th>churn</th>\n",
       "      <th>promotion</th>\n",
       "      <th>department</th>\n",
       "      <th>salary</th>\n",
       "    </tr>\n",
       "  </thead>\n",
       "  <tbody>\n",
       "    <tr>\n",
       "      <th>0</th>\n",
       "      <td>0.38</td>\n",
       "      <td>530.0</td>\n",
       "      <td>two</td>\n",
       "      <td>157.0</td>\n",
       "      <td>3+</td>\n",
       "      <td>no</td>\n",
       "      <td>yes</td>\n",
       "      <td>no</td>\n",
       "      <td>sales</td>\n",
       "      <td>low</td>\n",
       "    </tr>\n",
       "    <tr>\n",
       "      <th>1</th>\n",
       "      <td>0.80</td>\n",
       "      <td>860.0</td>\n",
       "      <td>five</td>\n",
       "      <td>262.0</td>\n",
       "      <td>6+</td>\n",
       "      <td>no</td>\n",
       "      <td>yes</td>\n",
       "      <td>no</td>\n",
       "      <td>sales</td>\n",
       "      <td>medium</td>\n",
       "    </tr>\n",
       "    <tr>\n",
       "      <th>2</th>\n",
       "      <td>0.11</td>\n",
       "      <td>880.0</td>\n",
       "      <td>seven</td>\n",
       "      <td>272.0</td>\n",
       "      <td>4+</td>\n",
       "      <td>no</td>\n",
       "      <td>yes</td>\n",
       "      <td>no</td>\n",
       "      <td>sales</td>\n",
       "      <td>medium</td>\n",
       "    </tr>\n",
       "    <tr>\n",
       "      <th>3</th>\n",
       "      <td>0.72</td>\n",
       "      <td>870.0</td>\n",
       "      <td>five</td>\n",
       "      <td>223.0</td>\n",
       "      <td>5+</td>\n",
       "      <td>no</td>\n",
       "      <td>yes</td>\n",
       "      <td>no</td>\n",
       "      <td>sales</td>\n",
       "      <td>low</td>\n",
       "    </tr>\n",
       "    <tr>\n",
       "      <th>4</th>\n",
       "      <td>0.37</td>\n",
       "      <td>520.0</td>\n",
       "      <td>two</td>\n",
       "      <td>159.0</td>\n",
       "      <td>3+</td>\n",
       "      <td>no</td>\n",
       "      <td>yes</td>\n",
       "      <td>no</td>\n",
       "      <td>sales</td>\n",
       "      <td>low</td>\n",
       "    </tr>\n",
       "  </tbody>\n",
       "</table>\n",
       "</div>"
      ],
      "text/plain": [
       "   satisfaction  evaluation number_of_projects  average_montly_hours  \\\n",
       "0          0.38       530.0                two                 157.0   \n",
       "1          0.80       860.0               five                 262.0   \n",
       "2          0.11       880.0              seven                 272.0   \n",
       "3          0.72       870.0               five                 223.0   \n",
       "4          0.37       520.0                two                 159.0   \n",
       "\n",
       "  time_spend_company work_accident churn promotion department  salary  \n",
       "0                 3+            no   yes        no      sales     low  \n",
       "1                 6+            no   yes        no      sales  medium  \n",
       "2                 4+            no   yes        no      sales  medium  \n",
       "3                 5+            no   yes        no      sales     low  \n",
       "4                 3+            no   yes        no      sales     low  "
      ]
     },
     "execution_count": 21,
     "metadata": {},
     "output_type": "execute_result"
    }
   ],
   "source": [
    "data = pd.read_csv(\"churn_data.csv\")\n",
    "data.head()"
   ]
  },
  {
   "cell_type": "code",
   "execution_count": 22,
   "id": "321a7c7b",
   "metadata": {},
   "outputs": [
    {
     "data": {
      "text/plain": [
       "number_of_projects    44\n",
       "time_spend_company     0\n",
       "work_accident          0\n",
       "churn                  0\n",
       "promotion              0\n",
       "department            41\n",
       "salary                 0\n",
       "dtype: int64"
      ]
     },
     "execution_count": 22,
     "metadata": {},
     "output_type": "execute_result"
    }
   ],
   "source": [
    "y = data['churn']\n",
    "y.isna().sum()\n",
    "\n",
    "num_df = data.select_dtypes(include='number')\n",
    "cat_df = data.select_dtypes(include = 'object')\n",
    "num_df.isna().sum()\n",
    "cat_df.isna().sum()\n",
    "\n"
   ]
  },
  {
   "cell_type": "code",
   "execution_count": 23,
   "id": "1b4e3a9a",
   "metadata": {},
   "outputs": [],
   "source": [
    "num_cols = num_df.columns.to_list()\n",
    "num_cols\n",
    "\n",
    "for  col in num_cols:\n",
    "    num_df[col] = num_df[col].fillna(num_df[col].median())\n",
    "\n",
    "\n",
    "    "
   ]
  },
  {
   "cell_type": "code",
   "execution_count": 24,
   "id": "df5f6bc3",
   "metadata": {},
   "outputs": [
    {
     "data": {
      "text/plain": [
       "number_of_projects    44\n",
       "time_spend_company     0\n",
       "work_accident          0\n",
       "churn                  0\n",
       "promotion              0\n",
       "department            41\n",
       "salary                 0\n",
       "dtype: int64"
      ]
     },
     "execution_count": 24,
     "metadata": {},
     "output_type": "execute_result"
    }
   ],
   "source": [
    "num_df.isna().sum()\n",
    "\n",
    "cat_cols = cat_df.columns.to_list()\n",
    "for col in cat_cols:\n",
    "    cat_df[col] = cat_df[col].fillna(cat_df[col].mode())\n",
    "\n",
    "\n",
    "cat_df.isna().sum()  "
   ]
  },
  {
   "cell_type": "code",
   "execution_count": 29,
   "id": "24d1e89a",
   "metadata": {},
   "outputs": [],
   "source": [
    "X_train,X_test,y_train,y_test = train_test_split(num_df,y,test_size=0.25,random_state=42)\n",
    "lg = LogisticRegression()\n",
    "lg.fit(X_train,y_train)\n",
    "y_pred1 = lg.predict(X_test)\n",
    "y_pred1\n",
    "accuray1 = accuracy_score(y_test,y_pred1)\n",
    "precision1 = precision_score(y_test,y_pred1,pos_label='yes')\n",
    "recall1 = recall_score(y_test,y_pred1,pos_label='yes')\n",
    "f1_score1 = f1_score(y_test,y_pred1,pos_label='yes')\n",
    "\n"
   ]
  },
  {
   "cell_type": "code",
   "execution_count": 30,
   "id": "593519c0",
   "metadata": {},
   "outputs": [],
   "source": [
    "knn = KNeighborsClassifier(n_neighbors=3)\n",
    "knn.fit(X_train,y_train)\n",
    "y_pred2= knn.predict(X_test)\n",
    "y_pred2\n",
    "accuray2 = accuracy_score(y_test,y_pred2)\n",
    "precision2 = precision_score(y_test,y_pred2,pos_label='yes')\n",
    "recall2 = recall_score(y_test,y_pred2,pos_label='yes')\n",
    "f1_score2 = f1_score(y_test,y_pred2,pos_label='yes')"
   ]
  },
  {
   "cell_type": "code",
   "execution_count": 31,
   "id": "79e55e28",
   "metadata": {},
   "outputs": [],
   "source": [
    "dt = DecisionTreeClassifier()\n",
    "dt.fit(X_train,y_train)\n",
    "y_pred3= dt.predict(X_test)\n",
    "y_pred3\n",
    "accuray3 = accuracy_score(y_test,y_pred3)\n",
    "precision3 = precision_score(y_test,y_pred3,pos_label='yes')\n",
    "recall3 = recall_score(y_test,y_pred3,pos_label='yes')\n",
    "f1_score3 = f1_score(y_test,y_pred3,pos_label='yes')\n"
   ]
  },
  {
   "cell_type": "code",
   "execution_count": 32,
   "id": "e54e3a0c",
   "metadata": {},
   "outputs": [],
   "source": [
    "rf = RandomForestClassifier(n_estimators=100,random_state=42)\n",
    "rf.fit(X_train,y_train)\n",
    "y_pred4= dt.predict(X_test)\n",
    "y_pred4\n",
    "accuray4 = accuracy_score(y_test,y_pred4)\n",
    "precision4 = precision_score(y_test,y_pred4,pos_label='yes')\n",
    "recall4 = recall_score(y_test,y_pred4,pos_label='yes')\n",
    "f1_score4 = f1_score(y_test,y_pred4,pos_label='yes')"
   ]
  },
  {
   "cell_type": "code",
   "execution_count": 38,
   "id": "ce205c93",
   "metadata": {},
   "outputs": [
    {
     "data": {
      "text/html": [
       "<div>\n",
       "<style scoped>\n",
       "    .dataframe tbody tr th:only-of-type {\n",
       "        vertical-align: middle;\n",
       "    }\n",
       "\n",
       "    .dataframe tbody tr th {\n",
       "        vertical-align: top;\n",
       "    }\n",
       "\n",
       "    .dataframe thead th {\n",
       "        text-align: right;\n",
       "    }\n",
       "</style>\n",
       "<table border=\"1\" class=\"dataframe\">\n",
       "  <thead>\n",
       "    <tr style=\"text-align: right;\">\n",
       "      <th></th>\n",
       "      <th>model</th>\n",
       "      <th>accuracy</th>\n",
       "      <th>precision</th>\n",
       "      <th>recall</th>\n",
       "      <th>f1 score</th>\n",
       "    </tr>\n",
       "  </thead>\n",
       "  <tbody>\n",
       "    <tr>\n",
       "      <th>0</th>\n",
       "      <td>logistic regression</td>\n",
       "      <td>0.758133</td>\n",
       "      <td>0.488889</td>\n",
       "      <td>0.245262</td>\n",
       "      <td>0.326652</td>\n",
       "    </tr>\n",
       "    <tr>\n",
       "      <th>1</th>\n",
       "      <td>KNN</td>\n",
       "      <td>0.889067</td>\n",
       "      <td>0.749740</td>\n",
       "      <td>0.804905</td>\n",
       "      <td>0.776344</td>\n",
       "    </tr>\n",
       "    <tr>\n",
       "      <th>2</th>\n",
       "      <td>Decision tree</td>\n",
       "      <td>0.952267</td>\n",
       "      <td>0.886853</td>\n",
       "      <td>0.917503</td>\n",
       "      <td>0.901918</td>\n",
       "    </tr>\n",
       "    <tr>\n",
       "      <th>3</th>\n",
       "      <td>Random forest</td>\n",
       "      <td>0.952267</td>\n",
       "      <td>0.886853</td>\n",
       "      <td>0.917503</td>\n",
       "      <td>0.901918</td>\n",
       "    </tr>\n",
       "  </tbody>\n",
       "</table>\n",
       "</div>"
      ],
      "text/plain": [
       "                 model  accuracy  precision    recall  f1 score\n",
       "0  logistic regression  0.758133   0.488889  0.245262  0.326652\n",
       "1                  KNN  0.889067   0.749740  0.804905  0.776344\n",
       "2        Decision tree  0.952267   0.886853  0.917503  0.901918\n",
       "3        Random forest  0.952267   0.886853  0.917503  0.901918"
      ]
     },
     "execution_count": 38,
     "metadata": {},
     "output_type": "execute_result"
    }
   ],
   "source": [
    "result_df = pd.DataFrame(columns=['model','accuracy','precision','recall','f1 score'])\n",
    "result_df.loc[len(result_df)] = ['logistic regression',accuray1,precision1,recall1,f1_score1]\n",
    "result_df.loc[len(result_df)] = ['KNN',accuray2,precision2,recall2,f1_score2]\n",
    "result_df.loc[len(result_df)] = ['Decision tree',accuray3,precision3,recall3,f1_score3]\n",
    "result_df.loc[len(result_df)] = ['Random forest',accuray4,precision4,recall4,f1_score4]\n",
    "result_df"
   ]
  },
  {
   "cell_type": "code",
   "execution_count": null,
   "id": "dd936f8c",
   "metadata": {},
   "outputs": [],
   "source": []
  }
 ],
 "metadata": {
  "kernelspec": {
   "display_name": ".venv",
   "language": "python",
   "name": "python3"
  },
  "language_info": {
   "codemirror_mode": {
    "name": "ipython",
    "version": 3
   },
   "file_extension": ".py",
   "mimetype": "text/x-python",
   "name": "python",
   "nbconvert_exporter": "python",
   "pygments_lexer": "ipython3",
   "version": "3.13.5"
  }
 },
 "nbformat": 4,
 "nbformat_minor": 5
}
