{
 "cells": [
  {
   "cell_type": "code",
   "execution_count": 141,
   "id": "c9bfe2c4",
   "metadata": {},
   "outputs": [],
   "source": [
    "import numpy as np\n",
    "import pandas as pd"
   ]
  },
  {
   "cell_type": "code",
   "execution_count": 143,
   "id": "e8889731",
   "metadata": {},
   "outputs": [
    {
     "data": {
      "text/html": [
       "<div>\n",
       "<style scoped>\n",
       "    .dataframe tbody tr th:only-of-type {\n",
       "        vertical-align: middle;\n",
       "    }\n",
       "\n",
       "    .dataframe tbody tr th {\n",
       "        vertical-align: top;\n",
       "    }\n",
       "\n",
       "    .dataframe thead th {\n",
       "        text-align: right;\n",
       "    }\n",
       "</style>\n",
       "<table border=\"1\" class=\"dataframe\">\n",
       "  <thead>\n",
       "    <tr style=\"text-align: right;\">\n",
       "      <th></th>\n",
       "      <th>age</th>\n",
       "      <th>sex</th>\n",
       "      <th>cp</th>\n",
       "      <th>trestbps</th>\n",
       "      <th>chol</th>\n",
       "      <th>fbs</th>\n",
       "      <th>restecg</th>\n",
       "      <th>thalach</th>\n",
       "      <th>exang</th>\n",
       "      <th>oldpeak</th>\n",
       "      <th>slope</th>\n",
       "      <th>ca</th>\n",
       "      <th>thal</th>\n",
       "      <th>target</th>\n",
       "    </tr>\n",
       "  </thead>\n",
       "  <tbody>\n",
       "    <tr>\n",
       "      <th>0</th>\n",
       "      <td>52</td>\n",
       "      <td>1</td>\n",
       "      <td>0</td>\n",
       "      <td>125</td>\n",
       "      <td>212</td>\n",
       "      <td>0</td>\n",
       "      <td>1</td>\n",
       "      <td>168</td>\n",
       "      <td>0</td>\n",
       "      <td>1.0</td>\n",
       "      <td>2</td>\n",
       "      <td>2</td>\n",
       "      <td>3</td>\n",
       "      <td>0</td>\n",
       "    </tr>\n",
       "    <tr>\n",
       "      <th>1</th>\n",
       "      <td>53</td>\n",
       "      <td>1</td>\n",
       "      <td>0</td>\n",
       "      <td>140</td>\n",
       "      <td>203</td>\n",
       "      <td>1</td>\n",
       "      <td>0</td>\n",
       "      <td>155</td>\n",
       "      <td>1</td>\n",
       "      <td>3.1</td>\n",
       "      <td>0</td>\n",
       "      <td>0</td>\n",
       "      <td>3</td>\n",
       "      <td>0</td>\n",
       "    </tr>\n",
       "    <tr>\n",
       "      <th>2</th>\n",
       "      <td>70</td>\n",
       "      <td>1</td>\n",
       "      <td>0</td>\n",
       "      <td>145</td>\n",
       "      <td>174</td>\n",
       "      <td>0</td>\n",
       "      <td>1</td>\n",
       "      <td>125</td>\n",
       "      <td>1</td>\n",
       "      <td>2.6</td>\n",
       "      <td>0</td>\n",
       "      <td>0</td>\n",
       "      <td>3</td>\n",
       "      <td>0</td>\n",
       "    </tr>\n",
       "    <tr>\n",
       "      <th>3</th>\n",
       "      <td>61</td>\n",
       "      <td>1</td>\n",
       "      <td>0</td>\n",
       "      <td>148</td>\n",
       "      <td>203</td>\n",
       "      <td>0</td>\n",
       "      <td>1</td>\n",
       "      <td>161</td>\n",
       "      <td>0</td>\n",
       "      <td>0.0</td>\n",
       "      <td>2</td>\n",
       "      <td>1</td>\n",
       "      <td>3</td>\n",
       "      <td>0</td>\n",
       "    </tr>\n",
       "    <tr>\n",
       "      <th>4</th>\n",
       "      <td>62</td>\n",
       "      <td>0</td>\n",
       "      <td>0</td>\n",
       "      <td>138</td>\n",
       "      <td>294</td>\n",
       "      <td>1</td>\n",
       "      <td>1</td>\n",
       "      <td>106</td>\n",
       "      <td>0</td>\n",
       "      <td>1.9</td>\n",
       "      <td>1</td>\n",
       "      <td>3</td>\n",
       "      <td>2</td>\n",
       "      <td>0</td>\n",
       "    </tr>\n",
       "  </tbody>\n",
       "</table>\n",
       "</div>"
      ],
      "text/plain": [
       "   age  sex  cp  trestbps  chol  fbs  restecg  thalach  exang  oldpeak  slope  \\\n",
       "0   52    1   0       125   212    0        1      168      0      1.0      2   \n",
       "1   53    1   0       140   203    1        0      155      1      3.1      0   \n",
       "2   70    1   0       145   174    0        1      125      1      2.6      0   \n",
       "3   61    1   0       148   203    0        1      161      0      0.0      2   \n",
       "4   62    0   0       138   294    1        1      106      0      1.9      1   \n",
       "\n",
       "   ca  thal  target  \n",
       "0   2     3       0  \n",
       "1   0     3       0  \n",
       "2   0     3       0  \n",
       "3   1     3       0  \n",
       "4   3     2       0  "
      ]
     },
     "execution_count": 143,
     "metadata": {},
     "output_type": "execute_result"
    }
   ],
   "source": [
    "dataset = pd.read_csv(\"heart_disease (1).csv\")\n",
    "dataset.head()"
   ]
  },
  {
   "cell_type": "code",
   "execution_count": 109,
   "id": "d1d04d9e",
   "metadata": {},
   "outputs": [
    {
     "name": "stdout",
     "output_type": "stream",
     "text": [
      "<bound method NDFrame.describe of 0       52\n",
      "1       53\n",
      "2       70\n",
      "3       61\n",
      "4       62\n",
      "        ..\n",
      "1020    59\n",
      "1021    60\n",
      "1022    47\n",
      "1023    50\n",
      "1024    54\n",
      "Name: age, Length: 1025, dtype: int64>\n",
      "int64\n",
      "<bound method NDFrame.describe of 0       1\n",
      "1       1\n",
      "2       1\n",
      "3       1\n",
      "4       0\n",
      "       ..\n",
      "1020    1\n",
      "1021    1\n",
      "1022    1\n",
      "1023    0\n",
      "1024    1\n",
      "Name: sex, Length: 1025, dtype: int64>\n",
      "int64\n",
      "<bound method NDFrame.describe of 0      -0.378869\n",
      "1       0.528894\n",
      "2       0.831481\n",
      "3       1.013034\n",
      "4       0.407859\n",
      "          ...   \n",
      "1020    0.528894\n",
      "1021   -0.378869\n",
      "1022   -1.286632\n",
      "1023   -1.286632\n",
      "1024   -0.681457\n",
      "Name: trestbps, Length: 1025, dtype: float64>\n",
      "float64\n",
      "<bound method NDFrame.describe of 0      -0.691104\n",
      "1      -0.879693\n",
      "2      -1.487368\n",
      "3      -0.879693\n",
      "4       1.027150\n",
      "          ...   \n",
      "1020   -0.502515\n",
      "1021    0.272795\n",
      "1022    0.629018\n",
      "1023    0.188977\n",
      "1024   -1.194008\n",
      "Name: chol, Length: 1025, dtype: float64>\n",
      "float64\n",
      "<bound method NDFrame.describe of 0       0\n",
      "1       1\n",
      "2       0\n",
      "3       0\n",
      "4       1\n",
      "       ..\n",
      "1020    0\n",
      "1021    0\n",
      "1022    0\n",
      "1023    0\n",
      "1024    0\n",
      "Name: fbs, Length: 1025, dtype: int64>\n",
      "int64\n",
      "<bound method NDFrame.describe of 0       0.824084\n",
      "1       0.255654\n",
      "2      -1.056105\n",
      "3       0.518006\n",
      "4      -1.886886\n",
      "          ...   \n",
      "1020    0.649182\n",
      "1021   -0.356500\n",
      "1022   -1.362182\n",
      "1023    0.430556\n",
      "1024   -1.580809\n",
      "Name: thalach, Length: 1025, dtype: float64>\n",
      "float64\n",
      "<bound method NDFrame.describe of 0       0\n",
      "1       1\n",
      "2       1\n",
      "3       0\n",
      "4       0\n",
      "       ..\n",
      "1020    1\n",
      "1021    1\n",
      "1022    1\n",
      "1023    0\n",
      "1024    0\n",
      "Name: exang, Length: 1025, dtype: int64>\n",
      "int64\n",
      "<bound method NDFrame.describe of 0      -0.054537\n",
      "1       1.785457\n",
      "2       1.347363\n",
      "3      -0.930725\n",
      "4       0.734031\n",
      "          ...   \n",
      "1020   -0.930725\n",
      "1021    1.522600\n",
      "1022   -0.054537\n",
      "1023   -0.930725\n",
      "1024    0.295938\n",
      "Name: oldpeak, Length: 1025, dtype: float64>\n",
      "float64\n",
      "<bound method NDFrame.describe of 0       2\n",
      "1       0\n",
      "2       0\n",
      "3       2\n",
      "4       1\n",
      "       ..\n",
      "1020    2\n",
      "1021    1\n",
      "1022    1\n",
      "1023    2\n",
      "1024    1\n",
      "Name: slope, Length: 1025, dtype: int64>\n",
      "int64\n",
      "<bound method NDFrame.describe of 0       2\n",
      "1       0\n",
      "2       0\n",
      "3       1\n",
      "4       3\n",
      "       ..\n",
      "1020    0\n",
      "1021    1\n",
      "1022    1\n",
      "1023    0\n",
      "1024    1\n",
      "Name: ca, Length: 1025, dtype: int64>\n",
      "int64\n",
      "<bound method NDFrame.describe of 0       0\n",
      "1       0\n",
      "2       0\n",
      "3       0\n",
      "4       0\n",
      "       ..\n",
      "1020    1\n",
      "1021    0\n",
      "1022    0\n",
      "1023    1\n",
      "1024    0\n",
      "Name: target, Length: 1025, dtype: int64>\n",
      "int64\n",
      "<bound method NDFrame.describe of 0       0\n",
      "1       0\n",
      "2       0\n",
      "3       0\n",
      "4       0\n",
      "       ..\n",
      "1020    1\n",
      "1021    0\n",
      "1022    0\n",
      "1023    0\n",
      "1024    0\n",
      "Name: cp_1, Length: 1025, dtype: int64>\n",
      "int64\n",
      "<bound method NDFrame.describe of 0       0\n",
      "1       0\n",
      "2       0\n",
      "3       0\n",
      "4       0\n",
      "       ..\n",
      "1020    0\n",
      "1021    0\n",
      "1022    0\n",
      "1023    0\n",
      "1024    0\n",
      "Name: cp_2, Length: 1025, dtype: int64>\n",
      "int64\n",
      "<bound method NDFrame.describe of 0       0\n",
      "1       0\n",
      "2       0\n",
      "3       0\n",
      "4       0\n",
      "       ..\n",
      "1020    0\n",
      "1021    0\n",
      "1022    0\n",
      "1023    0\n",
      "1024    0\n",
      "Name: cp_3, Length: 1025, dtype: int64>\n",
      "int64\n",
      "<bound method NDFrame.describe of 0       1\n",
      "1       0\n",
      "2       1\n",
      "3       1\n",
      "4       1\n",
      "       ..\n",
      "1020    1\n",
      "1021    0\n",
      "1022    0\n",
      "1023    0\n",
      "1024    1\n",
      "Name: restecg_1, Length: 1025, dtype: int64>\n",
      "int64\n",
      "<bound method NDFrame.describe of 0       0\n",
      "1       0\n",
      "2       0\n",
      "3       0\n",
      "4       0\n",
      "       ..\n",
      "1020    0\n",
      "1021    0\n",
      "1022    0\n",
      "1023    0\n",
      "1024    0\n",
      "Name: restecg_2, Length: 1025, dtype: int64>\n",
      "int64\n",
      "<bound method NDFrame.describe of 0       0\n",
      "1       0\n",
      "2       0\n",
      "3       0\n",
      "4       0\n",
      "       ..\n",
      "1020    0\n",
      "1021    0\n",
      "1022    0\n",
      "1023    0\n",
      "1024    0\n",
      "Name: thal_1, Length: 1025, dtype: int64>\n",
      "int64\n",
      "<bound method NDFrame.describe of 0       0\n",
      "1       0\n",
      "2       0\n",
      "3       0\n",
      "4       1\n",
      "       ..\n",
      "1020    1\n",
      "1021    0\n",
      "1022    1\n",
      "1023    1\n",
      "1024    0\n",
      "Name: thal_2, Length: 1025, dtype: int64>\n",
      "int64\n",
      "<bound method NDFrame.describe of 0       1\n",
      "1       1\n",
      "2       1\n",
      "3       1\n",
      "4       0\n",
      "       ..\n",
      "1020    0\n",
      "1021    1\n",
      "1022    0\n",
      "1023    0\n",
      "1024    1\n",
      "Name: thal_3, Length: 1025, dtype: int64>\n",
      "int64\n"
     ]
    }
   ],
   "source": [
    "for feature in dataset.columns:\n",
    "    print(dataset[feature].describe)\n",
    "    print(dataset[feature].dtype)\n"
   ]
  },
  {
   "cell_type": "code",
   "execution_count": 110,
   "id": "5c55a1c6",
   "metadata": {},
   "outputs": [
    {
     "name": "stdout",
     "output_type": "stream",
     "text": [
      "0\n",
      "0\n",
      "0\n",
      "0\n",
      "0\n",
      "0\n",
      "0\n",
      "0\n",
      "0\n",
      "0\n",
      "0\n",
      "0\n",
      "0\n",
      "0\n",
      "0\n",
      "0\n",
      "0\n",
      "0\n",
      "0\n"
     ]
    }
   ],
   "source": [
    "for feature in dataset.columns:\n",
    "    print(dataset[feature].isna().sum())"
   ]
  },
  {
   "cell_type": "code",
   "execution_count": 111,
   "id": "5f44991d",
   "metadata": {},
   "outputs": [
    {
     "data": {
      "text/plain": [
       "['age',\n",
       " 'sex',\n",
       " 'trestbps',\n",
       " 'chol',\n",
       " 'fbs',\n",
       " 'thalach',\n",
       " 'exang',\n",
       " 'oldpeak',\n",
       " 'slope',\n",
       " 'ca',\n",
       " 'target',\n",
       " 'cp_1',\n",
       " 'cp_2',\n",
       " 'cp_3',\n",
       " 'restecg_1',\n",
       " 'restecg_2',\n",
       " 'thal_1',\n",
       " 'thal_2',\n",
       " 'thal_3']"
      ]
     },
     "execution_count": 111,
     "metadata": {},
     "output_type": "execute_result"
    }
   ],
   "source": [
    "features = [feature for feature in dataset.columns]\n",
    "features"
   ]
  },
  {
   "cell_type": "code",
   "execution_count": 113,
   "id": "b5d1690f",
   "metadata": {},
   "outputs": [
    {
     "name": "stdout",
     "output_type": "stream",
     "text": [
      "14\n",
      "discrete features/encoded categorical features ['sex', 'fbs', 'exang', 'slope', 'ca', 'target', 'cp_1', 'cp_2', 'cp_3', 'restecg_1', 'restecg_2', 'thal_1', 'thal_2', 'thal_3']\n",
      "5\n",
      "continuous features  ['age', 'trestbps', 'chol', 'thalach', 'oldpeak']\n"
     ]
    }
   ],
   "source": [
    "discrete_features = [feature for feature in features if len(dataset[feature].unique()) <25 ]\n",
    "print(len(discrete_features))\n",
    "\n",
    "## here dicrete features are encoded categorical features\n",
    "print(\"discrete features/encoded categorical features\",discrete_features)\n",
    "continuous_features = [feature for feature in features if feature not in discrete_features ]\n",
    "print(len(continuous_features))\n",
    "print(\"continuous features \",continuous_features)\n",
    "\n",
    "\n",
    "\n"
   ]
  },
  {
   "cell_type": "markdown",
   "id": "b381f912",
   "metadata": {},
   "source": [
    "### distribuion of categorical features"
   ]
  },
  {
   "cell_type": "code",
   "execution_count": 114,
   "id": "677b10ad",
   "metadata": {},
   "outputs": [
    {
     "data": {
      "image/png": "[encoded data removed]",
      "text/plain": [
       "<Figure size 640x480 with 1 Axes>"
      ]
     },
     "metadata": {},
     "output_type": "display_data"
    },
    {
     "data": {
      "image/png": "[encoded data removed]",
      "text/plain": [
       "<Figure size 640x480 with 1 Axes>"
      ]
     },
     "metadata": {},
     "output_type": "display_data"
    },
    {
     "data": {
      "image/png": "[encoded data removed]",
      "text/plain": [
       "<Figure size 640x480 with 1 Axes>"
      ]
     },
     "metadata": {},
     "output_type": "display_data"
    },
    {
     "data": {
      "image/png": "[encoded data removed]",
      "text/plain": [
       "<Figure size 640x480 with 1 Axes>"
      ]
     },
     "metadata": {},
     "output_type": "display_data"
    },
    {
     "data": {
      "image/png": "[encoded data removed]",
      "text/plain": [
       "<Figure size 640x480 with 1 Axes>"
      ]
     },
     "metadata": {},
     "output_type": "display_data"
    },
    {
     "data": {
      "image/png": "[encoded data removed]",
      "text/plain": [
       "<Figure size 640x480 with 1 Axes>"
      ]
     },
     "metadata": {},
     "output_type": "display_data"
    },
    {
     "data": {
      "image/png": "[encoded data removed]",
      "text/plain": [
       "<Figure size 640x480 with 1 Axes>"
      ]
     },
     "metadata": {},
     "output_type": "display_data"
    },
    {
     "data": {
      "image/png": "[encoded data removed]",
      "text/plain": [
       "<Figure size 640x480 with 1 Axes>"
      ]
     },
     "metadata": {},
     "output_type": "display_data"
    },
    {
     "data": {
      "image/png": "[encoded data removed]",
      "text/plain": [
       "<Figure size 640x480 with 1 Axes>"
      ]
     },
     "metadata": {},
     "output_type": "display_data"
    },
    {
     "data": {
      "image/png": "[encoded data removed]",
      "text/plain": [
       "<Figure size 640x480 with 1 Axes>"
      ]
     },
     "metadata": {},
     "output_type": "display_data"
    },
    {
     "data": {
      "image/png": "[encoded data removed]",
      "text/plain": [
       "<Figure size 640x480 with 1 Axes>"
      ]
     },
     "metadata": {},
     "output_type": "display_data"
    },
    {
     "data": {
      "image/png": "[encoded data removed]",
      "text/plain": [
       "<Figure size 640x480 with 1 Axes>"
      ]
     },
     "metadata": {},
     "output_type": "display_data"
    },
    {
     "data": {
      "image/png": "[encoded data removed]",
      "text/plain": [
       "<Figure size 640x480 with 1 Axes>"
      ]
     },
     "metadata": {},
     "output_type": "display_data"
    },
    {
     "data": {
      "image/png": "[encoded data removed]",
      "text/plain": [
       "<Figure size 640x480 with 1 Axes>"
      ]
     },
     "metadata": {},
     "output_type": "display_data"
    }
   ],
   "source": [
    "import matplotlib.pyplot as plt\n",
    "import seaborn as sns\n",
    "# distribution of categorical features\n",
    "for feature in discrete_features:\n",
    "    data = dataset.copy()\n",
    "    data.groupby(feature)['target'].count().plot.bar()\n",
    "    plt.xlabel(feature)\n",
    "    plt.ylabel(\"count\")\n",
    "    plt.title(feature)\n",
    "    plt.show()\n"
   ]
  },
  {
   "cell_type": "markdown",
   "id": "1ed0bb0e",
   "metadata": {},
   "source": [
    "### distribution of numerical features"
   ]
  },
  {
   "cell_type": "code",
   "execution_count": 115,
   "id": "84a883aa",
   "metadata": {},
   "outputs": [
    {
     "data": {
      "image/png": "[encoded data removed]",
      "text/plain": [
       "<Figure size 640x480 with 1 Axes>"
      ]
     },
     "metadata": {},
     "output_type": "display_data"
    },
    {
     "data": {
      "image/png": "[encoded data removed]",
      "text/plain": [
       "<Figure size 640x480 with 1 Axes>"
      ]
     },
     "metadata": {},
     "output_type": "display_data"
    },
    {
     "data": {
      "image/png": "[encoded data removed]",
      "text/plain": [
       "<Figure size 640x480 with 1 Axes>"
      ]
     },
     "metadata": {},
     "output_type": "display_data"
    },
    {
     "data": {
      "image/png": "[encoded data removed]",
      "text/plain": [
       "<Figure size 640x480 with 1 Axes>"
      ]
     },
     "metadata": {},
     "output_type": "display_data"
    },
    {
     "data": {
      "image/png": "[encoded data removed]",
      "text/plain": [
       "<Figure size 640x480 with 1 Axes>"
      ]
     },
     "metadata": {},
     "output_type": "display_data"
    }
   ],
   "source": [
    "for feature in continuous_features:\n",
    "    data = dataset.copy()\n",
    "    data[feature].hist(bins=25)\n",
    "    plt.xlabel(feature)\n",
    "    plt.ylabel(\"count\")\n",
    "    plt.title(feature)\n",
    "    plt.show()"
   ]
  },
  {
   "cell_type": "markdown",
   "id": "977a20dd",
   "metadata": {},
   "source": [
    "### Handling outliers"
   ]
  },
  {
   "cell_type": "code",
   "execution_count": 116,
   "id": "df5df783",
   "metadata": {},
   "outputs": [
    {
     "data": {
      "image/png": "[encoded data removed]",
      "text/plain": [
       "<Figure size 640x480 with 1 Axes>"
      ]
     },
     "metadata": {},
     "output_type": "display_data"
    },
    {
     "data": {
      "image/png": "[encoded data removed]",
      "text/plain": [
       "<Figure size 640x480 with 1 Axes>"
      ]
     },
     "metadata": {},
     "output_type": "display_data"
    },
    {
     "data": {
      "image/png": "[encoded data removed]",
      "text/plain": [
       "<Figure size 640x480 with 1 Axes>"
      ]
     },
     "metadata": {},
     "output_type": "display_data"
    },
    {
     "data": {
      "image/png": "[encoded data removed]",
      "text/plain": [
       "<Figure size 640x480 with 1 Axes>"
      ]
     },
     "metadata": {},
     "output_type": "display_data"
    },
    {
     "data": {
      "image/png": "[encoded data removed]",
      "text/plain": [
       "<Figure size 640x480 with 1 Axes>"
      ]
     },
     "metadata": {},
     "output_type": "display_data"
    }
   ],
   "source": [
    "import matplotlib.pyplot as plt\n",
    "import seaborn as sns\n",
    "for feature in continuous_features:\n",
    "    plt.boxplot(dataset[feature])\n",
    "    plt.title(feature)\n",
    "    plt.show()\n"
   ]
  },
  {
   "cell_type": "code",
   "execution_count": 117,
   "id": "00990b7e",
   "metadata": {},
   "outputs": [
    {
     "data": {
      "image/png": "[encoded data removed]",
      "text/plain": [
       "<Figure size 640x480 with 1 Axes>"
      ]
     },
     "metadata": {},
     "output_type": "display_data"
    },
    {
     "data": {
      "image/png": "[encoded data removed]",
      "text/plain": [
       "<Figure size 640x480 with 1 Axes>"
      ]
     },
     "metadata": {},
     "output_type": "display_data"
    },
    {
     "data": {
      "image/png": "[encoded data removed]",
      "text/plain": [
       "<Figure size 640x480 with 1 Axes>"
      ]
     },
     "metadata": {},
     "output_type": "display_data"
    },
    {
     "data": {
      "image/png": "[encoded data removed]",
      "text/plain": [
       "<Figure size 640x480 with 1 Axes>"
      ]
     },
     "metadata": {},
     "output_type": "display_data"
    },
    {
     "data": {
      "image/png": "[encoded data removed]",
      "text/plain": [
       "<Figure size 640x480 with 1 Axes>"
      ]
     },
     "metadata": {},
     "output_type": "display_data"
    }
   ],
   "source": [
    "def remove_outliers(data,feature):\n",
    "    q1 = dataset[feature].quantile(0.25)\n",
    "    q3 = dataset[feature].quantile(0.75)\n",
    "    iqr = q3 - q1\n",
    "    UB = q3 + 1.5*iqr\n",
    "    LB = q1 - 1.5*iqr\n",
    "    dataset[feature] = dataset[feature].clip(upper = UB,lower = LB)\n",
    "    return dataset[feature]\n",
    "\n",
    "for feature in continuous_features:\n",
    "    remove_outliers(dataset,feature)\n",
    "\n",
    "for feature in continuous_features:\n",
    "    plt.boxplot(dataset[feature])\n",
    "    plt.title(feature)\n",
    "    plt.show()\n"
   ]
  },
  {
   "cell_type": "markdown",
   "id": "a8d0cfff",
   "metadata": {},
   "source": [
    "### Encoding Categorical features"
   ]
  },
  {
   "cell_type": "code",
   "execution_count": null,
   "id": "f765e5da",
   "metadata": {},
   "outputs": [
    {
     "data": {
      "text/html": [
       "<div>\n",
       "<style scoped>\n",
       "    .dataframe tbody tr th:only-of-type {\n",
       "        vertical-align: middle;\n",
       "    }\n",
       "\n",
       "    .dataframe tbody tr th {\n",
       "        vertical-align: top;\n",
       "    }\n",
       "\n",
       "    .dataframe thead th {\n",
       "        text-align: right;\n",
       "    }\n",
       "</style>\n",
       "<table border=\"1\" class=\"dataframe\">\n",
       "  <thead>\n",
       "    <tr style=\"text-align: right;\">\n",
       "      <th></th>\n",
       "      <th>age</th>\n",
       "      <th>sex</th>\n",
       "      <th>trestbps</th>\n",
       "      <th>chol</th>\n",
       "      <th>fbs</th>\n",
       "      <th>thalach</th>\n",
       "      <th>exang</th>\n",
       "      <th>oldpeak</th>\n",
       "      <th>slope</th>\n",
       "      <th>ca</th>\n",
       "      <th>target</th>\n",
       "      <th>cp_1</th>\n",
       "      <th>cp_2</th>\n",
       "      <th>cp_3</th>\n",
       "      <th>restecg_1</th>\n",
       "      <th>restecg_2</th>\n",
       "      <th>thal_1</th>\n",
       "      <th>thal_2</th>\n",
       "      <th>thal_3</th>\n",
       "    </tr>\n",
       "  </thead>\n",
       "  <tbody>\n",
       "    <tr>\n",
       "      <th>0</th>\n",
       "      <td>52</td>\n",
       "      <td>1</td>\n",
       "      <td>-0.378869</td>\n",
       "      <td>-0.691104</td>\n",
       "      <td>0</td>\n",
       "      <td>0.824084</td>\n",
       "      <td>0</td>\n",
       "      <td>-0.054537</td>\n",
       "      <td>2</td>\n",
       "      <td>2</td>\n",
       "      <td>0</td>\n",
       "      <td>0</td>\n",
       "      <td>0</td>\n",
       "      <td>0</td>\n",
       "      <td>1</td>\n",
       "      <td>0</td>\n",
       "      <td>0</td>\n",
       "      <td>0</td>\n",
       "      <td>1</td>\n",
       "    </tr>\n",
       "    <tr>\n",
       "      <th>1</th>\n",
       "      <td>53</td>\n",
       "      <td>1</td>\n",
       "      <td>0.528894</td>\n",
       "      <td>-0.879693</td>\n",
       "      <td>1</td>\n",
       "      <td>0.255654</td>\n",
       "      <td>1</td>\n",
       "      <td>1.785457</td>\n",
       "      <td>0</td>\n",
       "      <td>0</td>\n",
       "      <td>0</td>\n",
       "      <td>0</td>\n",
       "      <td>0</td>\n",
       "      <td>0</td>\n",
       "      <td>0</td>\n",
       "      <td>0</td>\n",
       "      <td>0</td>\n",
       "      <td>0</td>\n",
       "      <td>1</td>\n",
       "    </tr>\n",
       "    <tr>\n",
       "      <th>2</th>\n",
       "      <td>70</td>\n",
       "      <td>1</td>\n",
       "      <td>0.831481</td>\n",
       "      <td>-1.487368</td>\n",
       "      <td>0</td>\n",
       "      <td>-1.056105</td>\n",
       "      <td>1</td>\n",
       "      <td>1.347363</td>\n",
       "      <td>0</td>\n",
       "      <td>0</td>\n",
       "      <td>0</td>\n",
       "      <td>0</td>\n",
       "      <td>0</td>\n",
       "      <td>0</td>\n",
       "      <td>1</td>\n",
       "      <td>0</td>\n",
       "      <td>0</td>\n",
       "      <td>0</td>\n",
       "      <td>1</td>\n",
       "    </tr>\n",
       "    <tr>\n",
       "      <th>3</th>\n",
       "      <td>61</td>\n",
       "      <td>1</td>\n",
       "      <td>1.013034</td>\n",
       "      <td>-0.879693</td>\n",
       "      <td>0</td>\n",
       "      <td>0.518006</td>\n",
       "      <td>0</td>\n",
       "      <td>-0.930725</td>\n",
       "      <td>2</td>\n",
       "      <td>1</td>\n",
       "      <td>0</td>\n",
       "      <td>0</td>\n",
       "      <td>0</td>\n",
       "      <td>0</td>\n",
       "      <td>1</td>\n",
       "      <td>0</td>\n",
       "      <td>0</td>\n",
       "      <td>0</td>\n",
       "      <td>1</td>\n",
       "    </tr>\n",
       "    <tr>\n",
       "      <th>4</th>\n",
       "      <td>62</td>\n",
       "      <td>0</td>\n",
       "      <td>0.407859</td>\n",
       "      <td>1.027150</td>\n",
       "      <td>1</td>\n",
       "      <td>-1.886886</td>\n",
       "      <td>0</td>\n",
       "      <td>0.734031</td>\n",
       "      <td>1</td>\n",
       "      <td>3</td>\n",
       "      <td>0</td>\n",
       "      <td>0</td>\n",
       "      <td>0</td>\n",
       "      <td>0</td>\n",
       "      <td>1</td>\n",
       "      <td>0</td>\n",
       "      <td>0</td>\n",
       "      <td>1</td>\n",
       "      <td>0</td>\n",
       "    </tr>\n",
       "    <tr>\n",
       "      <th>...</th>\n",
       "      <td>...</td>\n",
       "      <td>...</td>\n",
       "      <td>...</td>\n",
       "      <td>...</td>\n",
       "      <td>...</td>\n",
       "      <td>...</td>\n",
       "      <td>...</td>\n",
       "      <td>...</td>\n",
       "      <td>...</td>\n",
       "      <td>...</td>\n",
       "      <td>...</td>\n",
       "      <td>...</td>\n",
       "      <td>...</td>\n",
       "      <td>...</td>\n",
       "      <td>...</td>\n",
       "      <td>...</td>\n",
       "      <td>...</td>\n",
       "      <td>...</td>\n",
       "      <td>...</td>\n",
       "    </tr>\n",
       "    <tr>\n",
       "      <th>1020</th>\n",
       "      <td>59</td>\n",
       "      <td>1</td>\n",
       "      <td>0.528894</td>\n",
       "      <td>-0.502515</td>\n",
       "      <td>0</td>\n",
       "      <td>0.649182</td>\n",
       "      <td>1</td>\n",
       "      <td>-0.930725</td>\n",
       "      <td>2</td>\n",
       "      <td>0</td>\n",
       "      <td>1</td>\n",
       "      <td>1</td>\n",
       "      <td>0</td>\n",
       "      <td>0</td>\n",
       "      <td>1</td>\n",
       "      <td>0</td>\n",
       "      <td>0</td>\n",
       "      <td>1</td>\n",
       "      <td>0</td>\n",
       "    </tr>\n",
       "    <tr>\n",
       "      <th>1021</th>\n",
       "      <td>60</td>\n",
       "      <td>1</td>\n",
       "      <td>-0.378869</td>\n",
       "      <td>0.272795</td>\n",
       "      <td>0</td>\n",
       "      <td>-0.356500</td>\n",
       "      <td>1</td>\n",
       "      <td>1.522600</td>\n",
       "      <td>1</td>\n",
       "      <td>1</td>\n",
       "      <td>0</td>\n",
       "      <td>0</td>\n",
       "      <td>0</td>\n",
       "      <td>0</td>\n",
       "      <td>0</td>\n",
       "      <td>0</td>\n",
       "      <td>0</td>\n",
       "      <td>0</td>\n",
       "      <td>1</td>\n",
       "    </tr>\n",
       "    <tr>\n",
       "      <th>1022</th>\n",
       "      <td>47</td>\n",
       "      <td>1</td>\n",
       "      <td>-1.286632</td>\n",
       "      <td>0.629018</td>\n",
       "      <td>0</td>\n",
       "      <td>-1.362182</td>\n",
       "      <td>1</td>\n",
       "      <td>-0.054537</td>\n",
       "      <td>1</td>\n",
       "      <td>1</td>\n",
       "      <td>0</td>\n",
       "      <td>0</td>\n",
       "      <td>0</td>\n",
       "      <td>0</td>\n",
       "      <td>0</td>\n",
       "      <td>0</td>\n",
       "      <td>0</td>\n",
       "      <td>1</td>\n",
       "      <td>0</td>\n",
       "    </tr>\n",
       "    <tr>\n",
       "      <th>1023</th>\n",
       "      <td>50</td>\n",
       "      <td>0</td>\n",
       "      <td>-1.286632</td>\n",
       "      <td>0.188977</td>\n",
       "      <td>0</td>\n",
       "      <td>0.430556</td>\n",
       "      <td>0</td>\n",
       "      <td>-0.930725</td>\n",
       "      <td>2</td>\n",
       "      <td>0</td>\n",
       "      <td>1</td>\n",
       "      <td>0</td>\n",
       "      <td>0</td>\n",
       "      <td>0</td>\n",
       "      <td>0</td>\n",
       "      <td>0</td>\n",
       "      <td>0</td>\n",
       "      <td>1</td>\n",
       "      <td>0</td>\n",
       "    </tr>\n",
       "    <tr>\n",
       "      <th>1024</th>\n",
       "      <td>54</td>\n",
       "      <td>1</td>\n",
       "      <td>-0.681457</td>\n",
       "      <td>-1.194008</td>\n",
       "      <td>0</td>\n",
       "      <td>-1.580809</td>\n",
       "      <td>0</td>\n",
       "      <td>0.295938</td>\n",
       "      <td>1</td>\n",
       "      <td>1</td>\n",
       "      <td>0</td>\n",
       "      <td>0</td>\n",
       "      <td>0</td>\n",
       "      <td>0</td>\n",
       "      <td>1</td>\n",
       "      <td>0</td>\n",
       "      <td>0</td>\n",
       "      <td>0</td>\n",
       "      <td>1</td>\n",
       "    </tr>\n",
       "  </tbody>\n",
       "</table>\n",
       "<p>1025 rows × 19 columns</p>\n",
       "</div>"
      ],
      "text/plain": [
       "      age  sex  trestbps      chol  fbs   thalach  exang   oldpeak  slope  ca  \\\n",
       "0      52    1 -0.378869 -0.691104    0  0.824084      0 -0.054537      2   2   \n",
       "1      53    1  0.528894 -0.879693    1  0.255654      1  1.785457      0   0   \n",
       "2      70    1  0.831481 -1.487368    0 -1.056105      1  1.347363      0   0   \n",
       "3      61    1  1.013034 -0.879693    0  0.518006      0 -0.930725      2   1   \n",
       "4      62    0  0.407859  1.027150    1 -1.886886      0  0.734031      1   3   \n",
       "...   ...  ...       ...       ...  ...       ...    ...       ...    ...  ..   \n",
       "1020   59    1  0.528894 -0.502515    0  0.649182      1 -0.930725      2   0   \n",
       "1021   60    1 -0.378869  0.272795    0 -0.356500      1  1.522600      1   1   \n",
       "1022   47    1 -1.286632  0.629018    0 -1.362182      1 -0.054537      1   1   \n",
       "1023   50    0 -1.286632  0.188977    0  0.430556      0 -0.930725      2   0   \n",
       "1024   54    1 -0.681457 -1.194008    0 -1.580809      0  0.295938      1   1   \n",
       "\n",
       "      target  cp_1  cp_2  cp_3  restecg_1  restecg_2  thal_1  thal_2  thal_3  \n",
       "0          0     0     0     0          1          0       0       0       1  \n",
       "1          0     0     0     0          0          0       0       0       1  \n",
       "2          0     0     0     0          1          0       0       0       1  \n",
       "3          0     0     0     0          1          0       0       0       1  \n",
       "4          0     0     0     0          1          0       0       1       0  \n",
       "...      ...   ...   ...   ...        ...        ...     ...     ...     ...  \n",
       "1020       1     1     0     0          1          0       0       1       0  \n",
       "1021       0     0     0     0          0          0       0       0       1  \n",
       "1022       0     0     0     0          0          0       0       1       0  \n",
       "1023       1     0     0     0          0          0       0       1       0  \n",
       "1024       0     0     0     0          1          0       0       0       1  \n",
       "\n",
       "[1025 rows x 19 columns]"
      ]
     },
     "execution_count": 119,
     "metadata": {},
     "output_type": "execute_result"
    }
   ],
   "source": [
    "multi_cat_features = ['cp', 'restecg','thal']\n",
    "dataset = pd.get_dummies(dataset,columns=multi_cat_features,drop_first=True,dtype=int)\n",
    "dataset"
   ]
  },
  {
   "cell_type": "markdown",
   "id": "3c0f67d0",
   "metadata": {},
   "source": [
    "### Scaling"
   ]
  },
  {
   "cell_type": "code",
   "execution_count": 120,
   "id": "51a3b22a",
   "metadata": {},
   "outputs": [],
   "source": [
    "from sklearn.preprocessing import StandardScaler\n",
    "\n",
    "scaler = StandardScaler()\n",
    "scale_features = ['trestbps', 'chol', 'thalach', 'oldpeak']\n",
    "for feature in scale_features:\n",
    "    dataset[feature] = scaler.fit_transform(dataset[[feature]])\n",
    "\n",
    "\n"
   ]
  },
  {
   "cell_type": "code",
   "execution_count": 121,
   "id": "2b58f017",
   "metadata": {},
   "outputs": [
    {
     "data": {
      "text/html": [
       "<div>\n",
       "<style scoped>\n",
       "    .dataframe tbody tr th:only-of-type {\n",
       "        vertical-align: middle;\n",
       "    }\n",
       "\n",
       "    .dataframe tbody tr th {\n",
       "        vertical-align: top;\n",
       "    }\n",
       "\n",
       "    .dataframe thead th {\n",
       "        text-align: right;\n",
       "    }\n",
       "</style>\n",
       "<table border=\"1\" class=\"dataframe\">\n",
       "  <thead>\n",
       "    <tr style=\"text-align: right;\">\n",
       "      <th></th>\n",
       "      <th>age</th>\n",
       "      <th>sex</th>\n",
       "      <th>trestbps</th>\n",
       "      <th>chol</th>\n",
       "      <th>fbs</th>\n",
       "      <th>thalach</th>\n",
       "      <th>exang</th>\n",
       "      <th>oldpeak</th>\n",
       "      <th>slope</th>\n",
       "      <th>ca</th>\n",
       "      <th>target</th>\n",
       "      <th>cp_1</th>\n",
       "      <th>cp_2</th>\n",
       "      <th>cp_3</th>\n",
       "      <th>restecg_1</th>\n",
       "      <th>restecg_2</th>\n",
       "      <th>thal_1</th>\n",
       "      <th>thal_2</th>\n",
       "      <th>thal_3</th>\n",
       "    </tr>\n",
       "  </thead>\n",
       "  <tbody>\n",
       "    <tr>\n",
       "      <th>0</th>\n",
       "      <td>52</td>\n",
       "      <td>1</td>\n",
       "      <td>-0.378869</td>\n",
       "      <td>-0.691104</td>\n",
       "      <td>0</td>\n",
       "      <td>0.824084</td>\n",
       "      <td>0</td>\n",
       "      <td>-0.054537</td>\n",
       "      <td>2</td>\n",
       "      <td>2</td>\n",
       "      <td>0</td>\n",
       "      <td>0</td>\n",
       "      <td>0</td>\n",
       "      <td>0</td>\n",
       "      <td>1</td>\n",
       "      <td>0</td>\n",
       "      <td>0</td>\n",
       "      <td>0</td>\n",
       "      <td>1</td>\n",
       "    </tr>\n",
       "    <tr>\n",
       "      <th>1</th>\n",
       "      <td>53</td>\n",
       "      <td>1</td>\n",
       "      <td>0.528894</td>\n",
       "      <td>-0.879693</td>\n",
       "      <td>1</td>\n",
       "      <td>0.255654</td>\n",
       "      <td>1</td>\n",
       "      <td>1.785457</td>\n",
       "      <td>0</td>\n",
       "      <td>0</td>\n",
       "      <td>0</td>\n",
       "      <td>0</td>\n",
       "      <td>0</td>\n",
       "      <td>0</td>\n",
       "      <td>0</td>\n",
       "      <td>0</td>\n",
       "      <td>0</td>\n",
       "      <td>0</td>\n",
       "      <td>1</td>\n",
       "    </tr>\n",
       "    <tr>\n",
       "      <th>2</th>\n",
       "      <td>70</td>\n",
       "      <td>1</td>\n",
       "      <td>0.831481</td>\n",
       "      <td>-1.487368</td>\n",
       "      <td>0</td>\n",
       "      <td>-1.056105</td>\n",
       "      <td>1</td>\n",
       "      <td>1.347363</td>\n",
       "      <td>0</td>\n",
       "      <td>0</td>\n",
       "      <td>0</td>\n",
       "      <td>0</td>\n",
       "      <td>0</td>\n",
       "      <td>0</td>\n",
       "      <td>1</td>\n",
       "      <td>0</td>\n",
       "      <td>0</td>\n",
       "      <td>0</td>\n",
       "      <td>1</td>\n",
       "    </tr>\n",
       "    <tr>\n",
       "      <th>3</th>\n",
       "      <td>61</td>\n",
       "      <td>1</td>\n",
       "      <td>1.013034</td>\n",
       "      <td>-0.879693</td>\n",
       "      <td>0</td>\n",
       "      <td>0.518006</td>\n",
       "      <td>0</td>\n",
       "      <td>-0.930725</td>\n",
       "      <td>2</td>\n",
       "      <td>1</td>\n",
       "      <td>0</td>\n",
       "      <td>0</td>\n",
       "      <td>0</td>\n",
       "      <td>0</td>\n",
       "      <td>1</td>\n",
       "      <td>0</td>\n",
       "      <td>0</td>\n",
       "      <td>0</td>\n",
       "      <td>1</td>\n",
       "    </tr>\n",
       "    <tr>\n",
       "      <th>4</th>\n",
       "      <td>62</td>\n",
       "      <td>0</td>\n",
       "      <td>0.407859</td>\n",
       "      <td>1.027150</td>\n",
       "      <td>1</td>\n",
       "      <td>-1.886886</td>\n",
       "      <td>0</td>\n",
       "      <td>0.734031</td>\n",
       "      <td>1</td>\n",
       "      <td>3</td>\n",
       "      <td>0</td>\n",
       "      <td>0</td>\n",
       "      <td>0</td>\n",
       "      <td>0</td>\n",
       "      <td>1</td>\n",
       "      <td>0</td>\n",
       "      <td>0</td>\n",
       "      <td>1</td>\n",
       "      <td>0</td>\n",
       "    </tr>\n",
       "    <tr>\n",
       "      <th>...</th>\n",
       "      <td>...</td>\n",
       "      <td>...</td>\n",
       "      <td>...</td>\n",
       "      <td>...</td>\n",
       "      <td>...</td>\n",
       "      <td>...</td>\n",
       "      <td>...</td>\n",
       "      <td>...</td>\n",
       "      <td>...</td>\n",
       "      <td>...</td>\n",
       "      <td>...</td>\n",
       "      <td>...</td>\n",
       "      <td>...</td>\n",
       "      <td>...</td>\n",
       "      <td>...</td>\n",
       "      <td>...</td>\n",
       "      <td>...</td>\n",
       "      <td>...</td>\n",
       "      <td>...</td>\n",
       "    </tr>\n",
       "    <tr>\n",
       "      <th>1020</th>\n",
       "      <td>59</td>\n",
       "      <td>1</td>\n",
       "      <td>0.528894</td>\n",
       "      <td>-0.502515</td>\n",
       "      <td>0</td>\n",
       "      <td>0.649182</td>\n",
       "      <td>1</td>\n",
       "      <td>-0.930725</td>\n",
       "      <td>2</td>\n",
       "      <td>0</td>\n",
       "      <td>1</td>\n",
       "      <td>1</td>\n",
       "      <td>0</td>\n",
       "      <td>0</td>\n",
       "      <td>1</td>\n",
       "      <td>0</td>\n",
       "      <td>0</td>\n",
       "      <td>1</td>\n",
       "      <td>0</td>\n",
       "    </tr>\n",
       "    <tr>\n",
       "      <th>1021</th>\n",
       "      <td>60</td>\n",
       "      <td>1</td>\n",
       "      <td>-0.378869</td>\n",
       "      <td>0.272795</td>\n",
       "      <td>0</td>\n",
       "      <td>-0.356500</td>\n",
       "      <td>1</td>\n",
       "      <td>1.522600</td>\n",
       "      <td>1</td>\n",
       "      <td>1</td>\n",
       "      <td>0</td>\n",
       "      <td>0</td>\n",
       "      <td>0</td>\n",
       "      <td>0</td>\n",
       "      <td>0</td>\n",
       "      <td>0</td>\n",
       "      <td>0</td>\n",
       "      <td>0</td>\n",
       "      <td>1</td>\n",
       "    </tr>\n",
       "    <tr>\n",
       "      <th>1022</th>\n",
       "      <td>47</td>\n",
       "      <td>1</td>\n",
       "      <td>-1.286632</td>\n",
       "      <td>0.629018</td>\n",
       "      <td>0</td>\n",
       "      <td>-1.362182</td>\n",
       "      <td>1</td>\n",
       "      <td>-0.054537</td>\n",
       "      <td>1</td>\n",
       "      <td>1</td>\n",
       "      <td>0</td>\n",
       "      <td>0</td>\n",
       "      <td>0</td>\n",
       "      <td>0</td>\n",
       "      <td>0</td>\n",
       "      <td>0</td>\n",
       "      <td>0</td>\n",
       "      <td>1</td>\n",
       "      <td>0</td>\n",
       "    </tr>\n",
       "    <tr>\n",
       "      <th>1023</th>\n",
       "      <td>50</td>\n",
       "      <td>0</td>\n",
       "      <td>-1.286632</td>\n",
       "      <td>0.188977</td>\n",
       "      <td>0</td>\n",
       "      <td>0.430556</td>\n",
       "      <td>0</td>\n",
       "      <td>-0.930725</td>\n",
       "      <td>2</td>\n",
       "      <td>0</td>\n",
       "      <td>1</td>\n",
       "      <td>0</td>\n",
       "      <td>0</td>\n",
       "      <td>0</td>\n",
       "      <td>0</td>\n",
       "      <td>0</td>\n",
       "      <td>0</td>\n",
       "      <td>1</td>\n",
       "      <td>0</td>\n",
       "    </tr>\n",
       "    <tr>\n",
       "      <th>1024</th>\n",
       "      <td>54</td>\n",
       "      <td>1</td>\n",
       "      <td>-0.681457</td>\n",
       "      <td>-1.194008</td>\n",
       "      <td>0</td>\n",
       "      <td>-1.580809</td>\n",
       "      <td>0</td>\n",
       "      <td>0.295938</td>\n",
       "      <td>1</td>\n",
       "      <td>1</td>\n",
       "      <td>0</td>\n",
       "      <td>0</td>\n",
       "      <td>0</td>\n",
       "      <td>0</td>\n",
       "      <td>1</td>\n",
       "      <td>0</td>\n",
       "      <td>0</td>\n",
       "      <td>0</td>\n",
       "      <td>1</td>\n",
       "    </tr>\n",
       "  </tbody>\n",
       "</table>\n",
       "<p>1025 rows × 19 columns</p>\n",
       "</div>"
      ],
      "text/plain": [
       "      age  sex  trestbps      chol  fbs   thalach  exang   oldpeak  slope  ca  \\\n",
       "0      52    1 -0.378869 -0.691104    0  0.824084      0 -0.054537      2   2   \n",
       "1      53    1  0.528894 -0.879693    1  0.255654      1  1.785457      0   0   \n",
       "2      70    1  0.831481 -1.487368    0 -1.056105      1  1.347363      0   0   \n",
       "3      61    1  1.013034 -0.879693    0  0.518006      0 -0.930725      2   1   \n",
       "4      62    0  0.407859  1.027150    1 -1.886886      0  0.734031      1   3   \n",
       "...   ...  ...       ...       ...  ...       ...    ...       ...    ...  ..   \n",
       "1020   59    1  0.528894 -0.502515    0  0.649182      1 -0.930725      2   0   \n",
       "1021   60    1 -0.378869  0.272795    0 -0.356500      1  1.522600      1   1   \n",
       "1022   47    1 -1.286632  0.629018    0 -1.362182      1 -0.054537      1   1   \n",
       "1023   50    0 -1.286632  0.188977    0  0.430556      0 -0.930725      2   0   \n",
       "1024   54    1 -0.681457 -1.194008    0 -1.580809      0  0.295938      1   1   \n",
       "\n",
       "      target  cp_1  cp_2  cp_3  restecg_1  restecg_2  thal_1  thal_2  thal_3  \n",
       "0          0     0     0     0          1          0       0       0       1  \n",
       "1          0     0     0     0          0          0       0       0       1  \n",
       "2          0     0     0     0          1          0       0       0       1  \n",
       "3          0     0     0     0          1          0       0       0       1  \n",
       "4          0     0     0     0          1          0       0       1       0  \n",
       "...      ...   ...   ...   ...        ...        ...     ...     ...     ...  \n",
       "1020       1     1     0     0          1          0       0       1       0  \n",
       "1021       0     0     0     0          0          0       0       0       1  \n",
       "1022       0     0     0     0          0          0       0       1       0  \n",
       "1023       1     0     0     0          0          0       0       1       0  \n",
       "1024       0     0     0     0          1          0       0       0       1  \n",
       "\n",
       "[1025 rows x 19 columns]"
      ]
     },
     "execution_count": 121,
     "metadata": {},
     "output_type": "execute_result"
    }
   ],
   "source": [
    "dataset"
   ]
  },
  {
   "cell_type": "markdown",
   "id": "46db5771",
   "metadata": {},
   "source": [
    "### train test split"
   ]
  },
  {
   "cell_type": "code",
   "execution_count": 122,
   "id": "e00c2c1d",
   "metadata": {},
   "outputs": [],
   "source": [
    "from sklearn.model_selection import train_test_split\n",
    "# for classsification\n",
    "Xc= dataset.drop('target',axis = 1)\n",
    "yc= dataset['target']\n",
    "X_train_cls,X_test_cls,y_train_cls,y_test_cls = train_test_split(Xc,yc,test_size=0.2,random_state=42,stratify=yc)\n",
    "\n",
    "#for regression\n",
    "Xr = dataset.drop(['target','chol'],axis = 1)\n",
    "yr = dataset['chol']\n",
    "X_train_reg,X_test_reg,y_train_reg,y_test_reg = train_test_split(Xr,yr,test_size=0.2,random_state=42)\n"
   ]
  },
  {
   "cell_type": "markdown",
   "id": "306ab4fb",
   "metadata": {},
   "source": [
    "### Regression Task"
   ]
  },
  {
   "cell_type": "code",
   "execution_count": 133,
   "id": "a899b770",
   "metadata": {},
   "outputs": [],
   "source": [
    "from sklearn.linear_model import LinearRegression\n",
    "from sklearn.svm import SVR\n",
    "from sklearn.ensemble import RandomForestRegressor\n",
    "\n",
    "lr = LinearRegression()\n",
    "svr =  SVR(kernel='linear')\n",
    "rfr = RandomForestRegressor(n_estimators=100,max_depth=5,random_state=42)\n",
    "\n",
    "lr.fit(X_train_reg,y_train_reg)\n",
    "svr.fit(X_train_reg,y_train_reg)\n",
    "rfr.fit(X_train_reg,y_train_reg)\n",
    "\n",
    "\n",
    "y_pred_lr = lr.predict(X_test_reg)\n",
    "y_pred_svr = svr.predict(X_test_reg)\n",
    "y_pred_rfr = rfr.predict(X_test_reg)\n",
    "\n"
   ]
  },
  {
   "cell_type": "markdown",
   "id": "62ca8704",
   "metadata": {},
   "source": [
    "### performance metrics for regression"
   ]
  },
  {
   "cell_type": "code",
   "execution_count": 134,
   "id": "a560ccdb",
   "metadata": {},
   "outputs": [],
   "source": [
    "from sklearn.metrics import mean_absolute_error,mean_squared_error,r2_score\n",
    "MAE_lr = mean_absolute_error(y_test_reg,y_pred_lr)\n",
    "MSE_lr = mean_squared_error(y_test_reg,y_pred_lr)\n",
    "r2_lr = r2_score(y_test_reg,y_pred_lr)\n",
    "\n",
    "MAE_svr = mean_absolute_error(y_test_reg,y_pred_svr)\n",
    "MSE_svr = mean_squared_error(y_test_reg,y_pred_svr)\n",
    "r2_svr = r2_score(y_test_reg,y_pred_svr)\n",
    "\n",
    "MAE_rfr = mean_absolute_error(y_test_reg,y_pred_rfr)\n",
    "MSE_rfr = mean_squared_error(y_test_reg,y_pred_rfr)\n",
    "r2_rfr= r2_score(y_test_reg,y_pred_rfr)"
   ]
  },
  {
   "cell_type": "markdown",
   "id": "9f46853c",
   "metadata": {},
   "source": [
    "\n",
    "### table of performance metrics for regression"
   ]
  },
  {
   "cell_type": "code",
   "execution_count": 135,
   "id": "8414441d",
   "metadata": {},
   "outputs": [
    {
     "data": {
      "text/html": [
       "<div>\n",
       "<style scoped>\n",
       "    .dataframe tbody tr th:only-of-type {\n",
       "        vertical-align: middle;\n",
       "    }\n",
       "\n",
       "    .dataframe tbody tr th {\n",
       "        vertical-align: top;\n",
       "    }\n",
       "\n",
       "    .dataframe thead th {\n",
       "        text-align: right;\n",
       "    }\n",
       "</style>\n",
       "<table border=\"1\" class=\"dataframe\">\n",
       "  <thead>\n",
       "    <tr style=\"text-align: right;\">\n",
       "      <th></th>\n",
       "      <th>Model</th>\n",
       "      <th>MAE</th>\n",
       "      <th>MSE</th>\n",
       "      <th>R2_score</th>\n",
       "    </tr>\n",
       "  </thead>\n",
       "  <tbody>\n",
       "    <tr>\n",
       "      <th>0</th>\n",
       "      <td>Linear regression</td>\n",
       "      <td>0.784618</td>\n",
       "      <td>0.986950</td>\n",
       "      <td>0.070999</td>\n",
       "    </tr>\n",
       "    <tr>\n",
       "      <th>1</th>\n",
       "      <td>SVR</td>\n",
       "      <td>0.805807</td>\n",
       "      <td>1.046380</td>\n",
       "      <td>0.015059</td>\n",
       "    </tr>\n",
       "    <tr>\n",
       "      <th>2</th>\n",
       "      <td>RF regressor</td>\n",
       "      <td>0.640022</td>\n",
       "      <td>0.620616</td>\n",
       "      <td>0.415823</td>\n",
       "    </tr>\n",
       "  </tbody>\n",
       "</table>\n",
       "</div>"
      ],
      "text/plain": [
       "               Model       MAE       MSE  R2_score\n",
       "0  Linear regression  0.784618  0.986950  0.070999\n",
       "1                SVR  0.805807  1.046380  0.015059\n",
       "2       RF regressor  0.640022  0.620616  0.415823"
      ]
     },
     "execution_count": 135,
     "metadata": {},
     "output_type": "execute_result"
    }
   ],
   "source": [
    "reg_df = pd.DataFrame(columns=['Model','MAE','MSE','R2_score'])\n",
    "reg_df.loc[len(reg_df)] = ['Linear regression',MAE_lr,MSE_lr,r2_lr]\n",
    "reg_df.loc[len(reg_df)] = ['SVR',MAE_svr,MSE_svr,r2_svr]\n",
    "reg_df.loc[len(reg_df)] = ['RF regressor',MAE_rfr,MSE_rfr,r2_rfr]\n",
    "reg_df"
   ]
  },
  {
   "cell_type": "markdown",
   "id": "7828dc65",
   "metadata": {},
   "source": [
    "### Classification Task"
   ]
  },
  {
   "cell_type": "code",
   "execution_count": 127,
   "id": "11a0a872",
   "metadata": {},
   "outputs": [],
   "source": [
    "from sklearn.linear_model import LogisticRegression\n",
    "from sklearn.neighbors import KNeighborsClassifier\n",
    "from sklearn.ensemble import RandomForestClassifier\n",
    "\n",
    "log = LogisticRegression(max_iter=1000)\n",
    "knn = KNeighborsClassifier(n_neighbors=3)\n",
    "rfc = RandomForestClassifier(n_estimators=100,max_depth=5,random_state=42)\n",
    "\n",
    "\n",
    "log.fit(X_train_cls,y_train_cls)\n",
    "knn.fit(X_train_cls,y_train_cls)\n",
    "rfc.fit(X_train_cls,y_train_cls)\n",
    "\n",
    "y_pred_log = log.predict(X_test_cls)\n",
    "y_pred_knn = knn.predict(X_test_cls)\n",
    "y_pred_rfc = rfc.predict(X_test_cls)"
   ]
  },
  {
   "cell_type": "markdown",
   "id": "1cc81a77",
   "metadata": {},
   "source": [
    "### performance metrics for Classification"
   ]
  },
  {
   "cell_type": "code",
   "execution_count": 128,
   "id": "95b86757",
   "metadata": {},
   "outputs": [],
   "source": [
    "from sklearn.metrics import accuracy_score,precision_score,recall_score,f1_score\n",
    "acc_log = accuracy_score(y_test_cls,y_pred_log)\n",
    "pre_log = precision_score(y_test_cls,y_pred_log)\n",
    "rec_log = recall_score(y_test_cls,y_pred_log)\n",
    "f1_log = f1_score(y_test_cls,y_pred_log)\n",
    "\n",
    "\n",
    "acc_knn = accuracy_score(y_test_cls,y_pred_knn)\n",
    "pre_knn = precision_score(y_test_cls,y_pred_knn)\n",
    "rec_knn = recall_score(y_test_cls,y_pred_knn)\n",
    "f1_knn = f1_score(y_test_cls,y_pred_knn)\n",
    "\n",
    "\n",
    "acc_rfc = accuracy_score(y_test_cls,y_pred_rfc)\n",
    "pre_rfc = precision_score(y_test_cls,y_pred_rfc)\n",
    "rec_rfc = recall_score(y_test_cls,y_pred_rfc)\n",
    "f1_rfc = f1_score(y_test_cls,y_pred_rfc)"
   ]
  },
  {
   "cell_type": "markdown",
   "id": "ae2828f8",
   "metadata": {},
   "source": [
    "### Table of performance metrics for Classification"
   ]
  },
  {
   "cell_type": "code",
   "execution_count": 129,
   "id": "ff26ee35",
   "metadata": {},
   "outputs": [
    {
     "data": {
      "text/html": [
       "<div>\n",
       "<style scoped>\n",
       "    .dataframe tbody tr th:only-of-type {\n",
       "        vertical-align: middle;\n",
       "    }\n",
       "\n",
       "    .dataframe tbody tr th {\n",
       "        vertical-align: top;\n",
       "    }\n",
       "\n",
       "    .dataframe thead th {\n",
       "        text-align: right;\n",
       "    }\n",
       "</style>\n",
       "<table border=\"1\" class=\"dataframe\">\n",
       "  <thead>\n",
       "    <tr style=\"text-align: right;\">\n",
       "      <th></th>\n",
       "      <th>Model</th>\n",
       "      <th>Accuracy</th>\n",
       "      <th>Precision</th>\n",
       "      <th>recall</th>\n",
       "      <th>F1_score</th>\n",
       "    </tr>\n",
       "  </thead>\n",
       "  <tbody>\n",
       "    <tr>\n",
       "      <th>0</th>\n",
       "      <td>Logistic regression</td>\n",
       "      <td>0.848780</td>\n",
       "      <td>0.813559</td>\n",
       "      <td>0.914286</td>\n",
       "      <td>0.860987</td>\n",
       "    </tr>\n",
       "    <tr>\n",
       "      <th>1</th>\n",
       "      <td>KNN</td>\n",
       "      <td>0.917073</td>\n",
       "      <td>0.915094</td>\n",
       "      <td>0.923810</td>\n",
       "      <td>0.919431</td>\n",
       "    </tr>\n",
       "    <tr>\n",
       "      <th>2</th>\n",
       "      <td>Random Forest Classifier</td>\n",
       "      <td>0.887805</td>\n",
       "      <td>0.866071</td>\n",
       "      <td>0.923810</td>\n",
       "      <td>0.894009</td>\n",
       "    </tr>\n",
       "  </tbody>\n",
       "</table>\n",
       "</div>"
      ],
      "text/plain": [
       "                      Model  Accuracy  Precision    recall  F1_score\n",
       "0       Logistic regression  0.848780   0.813559  0.914286  0.860987\n",
       "1                       KNN  0.917073   0.915094  0.923810  0.919431\n",
       "2  Random Forest Classifier  0.887805   0.866071  0.923810  0.894009"
      ]
     },
     "execution_count": 129,
     "metadata": {},
     "output_type": "execute_result"
    }
   ],
   "source": [
    "cls_df = pd.DataFrame(columns=['Model','Accuracy','Precision','recall','F1_score'])\n",
    "cls_df.loc[len(cls_df)] = ['Logistic regression',acc_log,pre_log,rec_log,f1_log]\n",
    "cls_df.loc[len(cls_df)] = ['KNN',acc_knn,pre_knn,rec_knn,f1_knn]\n",
    "cls_df.loc[len(cls_df)] = ['Random Forest Classifier',acc_rfc,pre_rfc,rec_rfc,f1_rfc]\n",
    "cls_df\n"
   ]
  },
  {
   "cell_type": "code",
   "execution_count": 132,
   "id": "12b5d881",
   "metadata": {},
   "outputs": [
    {
     "name": "stdout",
     "output_type": "stream",
     "text": [
      "Best Regression Model is Random forest Regressor because it has low MAE,MSE and high R2_score\n",
      "Best Classifier model is KNN classifier because it has high  precision,recall,accuracy and F1_score\n"
     ]
    }
   ],
   "source": [
    "print(\"Best Regression Model is Random forest Regressor because it has low MAE,MSE and high R2_score\")\n",
    "print(\"Best Classifier model is KNN classifier because it has high  precision,recall,accuracy and F1_score\")"
   ]
  },
  {
   "cell_type": "markdown",
   "id": "baaa250a",
   "metadata": {},
   "source": [
    "### Custom linear regression for multidimensional data"
   ]
  },
  {
   "cell_type": "markdown",
   "id": "da94c816",
   "metadata": {},
   "source": [
    "\n",
    "\n",
    "$$ \\text{Loss} = \\frac{1}{N} \\sum_{i=1}^{N} (y_i - (mx_i + c))^2 $$\n",
    "![Gradient Derivation](derivation.jpg)\n"
   ]
  },
  {
   "cell_type": "code",
   "execution_count": 139,
   "id": "c1be85bd",
   "metadata": {},
   "outputs": [],
   "source": [
    "import numpy as np\n",
    "class lin_reg:\n",
    "    def __init__(self):\n",
    "        self.coef = None\n",
    "        self.intercept = 0\n",
    "        self.loss_curve = []\n",
    "    \n",
    "    def fit(self,X,y,lr = 0.01,n_iter = 1000):\n",
    "        n_samples,n_features = X.shape\n",
    "        X = np.array(X)\n",
    "        y = np.array(y).reshape(-1,1)\n",
    "        \n",
    "        self.coef = np.zeros((n_features,1))\n",
    "        self.intercept = 0\n",
    "\n",
    "        for _ in  range(n_iter):\n",
    "            y_pred = np.dot(X,self.coef) + self.intercept\n",
    "\n",
    "            error = y - y_pred\n",
    "\n",
    "            dw = (-2/n_samples) * np.dot(X.T,error)\n",
    "            db = (-2/n_samples) * np.sum(error)\n",
    "\n",
    "            self.coef -= lr*dw\n",
    "            self.intercept -= lr*db\n",
    "\n",
    "            loss = (1/n_samples)*np.sum(error**2)\n",
    "            self.loss_curve.append(loss)\n",
    "\n",
    "    def predict(self,X):\n",
    "        return np.dot(X,self.coef) +self.intercept\n",
    "    def fit_transform(self,X,y,lr = 0.01,n_iter = 1000):\n",
    "        self.fit(X,y,lr,n_iter)\n",
    "        return self.predict(X)\n",
    "\n"
   ]
  },
  {
   "cell_type": "code",
   "execution_count": null,
   "id": "8d571c6e",
   "metadata": {},
   "outputs": [
    {
     "name": "stdout",
     "output_type": "stream",
     "text": [
      "Custom Coef: [1.99518035] Intercept: 0.017400463340610635\n",
      "Sklearn Coef: [2.] Intercept: 0.0\n",
      "Custom Predictions: [2.01258081 4.00776116 6.00294152 7.99812187 9.99330222]\n",
      "Sklearn Predictions: [ 2.  4.  6.  8. 10.]\n"
     ]
    }
   ],
   "source": [
    "import numpy as np\n",
    "from sklearn.linear_model import LinearRegression\n",
    "\n",
    "# Sample dataset\n",
    "X = np.array([[1], [2], [3], [4], [5]])\n",
    "y = np.array([2, 4, 6, 8, 10])\n",
    "\n",
    "my_model = lin_reg()\n",
    "my_model.fit(X, y, lr=0.01, n_iter=1000)\n",
    "y_pred_custom = my_model.predict(X)\n",
    "\n",
    "sk_model = LinearRegression()\n",
    "sk_model.fit(X, y)\n",
    "y_pred_sklearn = sk_model.predict(X)    \n",
    "\n",
    "\n",
    "print(\"Custom Coef:\", my_model.coef.flatten(), \"Intercept:\", my_model.intercept)\n",
    "print(\"Sklearn Coef:\", sk_model.coef_, \"Intercept:\", sk_model.intercept_)\n",
    "print(\"Custom Predictions:\", y_pred_custom.flatten())\n",
    "print(\"Sklearn Predictions:\", y_pred_sklearn)\n"
   ]
  },
  {
   "cell_type": "code",
   "execution_count": null,
   "id": "1f0db93e",
   "metadata": {},
   "outputs": [],
   "source": []
  }
 ],
 "metadata": {
  "kernelspec": {
   "display_name": ".venv",
   "language": "python",
   "name": "python3"
  },
  "language_info": {
   "codemirror_mode": {
    "name": "ipython",
    "version": 3
   },
   "file_extension": ".py",
   "mimetype": "text/x-python",
   "name": "python",
   "nbconvert_exporter": "python",
   "pygments_lexer": "ipython3",
   "version": "3.13.5"
  }
 },
 "nbformat": 4,
 "nbformat_minor": 5
}
