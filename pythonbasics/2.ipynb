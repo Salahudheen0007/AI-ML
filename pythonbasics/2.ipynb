{
 "cells": [
  {
   "cell_type": "code",
   "execution_count": 1,
   "id": "f7eeca71",
   "metadata": {},
   "outputs": [
    {
     "name": "stdout",
     "output_type": "stream",
     "text": [
      "hello\n"
     ]
    }
   ],
   "source": [
    "# control floww\n",
    "\n",
    "if True:\n",
    "    print(\"hello\")"
   ]
  },
  {
   "cell_type": "code",
   "execution_count": 2,
   "id": "3cc07e05",
   "metadata": {},
   "outputs": [
    {
     "name": "stdout",
     "output_type": "stream",
     "text": [
      "else block\n"
     ]
    }
   ],
   "source": [
    "if False:\n",
    "    print(\"if block exicuted\")\n",
    "else:\n",
    "    print(\"else block\")    "
   ]
  },
  {
   "cell_type": "code",
   "execution_count": 6,
   "id": "c6c8dffb",
   "metadata": {},
   "outputs": [
    {
     "name": "stdout",
     "output_type": "stream",
     "text": [
      "hello\n"
     ]
    }
   ],
   "source": [
    "if \"aaa\":\n",
    "    print(\"hello\")"
   ]
  },
  {
   "cell_type": "code",
   "execution_count": null,
   "id": "8e6c9bc7",
   "metadata": {},
   "outputs": [],
   "source": [
    "# 0,None,False all are the same\n",
    "if 0:\n",
    "    print(hello)"
   ]
  },
  {
   "cell_type": "code",
   "execution_count": null,
   "id": "653c1452",
   "metadata": {},
   "outputs": [
    {
     "name": "stdout",
     "output_type": "stream",
     "text": [
      "hello\n"
     ]
    }
   ],
   "source": [
    "#all other numbers or string oR whatever  will be true\n",
    "if -1:\n",
    "    print(\"hello\")"
   ]
  },
  {
   "cell_type": "code",
   "execution_count": null,
   "id": "fa8688ed",
   "metadata": {},
   "outputs": [
    {
     "data": {
      "text/plain": [
       "'odd'"
      ]
     },
     "execution_count": 13,
     "metadata": {},
     "output_type": "execute_result"
    }
   ],
   "source": [
    "x = int(input(\"enter the number: \"))\n",
    "print(\"even\") if (x%2 == 0) else print(\"odd\")\n"
   ]
  },
  {
   "cell_type": "code",
   "execution_count": 16,
   "id": "ccdfa5f9",
   "metadata": {},
   "outputs": [
    {
     "name": "stdout",
     "output_type": "stream",
     "text": [
      "true\n"
     ]
    }
   ],
   "source": [
    "x = int(input(\"enter the number: \"))\n",
    "if (x%2 == 0):\n",
    "    if (x%4 == 0):\n",
    "        print(\"true\")\n",
    "else:\n",
    "    if(x%9==0):\n",
    "         print(\"true\")  \n",
    "                   "
   ]
  },
  {
   "cell_type": "code",
   "execution_count": 21,
   "id": "273bac42",
   "metadata": {},
   "outputs": [
    {
     "name": "stdout",
     "output_type": "stream",
     "text": [
      "F\n"
     ]
    }
   ],
   "source": [
    "x = int(input(\"enter the number between 1 and 100: \"))\n",
    "if (x>=90):\n",
    "    print(\"A\")\n",
    "if (x>=80):\n",
    "    print(\"B\")  \n",
    "if (x>=70):\n",
    "    print(\"C\")\n",
    "if (x>=60):\n",
    "    print(\"D\")   \n",
    "if (x<60):\n",
    "    print(\"F\")    \n"
   ]
  },
  {
   "cell_type": "code",
   "execution_count": 24,
   "id": "6b25ecc7",
   "metadata": {},
   "outputs": [
    {
     "name": "stdout",
     "output_type": "stream",
     "text": [
      "negativ\n"
     ]
    }
   ],
   "source": [
    "x = int(input(\"enter the number:\" ))\n",
    "if (x == 0):\n",
    "    print(\"zero\")\n",
    "elif(x>0):\n",
    "    print(\"positive\")\n",
    "else:\n",
    "    print(\"negativ\")        "
   ]
  },
  {
   "cell_type": "code",
   "execution_count": 25,
   "id": "f0c1a46e",
   "metadata": {},
   "outputs": [
    {
     "name": "stdout",
     "output_type": "stream",
     "text": [
      "10\n",
      "9\n",
      "8\n",
      "7\n",
      "6\n",
      "5\n",
      "4\n",
      "3\n",
      "2\n",
      "1\n"
     ]
    }
   ],
   "source": [
    "x = int(input(\"number: \"))\n",
    "while(x>=1):\n",
    "    print(x)\n",
    "    x-=1"
   ]
  },
  {
   "cell_type": "code",
   "execution_count": 26,
   "id": "a111685f",
   "metadata": {},
   "outputs": [
    {
     "name": "stdout",
     "output_type": "stream",
     "text": [
      "10\n",
      "9\n",
      "8\n",
      "7\n",
      "6\n",
      "5\n",
      "4\n",
      "3\n",
      "2\n",
      "1\n"
     ]
    }
   ],
   "source": [
    "x = 10\n",
    "for i in range(10,0,-1):\n",
    "    print(i)"
   ]
  },
  {
   "cell_type": "code",
   "execution_count": 28,
   "id": "5cd991f9",
   "metadata": {},
   "outputs": [
    {
     "name": "stdout",
     "output_type": "stream",
     "text": [
      "* ** *** **** ***** ****** ******* ******** ********* ********** "
     ]
    }
   ],
   "source": [
    "from time import sleep\n",
    "for i in range(1,11):\n",
    "    sleep(.3)\n",
    "    print(\"*\"*i,end = \" \")"
   ]
  },
  {
   "cell_type": "code",
   "execution_count": null,
   "id": "4ad4679c",
   "metadata": {},
   "outputs": [],
   "source": [
    "from tqdm import tqdm\n",
    "from time import sleep\n",
    "for i in tqdm(range(1,100)):\n",
    "    sleep(0.1)\n",
    "\n",
    "\n",
    "# use google collab    "
   ]
  },
  {
   "cell_type": "code",
   "execution_count": 3,
   "id": "2eb43711",
   "metadata": {},
   "outputs": [
    {
     "name": "stdout",
     "output_type": "stream",
     "text": [
      "*****\n",
      "****\n",
      "***\n",
      "**\n",
      "*\n"
     ]
    }
   ],
   "source": [
    "for i in range(5,0,-1):\n",
    "    print(\"*\"*i)"
   ]
  },
  {
   "cell_type": "code",
   "execution_count": 17,
   "id": "3d56110e",
   "metadata": {},
   "outputs": [
    {
     "name": "stdout",
     "output_type": "stream",
     "text": [
      "          *          \n",
      "         ***         \n",
      "        *****        \n",
      "       *******       \n",
      "      *********      \n",
      "     ***********     \n",
      "    *************    \n",
      "         ***\n",
      "         ***\n",
      "         ***\n"
     ]
    }
   ],
   "source": [
    "n = int(input())\n",
    "for i in range(1,n+1):\n",
    "    if(i<=n-3):\n",
    "        print(\" \"*(n-i),\"*\"*(2*i-1),\" \"*(n-i))\n",
    "    else:    \n",
    "        print(\" \"*(n-2),\"*\"*3)    \n",
    "\n",
    "   \n"
   ]
  },
  {
   "cell_type": "code",
   "execution_count": 13,
   "id": "5a581d64",
   "metadata": {},
   "outputs": [
    {
     "name": "stdout",
     "output_type": "stream",
     "text": [
      "          *\n",
      "         **\n",
      "        ***\n",
      "       ****\n",
      "      *****\n",
      "     ******\n",
      "    *******\n",
      "   ********\n",
      "  *********\n",
      " **********\n"
     ]
    }
   ],
   "source": [
    "n = int(input())\n",
    "for i in range(1,n+1):\n",
    "    print(\" \"*(n-i),\"*\"*i)"
   ]
  },
  {
   "cell_type": "code",
   "execution_count": 18,
   "id": "a30d4451",
   "metadata": {},
   "outputs": [
    {
     "name": "stdout",
     "output_type": "stream",
     "text": [
      " ******************* \n",
      "  *****************  \n",
      "   ***************   \n",
      "    *************    \n",
      "     ***********     \n",
      "      *********      \n",
      "       *******       \n",
      "        *****        \n",
      "         ***         \n",
      "          *          \n"
     ]
    }
   ],
   "source": [
    "n = int(input())\n",
    "for i in range(n,0,-1):\n",
    "    print(\" \"*(n-i),\"*\"*(2*i-1),\" \"*(n-i))"
   ]
  },
  {
   "cell_type": "code",
   "execution_count": 21,
   "id": "8f162863",
   "metadata": {},
   "outputs": [
    {
     "name": "stdout",
     "output_type": "stream",
     "text": [
      "true\n"
     ]
    }
   ],
   "source": [
    "A = True\n",
    "while(A):\n",
    "    x = input(\"enter the email: \")\n",
    "    if (x.endswith(\"@gmail.com\")):\n",
    "        print(\"true\")\n",
    "        A = False"
   ]
  },
  {
   "cell_type": "code",
   "execution_count": null,
   "id": "df21ff3a",
   "metadata": {},
   "outputs": [],
   "source": []
  }
 ],
 "metadata": {
  "kernelspec": {
   "display_name": "Python 3",
   "language": "python",
   "name": "python3"
  },
  "language_info": {
   "codemirror_mode": {
    "name": "ipython",
    "version": 3
   },
   "file_extension": ".py",
   "mimetype": "text/x-python",
   "name": "python",
   "nbconvert_exporter": "python",
   "pygments_lexer": "ipython3",
   "version": "3.13.5"
  }
 },
 "nbformat": 4,
 "nbformat_minor": 5
}
