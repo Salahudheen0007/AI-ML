{
 "cells": [
  {
   "cell_type": "code",
   "execution_count": null,
   "id": "890484a1",
   "metadata": {},
   "outputs": [],
   "source": [
    "# object oriented\n",
    "\n",
    "\n",
    "x = 5\n",
    "print(type(x))"
   ]
  },
  {
   "cell_type": "code",
   "execution_count": null,
   "id": "fa558b78",
   "metadata": {},
   "outputs": [],
   "source": [
    "# where int is a class x = 5 is an object and the dir(x)  gives the methods and attributes\n",
    "print(dir(x))"
   ]
  },
  {
   "cell_type": "code",
   "execution_count": null,
   "id": "0f906acb",
   "metadata": {},
   "outputs": [],
   "source": [
    "a = \"shebin\"\n",
    "print(type(a))\n",
    "\n",
    "print(dir(a))\n",
    "\n",
    "print(a)\n"
   ]
  },
  {
   "cell_type": "code",
   "execution_count": null,
   "id": "a48e8a95",
   "metadata": {},
   "outputs": [],
   "source": [
    "# oops\n",
    "class Student:\n",
    "    def greet(self,name):\n",
    "        self.name = name\n",
    "        print(f\"hello, my name is {name}\")\n",
    "appu = Student()\n",
    "appu.greet(\"shebin\")\n",
    "# print(type(appu))\n"
   ]
  },
  {
   "cell_type": "code",
   "execution_count": null,
   "id": "f16ef8ab",
   "metadata": {},
   "outputs": [],
   "source": [
    "class Student:\n",
    "    def set_name(self,name,id,color):\n",
    "        self.name = name\n",
    "        self.id = id\n",
    "        self.shirtcolor = color\n",
    "\n",
    "\n",
    "    def show(self):\n",
    "        print(f\"my name is {self.name}  and my id is {self.id} and my shirt color is {self.shirtcolor}\")   \n",
    "\n",
    "\n",
    "s1 = Student()\n",
    "s1.set_name(\"shaban\",13,\"darkwhite\")\n",
    "s1.show()  \n",
    "        "
   ]
  },
  {
   "cell_type": "code",
   "execution_count": null,
   "id": "14f7304b",
   "metadata": {},
   "outputs": [],
   "source": [
    "class Neww:\n",
    "    def __init__(self):\n",
    "        print(\"hello\")\n",
    "\n",
    "a = Neww()        "
   ]
  },
  {
   "cell_type": "code",
   "execution_count": null,
   "id": "1d23965b",
   "metadata": {},
   "outputs": [],
   "source": [
    "class Student:\n",
    "    def __init__(self,name,course,id):\n",
    "        self.name = name\n",
    "        self.course = course\n",
    "        self.id = id\n",
    "\n",
    "\n",
    "    def show(self):\n",
    "        print(f\"my name is {self.name}\\nmy id is {self.id}\\nmy course is {self.course}\\n\\n\")\n",
    "\n",
    "s1 = Student(\"aaa\",12,\"ai\")\n",
    "s2 = Student(\"bbb\",10,\"ML\") \n",
    "s1.show()       \n",
    "s2.show()"
   ]
  },
  {
   "cell_type": "code",
   "execution_count": null,
   "id": "d98bb306",
   "metadata": {},
   "outputs": [],
   "source": [
    "class Employee:\n",
    "    def __init__(self,id,name,dept,salary):\n",
    "        self.id = id\n",
    "        self.name = name\n",
    "        self.dept = dept\n",
    "        self.salary = salary + salary*(10/100)\n",
    "\n",
    "\n",
    "    def show(self):\n",
    "        print(f\"id : {self.id}\\nname : {self.name}\\ndepartment : {self.dept}\\nsalary : {self.salary}\\n\\n\")\n",
    "\n",
    "    # def inc(self):\n",
    "    #     self.salary = self.sala    \n",
    "\n",
    "\n",
    "e1 = Employee(1,\"aswin\",\"AI\",25000)\n",
    "e2 = Employee(2,\"shebin\",\"ml\",35000)\n",
    "e1.show()       \n",
    "e2.show()      "
   ]
  },
  {
   "cell_type": "code",
   "execution_count": null,
   "id": "d29a6581",
   "metadata": {},
   "outputs": [],
   "source": [
    "# inheritance\n",
    "\n",
    "class mammooty:\n",
    "    def act(act): # in the place of act it will be self or anything\n",
    "        print(\"super star\")\n",
    "class dq(mammooty):\n",
    "    def dance(dance):\n",
    "        print(\"dancer\")\n",
    "\n",
    "\n",
    "son1 = dq()\n",
    "son1.act()\n",
    "son1.dance()      \n",
    "dad = mammooty()\n",
    "dad.act()          "
   ]
  },
  {
   "cell_type": "code",
   "execution_count": null,
   "id": "a10036b1",
   "metadata": {},
   "outputs": [],
   "source": [
    "# multilevel inheritance\n",
    "class animal:\n",
    "    def speak(self):\n",
    "        print(\"animal speaks\")\n",
    "\n",
    "class dog(animal):\n",
    "    def bark(self):\n",
    "        print(\"dog barks\")\n",
    "\n",
    "class bulldog(dog):\n",
    "    def guard(self):\n",
    "        print(\"bulldog guards\")\n",
    "bulldog().bark()\n",
    "b= bulldog()\n",
    "b.speak()                "
   ]
  },
  {
   "cell_type": "code",
   "execution_count": null,
   "id": "7c3039ef",
   "metadata": {},
   "outputs": [],
   "source": [
    "# to make table we use dictionary  to run this install pandas or run on collab\n",
    "import pandas as pd \n",
    "x = {\n",
    "    \"name\" : [\"appu\",\"ammu\"],\n",
    "    \"class\" : [2,3]\n",
    "}\n",
    "df = pd.DataFrame(x)\n",
    "print(df)\n",
    "# print(x)\n",
    "# print(x.keys())\n",
    "# print(list(x.values()))\n",
    "# print(x.items())"
   ]
  },
  {
   "cell_type": "code",
   "execution_count": null,
   "id": "7e5c91ba",
   "metadata": {},
   "outputs": [],
   "source": [
    "x = \"hi\",2,3\n",
    "type(x)"
   ]
  },
  {
   "cell_type": "code",
   "execution_count": null,
   "id": "fc0af90c",
   "metadata": {},
   "outputs": [],
   "source": []
  }
 ],
 "metadata": {
  "kernelspec": {
   "display_name": "Python 3",
   "language": "python",
   "name": "python3"
  },
  "language_info": {
   "codemirror_mode": {
    "name": "ipython",
    "version": 3
   },
   "file_extension": ".py",
   "mimetype": "text/x-python",
   "name": "python",
   "nbconvert_exporter": "python",
   "pygments_lexer": "ipython3",
   "version": "3.13.5"
  }
 },
 "nbformat": 4,
 "nbformat_minor": 5
}
