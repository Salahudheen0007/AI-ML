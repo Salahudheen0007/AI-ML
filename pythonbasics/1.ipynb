{
 "cells": [
  {
   "cell_type": "code",
   "execution_count": 1,
   "id": "fbb20908",
   "metadata": {},
   "outputs": [
    {
     "name": "stdout",
     "output_type": "stream",
     "text": [
      "2028\n"
     ]
    }
   ],
   "source": [
    "year  = 2025\n",
    "year  = year + 3\n",
    "print(year)"
   ]
  },
  {
   "cell_type": "code",
   "execution_count": 2,
   "id": "fe6d9e4a",
   "metadata": {},
   "outputs": [
    {
     "name": "stdout",
     "output_type": "stream",
     "text": [
      "<class 'float'>\n",
      "<class 'float'>\n"
     ]
    }
   ],
   "source": [
    "bank_interest = 7.5\n",
    "loan_interest = 9.0\n",
    "print(type(bank_interest))\n",
    "print(type(loan_interest))"
   ]
  },
  {
   "cell_type": "code",
   "execution_count": 3,
   "id": "da02b3a5",
   "metadata": {},
   "outputs": [
    {
     "name": "stdout",
     "output_type": "stream",
     "text": [
      "(3+8j)\n",
      "<class 'complex'>\n"
     ]
    }
   ],
   "source": [
    "c = 3+8j\n",
    "print(c)\n",
    "print(type(c))"
   ]
  },
  {
   "cell_type": "code",
   "execution_count": 5,
   "id": "88271802",
   "metadata": {},
   "outputs": [
    {
     "name": "stdout",
     "output_type": "stream",
     "text": [
      "November monday\n",
      "8\n"
     ]
    }
   ],
   "source": [
    "month = \"November\"\n",
    "day = \"monday\"\n",
    "print(month,day)\n",
    "print(len(month))"
   ]
  },
  {
   "cell_type": "code",
   "execution_count": 7,
   "id": "6e432f6f",
   "metadata": {},
   "outputs": [
    {
     "name": "stdout",
     "output_type": "stream",
     "text": [
      "M\n",
      "y\n"
     ]
    }
   ],
   "source": [
    "lang = \"Malayalam\"\n",
    "print(lang[0])\n",
    "print(lang[-5])"
   ]
  },
  {
   "cell_type": "code",
   "execution_count": 9,
   "id": "af0fbf6e",
   "metadata": {},
   "outputs": [
    {
     "name": "stdout",
     "output_type": "stream",
     "text": [
      "['apple', 5, 'banana']\n",
      "<class 'list'>\n"
     ]
    }
   ],
   "source": [
    "#list is the collection of elements grouped together\n",
    "digits = [0,1,2,3,4,5,6,7,8]\n",
    "vowels = ['a','e','i','0','u']\n",
    "grocery = ['apple',5,'banana']\n",
    "print(grocery)\n",
    "print(type(grocery))"
   ]
  },
  {
   "cell_type": "code",
   "execution_count": 11,
   "id": "dd3dfbd5",
   "metadata": {},
   "outputs": [
    {
     "name": "stdout",
     "output_type": "stream",
     "text": [
      "(1, 3, 4)\n",
      "3\n"
     ]
    }
   ],
   "source": [
    "#tuple  immutable\n",
    "#can't change\n",
    "my_tuple = (1,3,4)\n",
    "print(my_tuple)\n",
    "print(my_tuple[1])"
   ]
  },
  {
   "cell_type": "code",
   "execution_count": 18,
   "id": "c26cc87e",
   "metadata": {},
   "outputs": [
    {
     "name": "stdout",
     "output_type": "stream",
     "text": [
      "range(0, 10)\n",
      "[0, 1, 2, 3, 4, 5, 6, 7, 8, 9]\n",
      "(0, 1, 2, 3, 4, 5, 6, 7, 8, 9)\n",
      "range(0, 10)\n",
      "[2, 4, 6, 8]\n"
     ]
    }
   ],
   "source": [
    "# range\n",
    "print(range(10))\n",
    "print(list(range(10)))\n",
    "print(tuple(range(10)))\n",
    "print(str(range(10)))\n",
    "\n",
    "print(list(range(2,10,2)))"
   ]
  },
  {
   "cell_type": "code",
   "execution_count": 25,
   "id": "8a94e87f",
   "metadata": {},
   "outputs": [
    {
     "name": "stdout",
     "output_type": "stream",
     "text": [
      "{'institute': 'ICT', 'city': 'TVM'}\n",
      "<class 'dict'>\n",
      "ICT\n",
      "{'institute': 'ICT', 'city': 'TVM', 'state': 'kerala'}\n",
      "['institute', 'city', 'state']\n",
      "dict_values(['ICT', 'TVM', 'kerala'])\n"
     ]
    }
   ],
   "source": [
    "#dictionary   key value pairs\n",
    "# unordered mutable collection \n",
    "data = {\n",
    "    \"institute\" : \"ICT\",\n",
    "    \"city\" : \"TVM\"\n",
    "}\n",
    "print(data)\n",
    "print(type(data))\n",
    "print(data[\"institute\"])\n",
    "data[\"state\"] = \"kerala\"\n",
    "print(data)\n",
    "print(list(data.keys()))\n",
    "print(data.values())"
   ]
  },
  {
   "cell_type": "code",
   "execution_count": 28,
   "id": "e628afc4",
   "metadata": {},
   "outputs": [
    {
     "name": "stdout",
     "output_type": "stream",
     "text": [
      "{1, 4, 5}\n",
      "[]\n"
     ]
    }
   ],
   "source": [
    "#set  is an unordered collection of unique elements\n",
    "my_set = {1,4,1,5,4}\n",
    "print(my_set)\n",
    "\n",
    "#set function\n",
    "empty_set  = set()\n",
    "print(list(empty_set))"
   ]
  },
  {
   "cell_type": "code",
   "execution_count": 30,
   "id": "4a29ea8b",
   "metadata": {},
   "outputs": [
    {
     "name": "stdout",
     "output_type": "stream",
     "text": [
      "True\n",
      "False\n",
      "<class 'bool'>\n"
     ]
    }
   ],
   "source": [
    "# boolean data type\n",
    "is_sunny = True\n",
    "print(is_sunny)\n",
    "print(5>10)\n",
    "print(type(is_sunny))"
   ]
  },
  {
   "cell_type": "code",
   "execution_count": 31,
   "id": "5e71d7db",
   "metadata": {},
   "outputs": [
    {
     "name": "stdout",
     "output_type": "stream",
     "text": [
      "None\n"
     ]
    }
   ],
   "source": [
    "#none type\n",
    "status = None\n",
    "print(status)"
   ]
  },
  {
   "cell_type": "code",
   "execution_count": null,
   "id": "87f13ce0",
   "metadata": {},
   "outputs": [],
   "source": [
    "#operators in python\n",
    "# addidtion +\n",
    "# -\n",
    "# *\n",
    "# /\n",
    "# // floor division\n",
    "# %"
   ]
  },
  {
   "cell_type": "code",
   "execution_count": null,
   "id": "da1ef213",
   "metadata": {},
   "outputs": [],
   "source": [
    "# comparison operators\n",
    "# == != > < >= <=  \n",
    "\n",
    "# logical operators\n",
    "# and or not"
   ]
  },
  {
   "cell_type": "code",
   "execution_count": null,
   "id": "7d4b0f1c",
   "metadata": {},
   "outputs": [],
   "source": [
    "# membership operator\n",
    "# in   not in \n",
    "\n",
    "# is   is not     to check if they share the same memory space"
   ]
  },
  {
   "cell_type": "code",
   "execution_count": 33,
   "id": "5b677475",
   "metadata": {},
   "outputs": [
    {
     "name": "stdout",
     "output_type": "stream",
     "text": [
      "True\n",
      "False\n"
     ]
    }
   ],
   "source": [
    "def checkodd(x):\n",
    "    if(x%2!=0 and x%9 == 0):\n",
    "        return True\n",
    "    else:\n",
    "        return False\n",
    "    \n",
    "print(checkodd(9))\n",
    "print(checkodd(7))    "
   ]
  },
  {
   "cell_type": "code",
   "execution_count": 35,
   "id": "18e10b67",
   "metadata": {},
   "outputs": [
    {
     "name": "stdout",
     "output_type": "stream",
     "text": [
      "True\n",
      "True\n"
     ]
    }
   ],
   "source": [
    "a = \"salahudheen\"\n",
    "print((len(a) > 10))\n",
    "print(True if(len(a)>10) else False)"
   ]
  },
  {
   "cell_type": "code",
   "execution_count": 39,
   "id": "1b2bb858",
   "metadata": {},
   "outputs": [
    {
     "name": "stdout",
     "output_type": "stream",
     "text": [
      "False\n"
     ]
    }
   ],
   "source": [
    "x = \"malayalama\"\n",
    "print((x == x[::-1]))"
   ]
  },
  {
   "cell_type": "code",
   "execution_count": 41,
   "id": "e3f55a8d",
   "metadata": {},
   "outputs": [
    {
     "name": "stdout",
     "output_type": "stream",
     "text": [
      "3:5$"
     ]
    }
   ],
   "source": [
    "a = 3\n",
    "b = 5\n",
    "print(a,b,sep = \":\",end = \"$\")"
   ]
  },
  {
   "cell_type": "code",
   "execution_count": 2,
   "id": "62eef744",
   "metadata": {},
   "outputs": [],
   "source": [
    "x = input(\"enter thenumber\")"
   ]
  },
  {
   "cell_type": "code",
   "execution_count": null,
   "id": "dfb3844e",
   "metadata": {},
   "outputs": [
    {
     "name": "stdout",
     "output_type": "stream",
     "text": [
      "15\n",
      "5\n",
      "50\n",
      "2.0\n"
     ]
    }
   ],
   "source": [
    "def calculator(x,y):\n",
    "    print(x+y)\n",
    "    print(x-y)\n",
    "    print(x*y)\n",
    "    print(x/y)\n",
    "x = int(input(\"first\"))\n",
    "y = int(input(\"2nd\"))\n",
    "calculator(x,y)\n",
    "    "
   ]
  },
  {
   "cell_type": "code",
   "execution_count": 7,
   "id": "39bc5509",
   "metadata": {},
   "outputs": [
    {
     "name": "stdout",
     "output_type": "stream",
     "text": [
      "welcome guest, to AI ML class\n"
     ]
    }
   ],
   "source": [
    "print(\"welcome {}, to AI ML class\".format(\"guest\"))"
   ]
  },
  {
   "cell_type": "code",
   "execution_count": 9,
   "id": "1ca4c2a0",
   "metadata": {},
   "outputs": [
    {
     "name": "stdout",
     "output_type": "stream",
     "text": [
      "['welcome', 'to', 'AI', 'ML', 'class']\n"
     ]
    }
   ],
   "source": [
    "message = \"welcome to AI ML class\"\n",
    "print(message.split(\" \"))"
   ]
  },
  {
   "cell_type": "code",
   "execution_count": 11,
   "id": "ad9b7a9a",
   "metadata": {},
   "outputs": [
    {
     "name": "stdout",
     "output_type": "stream",
     "text": [
      "2_june_2025\n"
     ]
    }
   ],
   "source": [
    "data = [\"2\",\"june\",\"2025\"]\n",
    "print(\"_\".join(data))"
   ]
  },
  {
   "cell_type": "code",
   "execution_count": 12,
   "id": "35702367",
   "metadata": {},
   "outputs": [
    {
     "name": "stdout",
     "output_type": "stream",
     "text": [
      "['monday', 'tuesday']\n"
     ]
    }
   ],
   "source": [
    "weeks = [\"monday\",\"tuesday\"]\n",
    "sorted(weeks,reverse = True)\n",
    "print(weeks)"
   ]
  },
  {
   "cell_type": "code",
   "execution_count": 21,
   "id": "3cb6f8c6",
   "metadata": {},
   "outputs": [
    {
     "name": "stdout",
     "output_type": "stream",
     "text": [
      "as\n",
      "assdf\n",
      "d\n",
      "df\n"
     ]
    }
   ],
   "source": [
    "timestamp =     \"as assdf d df\"\n",
    "a = timestamp.split(\" \")\n",
    "for item in a:\n",
    "    print(item)\n"
   ]
  },
  {
   "cell_type": "code",
   "execution_count": 26,
   "id": "8ae517b0",
   "metadata": {},
   "outputs": [
    {
     "name": "stdout",
     "output_type": "stream",
     "text": [
      "one two three four "
     ]
    }
   ],
   "source": [
    "# input  : 7458\n",
    "# out : in words\n",
    "words = {\n",
    "    \"1\" : \"one\",\n",
    "    \"2\" : \"two\",\n",
    "    \"3\" : \"three\",\n",
    "    \"4\" : \"four\"\n",
    "}\n",
    "a = 1234\n",
    "a = str(a)\n",
    "for i in a:\n",
    "    print(words[i],end  = \" \")"
   ]
  },
  {
   "cell_type": "code",
   "execution_count": 29,
   "id": "b559bb5b",
   "metadata": {},
   "outputs": [
    {
     "name": "stdout",
     "output_type": "stream",
     "text": [
      "[1.0, 2.0]\n"
     ]
    }
   ],
   "source": [
    "#map function\n",
    "\n",
    "a = [\"1\",\"2\"]\n",
    "print(list(map(float,a)))"
   ]
  },
  {
   "cell_type": "code",
   "execution_count": 30,
   "id": "1a72bc92",
   "metadata": {},
   "outputs": [
    {
     "name": "stdout",
     "output_type": "stream",
     "text": [
      "[1, 4, 9]\n"
     ]
    }
   ],
   "source": [
    "#list comprehention\n",
    "\n",
    "a = [1,2,3]\n",
    "b = [x**2 for x in a]\n",
    "print(b)"
   ]
  },
  {
   "cell_type": "code",
   "execution_count": 36,
   "id": "cfbc608a",
   "metadata": {},
   "outputs": [
    {
     "name": "stdout",
     "output_type": "stream",
     "text": [
      "ict\n",
      "ict\n"
     ]
    }
   ],
   "source": [
    "a = \"ab@ict.org\"\n",
    "A = a.find(\"@\")\n",
    "B = a.find(\".\")\n",
    "print(a[A+1:B])\n",
    "\n",
    "b = a.split('@')[1].split(\".\")[0]\n",
    "print(b)"
   ]
  },
  {
   "cell_type": "code",
   "execution_count": 1,
   "id": "0e801ae7",
   "metadata": {},
   "outputs": [
    {
     "name": "stdout",
     "output_type": "stream",
     "text": [
      "hello\n"
     ]
    }
   ],
   "source": [
    "# control floww\n",
    "\n",
    "if True:\n",
    "    print(\"hello\")"
   ]
  },
  {
   "cell_type": "code",
   "execution_count": null,
   "id": "5bdabf3a",
   "metadata": {},
   "outputs": [],
   "source": []
  }
 ],
 "metadata": {
  "kernelspec": {
   "display_name": "Python 3",
   "language": "python",
   "name": "python3"
  },
  "language_info": {
   "codemirror_mode": {
    "name": "ipython",
    "version": 3
   },
   "file_extension": ".py",
   "mimetype": "text/x-python",
   "name": "python",
   "nbconvert_exporter": "python",
   "pygments_lexer": "ipython3",
   "version": "3.13.5"
  }
 },
 "nbformat": 4,
 "nbformat_minor": 5
}
