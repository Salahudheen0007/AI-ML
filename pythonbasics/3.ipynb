{
 "cells": [
  {
   "cell_type": "code",
   "execution_count": null,
   "id": "b51a6eba",
   "metadata": {},
   "outputs": [],
   "source": [
    "# int(\"10\")\n",
    "# float(\"3.1\")\n",
    "# str(10)\n",
    "# bool(0)\n",
    "# list(\"abc\")\n",
    "# tuple([1,2,3])\n",
    "# set([1,2,2])\n",
    "dict([(1,\"one\"),(2,\"two\")])\n",
    "list((1,2,3))"
   ]
  },
  {
   "cell_type": "code",
   "execution_count": null,
   "id": "000b4493",
   "metadata": {},
   "outputs": [],
   "source": [
    "abs(-5)\n",
    "pow(2,3)\n",
    "round(3.6)\n",
    "divmod(10,3)"
   ]
  },
  {
   "cell_type": "code",
   "execution_count": null,
   "id": "73006794",
   "metadata": {},
   "outputs": [],
   "source": [
    "l = [1,2,3,4]\n",
    "sum(l)"
   ]
  },
  {
   "cell_type": "code",
   "execution_count": null,
   "id": "10d3aa27",
   "metadata": {},
   "outputs": [],
   "source": [
    "min(1,2,3)\n",
    "max([2,1,0])\n",
    "sorted([8,2,5,1])\n",
    "print(range(1,6))# use for loop\n"
   ]
  },
  {
   "cell_type": "code",
   "execution_count": null,
   "id": "ef48b9a3",
   "metadata": {},
   "outputs": [],
   "source": [
    "id(10) # which gives the memory address\n",
    "isinstance(10.1,int) # to check if object is of type ->True"
   ]
  },
  {
   "cell_type": "code",
   "execution_count": null,
   "id": "79bb50d8",
   "metadata": {},
   "outputs": [],
   "source": [
    "with open (\"sample.txt\",\"w\") as f:\n",
    "    f.write(\"hello\")\n",
    "    f.close()\n",
    "with open (\"sample.txt\",\"r\") as f:\n",
    "    a = f.read()\n",
    "    print(a)\n",
    "\n",
    "\n",
    "with open (\"sample.txt\",\"a\") as f:   \n",
    "    f.write(\"world\")\n",
    "  \n",
    "\n"
   ]
  },
  {
   "cell_type": "code",
   "execution_count": null,
   "id": "d5696e3c",
   "metadata": {},
   "outputs": [],
   "source": [
    "def greet(name = \"guest\"):\n",
    "    print(f\"hello {name}\")\n",
    "greet() \n",
    "greet(\"shebin\")   "
   ]
  },
  {
   "cell_type": "code",
   "execution_count": null,
   "id": "c8d216df",
   "metadata": {},
   "outputs": [],
   "source": [
    "def multiply(a =1,b = 1):\n",
    "    return a*b\n",
    "\n",
    "multiply()\n",
    "multiply(2,)\n",
    "# multiply(,3)  this wont work\n",
    "\n",
    "multiply(2,3)\n",
    "\n"
   ]
  },
  {
   "cell_type": "code",
   "execution_count": null,
   "id": "64994e93",
   "metadata": {},
   "outputs": [],
   "source": [
    "def square(n):\n",
    "    return n**2\n",
    "square(10)"
   ]
  },
  {
   "cell_type": "code",
   "execution_count": null,
   "id": "833839e7",
   "metadata": {},
   "outputs": [],
   "source": [
    "# x = 10 # global variable\n",
    "# def fun1():\n",
    "#     x = 5 # local variable\n",
    "#     print(\"inside the function: \",x)\n",
    "\n",
    "# fun1()\n",
    "# print(f\"outside the function {x}\")    "
   ]
  },
  {
   "cell_type": "code",
   "execution_count": null,
   "id": "ff06c447",
   "metadata": {},
   "outputs": [],
   "source": [
    "# lambda function\n",
    "square1 = lambda x : x*x\n",
    "print(square1(15))"
   ]
  },
  {
   "cell_type": "code",
   "execution_count": null,
   "id": "bc918d56",
   "metadata": {},
   "outputs": [],
   "source": [
    "check = lambda x : x%2 == 0\n",
    "print(check(2))"
   ]
  },
  {
   "cell_type": "code",
   "execution_count": 1,
   "id": "34ee2ca8",
   "metadata": {},
   "outputs": [
    {
     "name": "stdout",
     "output_type": "stream",
     "text": [
      "[2, 4]\n"
     ]
    }
   ],
   "source": [
    "nums = [1,2,3,4]\n",
    "even =list(filter(lambda x : x%2 == 0,nums))\n",
    "print(even)\n"
   ]
  },
  {
   "cell_type": "code",
   "execution_count": 3,
   "id": "cc03b898",
   "metadata": {},
   "outputs": [
    {
     "name": "stdout",
     "output_type": "stream",
     "text": [
      "this fn is to add 2 numbers\n"
     ]
    }
   ],
   "source": [
    "def add(a,b):\n",
    "    \"\"\"this fn is to add 2 numbers\"\"\"\n",
    "    return a+b\n",
    "add(1,2)\n",
    "print(add.__doc__)\n"
   ]
  },
  {
   "cell_type": "code",
   "execution_count": 4,
   "id": "8cf5edb7",
   "metadata": {},
   "outputs": [
    {
     "name": "stdout",
     "output_type": "stream",
     "text": [
      "hi\n",
      "world\n"
     ]
    }
   ],
   "source": [
    "# keyword arguments\n",
    "# if no of argument is varying\n",
    "\n",
    "def print_info(*kwargs):\n",
    "    for i in kwargs:\n",
    "        print(i)\n",
    "print_info(\"hi\",\"world\")        "
   ]
  },
  {
   "cell_type": "code",
   "execution_count": null,
   "id": "ebd767ee",
   "metadata": {},
   "outputs": [],
   "source": []
  }
 ],
 "metadata": {
  "kernelspec": {
   "display_name": "Python 3",
   "language": "python",
   "name": "python3"
  },
  "language_info": {
   "codemirror_mode": {
    "name": "ipython",
    "version": 3
   },
   "file_extension": ".py",
   "mimetype": "text/x-python",
   "name": "python",
   "nbconvert_exporter": "python",
   "pygments_lexer": "ipython3",
   "version": "3.13.5"
  }
 },
 "nbformat": 4,
 "nbformat_minor": 5
}
