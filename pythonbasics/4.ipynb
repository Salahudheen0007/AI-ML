{
 "cells": [
  {
   "cell_type": "code",
   "execution_count": 22,
   "id": "39a08647",
   "metadata": {},
   "outputs": [
    {
     "name": "stdout",
     "output_type": "stream",
     "text": [
      "Writing checkoddeven.py\n"
     ]
    }
   ],
   "source": [
    "%%writefile checkoddeven.py  \n",
    "def check(x):\n",
    "    \"\"\"to check the number is odd or even\"\"\"\n",
    "    if(x%2 == 0):\n",
    "        return True\n",
    "    else:\n",
    "        return False\n",
    "    \n",
    "\n"
   ]
  },
  {
   "cell_type": "code",
   "execution_count": 3,
   "id": "b4892219",
   "metadata": {},
   "outputs": [
    {
     "data": {
      "text/plain": [
       "[1, 2, 3, 4]"
      ]
     },
     "execution_count": 3,
     "metadata": {},
     "output_type": "execute_result"
    }
   ],
   "source": [
    "x = [1,2,3]\n",
    "x.append(4)\n",
    "x"
   ]
  },
  {
   "cell_type": "code",
   "execution_count": 11,
   "id": "ca03842d",
   "metadata": {},
   "outputs": [
    {
     "name": "stdout",
     "output_type": "stream",
     "text": [
      "[1, 2, 3, 4, 5, 10, 11, 12, 13]\n"
     ]
    }
   ],
   "source": [
    "# def rem(arr):\n",
    "#     arr.remove(3)\n",
    "    # return arr\n",
    "arr = [1,2,3,4,5]\n",
    "# print(rem(arr))\n",
    "\n",
    "# def ins(arr):\n",
    "#     arr.insert(2,3)\n",
    "#     return arr\n",
    "\n",
    "\n",
    "# def app(arr):\n",
    "#     arr.append(5)\n",
    "#     return arr\n",
    "\n",
    "\n",
    "arr.extend([10,11,12,13])\n",
    "print(arr)  \n",
    "# print(ins(arr))\n",
    "# print(arr.reverse())"
   ]
  },
  {
   "cell_type": "code",
   "execution_count": 14,
   "id": "929765d4",
   "metadata": {},
   "outputs": [
    {
     "name": "stdout",
     "output_type": "stream",
     "text": [
      "None\n",
      "<list_reverseiterator object at 0x000002444C9DFAF0>\n"
     ]
    }
   ],
   "source": [
    "arr = [1,2,3,4]\n",
    "arr1 =  arr.reverse()\n",
    "print(arr1)\n",
    "a = reversed(arr)\n",
    "print(a)"
   ]
  },
  {
   "cell_type": "code",
   "execution_count": 16,
   "id": "4cf4d442",
   "metadata": {},
   "outputs": [
    {
     "data": {
      "text/plain": [
       "1.5"
      ]
     },
     "execution_count": 16,
     "metadata": {},
     "output_type": "execute_result"
    }
   ],
   "source": [
    "aa = [1,2,3,1,5]\n",
    "aa.remove(1) # remove the 1st occurance of \"1\"\n",
    "\n",
    "\n",
    "bb = [1,2,3,1.5]\n",
    "bb.pop(3)   # delete at the index"
   ]
  },
  {
   "cell_type": "code",
   "execution_count": null,
   "id": "dfd2b1c4",
   "metadata": {},
   "outputs": [
    {
     "name": "stdout",
     "output_type": "stream",
     "text": [
      "[1, 2, 3, 'hi', 'helllo']\n"
     ]
    }
   ],
   "source": [
    "x = [1,2,3]\n",
    "y = [\"hi\",\"helllo\"]\n",
    "print(x+y)"
   ]
  },
  {
   "cell_type": "code",
   "execution_count": 19,
   "id": "6add5078",
   "metadata": {},
   "outputs": [
    {
     "data": {
      "text/plain": [
       "True"
      ]
     },
     "execution_count": 19,
     "metadata": {},
     "output_type": "execute_result"
    }
   ],
   "source": [
    "import check1\n",
    "check1.check(10)"
   ]
  },
  {
   "cell_type": "code",
   "execution_count": null,
   "id": "4951ce62",
   "metadata": {},
   "outputs": [],
   "source": []
  }
 ],
 "metadata": {
  "kernelspec": {
   "display_name": "Python 3",
   "language": "python",
   "name": "python3"
  },
  "language_info": {
   "codemirror_mode": {
    "name": "ipython",
    "version": 3
   },
   "file_extension": ".py",
   "mimetype": "text/x-python",
   "name": "python",
   "nbconvert_exporter": "python",
   "pygments_lexer": "ipython3",
   "version": "3.13.5"
  }
 },
 "nbformat": 4,
 "nbformat_minor": 5
}
